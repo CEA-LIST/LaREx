{
 "cells": [
  {
   "attachments": {},
   "cell_type": "markdown",
   "metadata": {},
   "source": [
    "# General Imports"
   ]
  },
  {
   "cell_type": "code",
   "execution_count": 1,
   "metadata": {},
   "outputs": [],
   "source": [
    "%load_ext autoreload\n",
    "%autoreload 2\n",
    "%reload_ext autoreload"
   ]
  },
  {
   "cell_type": "code",
   "execution_count": 2,
   "metadata": {},
   "outputs": [],
   "source": [
    "from collections import namedtuple\n",
    "from copy import deepcopy\n",
    "import numpy as np\n",
    "import matplotlib.pyplot as plt\n",
    "import random\n",
    "import pandas as pd\n",
    "import seaborn as sns"
   ]
  },
  {
   "cell_type": "code",
   "execution_count": 3,
   "metadata": {},
   "outputs": [],
   "source": [
    "from icecream import ic"
   ]
  },
  {
   "cell_type": "code",
   "execution_count": 4,
   "metadata": {},
   "outputs": [],
   "source": [
    "import torch\n",
    "import torch.nn as nn\n",
    "import pytorch_lightning as pl\n",
    "from pytorch_lightning.callbacks import ModelCheckpoint\n",
    "from torchvision import transforms as transform_lib\n",
    "from pytorch_lightning.callbacks import TQDMProgressBar\n",
    "from torch.utils.data import Dataset\n",
    "from torch.utils.data import DataLoader"
   ]
  },
  {
   "cell_type": "code",
   "execution_count": 5,
   "metadata": {},
   "outputs": [],
   "source": [
    "from dataset.cityscapes import Cityscapes\n",
    "from dataset.cityscapes import CityscapesDataModule\n",
    "from dataset.woodscape import WoodScapeDataset\n",
    "from dataset.woodscape import WoodScapeDataModule\n",
    "from dataset import WoodScapeSoilingDataset\n",
    "from dataset import WoodScapeSoilingDataModule"
   ]
  },
  {
   "cell_type": "code",
   "execution_count": 6,
   "metadata": {},
   "outputs": [],
   "source": [
    "from utils.display_images import denormalize_img\n",
    "from utils import show_dataset_image, show_dataset_mask\n",
    "from utils import show_prediction_images, show_prediction_uncertainty_images"
   ]
  },
  {
   "cell_type": "code",
   "execution_count": 7,
   "metadata": {},
   "outputs": [],
   "source": [
    "from deeplab_v3p import DeepLabV3PlusModule\n",
    "from dropblock import DropBlock2D"
   ]
  },
  {
   "cell_type": "code",
   "execution_count": 8,
   "metadata": {},
   "outputs": [],
   "source": [
    "from ls_ood_detect.uncertainty_estimation import Hook\n",
    "from ls_ood_detect.uncertainty_estimation import deeplabv3p_get_ls_mcd_samples\n",
    "from ls_ood_detect.uncertainty_estimation import get_latent_represent_mcd_samples\n",
    "from ls_ood_detect.uncertainty_estimation import get_dl_h_z\n",
    "from ls_ood_detect.ood_detection_dataset import build_ood_detection_ds\n",
    "from ls_ood_detect.dimensionality_reduction import plot_samples_pacmap\n",
    "from ls_ood_detect.detectors import KDEClassifier, DetectorKDE\n",
    "from ls_ood_detect.score import get_hz_scores\n",
    "from ls_ood_detect.metrics import get_hz_detector_results\n",
    "from ls_ood_detect.metrics import get_ood_detector_results\n",
    "from ls_ood_detect.metrics import plot_roc_ood_detector\n",
    "from ls_ood_detect.metrics import plot_auprc_ood_detector\n",
    "from ls_ood_detect.dimensionality_reduction import plot_samples_pacmap\n",
    "from ls_ood_detect.dimensionality_reduction import apply_pca_ds_split\n",
    "from ls_ood_detect.dimensionality_reduction import apply_pca_transform"
   ]
  },
  {
   "cell_type": "code",
   "execution_count": 9,
   "metadata": {},
   "outputs": [
    {
     "name": "stdout",
     "output_type": "stream",
     "text": [
      "cuda\n"
     ]
    }
   ],
   "source": [
    "device = torch.device('cuda' if torch.cuda.is_available() else 'cpu')\n",
    "print(device)"
   ]
  },
  {
   "cell_type": "markdown",
   "metadata": {},
   "source": [
    "# Paths"
   ]
  },
  {
   "cell_type": "markdown",
   "metadata": {},
   "source": [
    "Datasets paths:"
   ]
  },
  {
   "cell_type": "code",
   "execution_count": 10,
   "metadata": {},
   "outputs": [],
   "source": [
    "cs_dataset_path = \"./Data/DATASETS/CityScapes\"\n",
    "ws_data_path = \"./Data/DATASETS/WoodScape/\"\n",
    "ws_soil_data_path = \"./Data/DATASETS/WoodScape/soiling_dataset/\""
   ]
  },
  {
   "cell_type": "markdown",
   "metadata": {},
   "source": [
    "Experiments path:"
   ]
  },
  {
   "cell_type": "code",
   "execution_count": 11,
   "metadata": {},
   "outputs": [],
   "source": [
    "exp_path = \"./Data/EXPERIMENTS/CVPR-2024/semantic_segmentation/\""
   ]
  },
  {
   "cell_type": "markdown",
   "metadata": {},
   "source": [
    "Resnet Classification Model Number & checkpoint:"
   ]
  },
  {
   "cell_type": "code",
   "execution_count": 12,
   "metadata": {},
   "outputs": [],
   "source": [
    "exp_model_name = \"deeplabv3p-cityscapes/\""
   ]
  },
  {
   "cell_type": "code",
   "execution_count": null,
   "metadata": {},
   "outputs": [],
   "source": [
    "cs_dlv3p_path = exp_path + exp_model_name + \"models/version_158692/checkpoints/epoch=403-step=18584.ckpt\"\n",
    "cs_dlv3p_path"
   ]
  },
  {
   "cell_type": "markdown",
   "metadata": {},
   "source": [
    "**Baseline models path:**"
   ]
  },
  {
   "cell_type": "code",
   "execution_count": 14,
   "metadata": {},
   "outputs": [],
   "source": [
    "baseline_methods_path = \"OoD_detection_baselines/\""
   ]
  },
  {
   "cell_type": "markdown",
   "metadata": {},
   "source": [
    "Detection Baselines Samples Paths:"
   ]
  },
  {
   "cell_type": "code",
   "execution_count": 15,
   "metadata": {},
   "outputs": [],
   "source": [
    "baselines_samples_path = \"OoD_detection_baselines/\""
   ]
  },
  {
   "cell_type": "code",
   "execution_count": null,
   "metadata": {},
   "outputs": [],
   "source": [
    "predicted_uncertainty_path = exp_path + exp_model_name + baseline_methods_path + \"predicted_uncertainty/\"\n",
    "predicted_uncertainty_path"
   ]
  },
  {
   "cell_type": "code",
   "execution_count": null,
   "metadata": {},
   "outputs": [],
   "source": [
    "msp_score_path = exp_path + exp_model_name + baseline_methods_path + \"msp_score/\"\n",
    "msp_score_path"
   ]
  },
  {
   "cell_type": "code",
   "execution_count": null,
   "metadata": {},
   "outputs": [],
   "source": [
    "energy_score_path = exp_path + exp_model_name + baseline_methods_path + \"energy_score/\"\n",
    "energy_score_path"
   ]
  },
  {
   "cell_type": "code",
   "execution_count": null,
   "metadata": {},
   "outputs": [],
   "source": [
    "m_dist_score_path = exp_path + exp_model_name + baseline_methods_path + \"mahalanobis_dist_score/\"\n",
    "m_dist_score_path"
   ]
  },
  {
   "cell_type": "code",
   "execution_count": null,
   "metadata": {},
   "outputs": [],
   "source": [
    "m_dist_penultimate_layer_score_path = exp_path + exp_model_name + baseline_methods_path + \"mahalanobis_dist_penultimate_layer_score/\"\n",
    "m_dist_penultimate_layer_score_path"
   ]
  },
  {
   "cell_type": "code",
   "execution_count": null,
   "metadata": {},
   "outputs": [],
   "source": [
    "knn_dist_score_path = exp_path + exp_model_name + baseline_methods_path + \"knn_dist_score/\"\n",
    "knn_dist_score_path"
   ]
  },
  {
   "cell_type": "code",
   "execution_count": null,
   "metadata": {},
   "outputs": [],
   "source": [
    "knn_dist_penultimate_layer_score_path = exp_path + exp_model_name + baseline_methods_path + \"knn_dist_penultimate_layer_score/\"\n",
    "knn_dist_penultimate_layer_score_path"
   ]
  },
  {
   "attachments": {},
   "cell_type": "markdown",
   "metadata": {},
   "source": [
    "# Datasets"
   ]
  },
  {
   "cell_type": "markdown",
   "metadata": {},
   "source": [
    "## Cityscapes"
   ]
  },
  {
   "cell_type": "markdown",
   "metadata": {},
   "source": [
    "### Datamodules"
   ]
  },
  {
   "cell_type": "code",
   "execution_count": 21,
   "metadata": {},
   "outputs": [],
   "source": [
    "batch_size = 1"
   ]
  },
  {
   "cell_type": "markdown",
   "metadata": {},
   "source": [
    "__Cityscapes img_size (256, 512)__"
   ]
  },
  {
   "cell_type": "code",
   "execution_count": 22,
   "metadata": {},
   "outputs": [],
   "source": [
    "cs_dm_normal_dlv3p = CityscapesDataModule(data_dir=cs_dataset_path,\n",
    "                                          batch_size=batch_size,\n",
    "                                          target_type='semantic',\n",
    "                                          img_size=(256, 512),\n",
    "                                          num_workers=10,\n",
    "                                          drop_last=True,\n",
    "                                          default_transforms=False, # Here this should be True!\n",
    "                                          default_img_mask_transforms=True) # And here this should be False!"
   ]
  },
  {
   "cell_type": "markdown",
   "metadata": {},
   "source": [
    "__Cityscapes img_size (483, 640)__"
   ]
  },
  {
   "cell_type": "code",
   "execution_count": null,
   "metadata": {},
   "outputs": [],
   "source": [
    "\n",
    "cs_483640_dm_dlv3p = CityscapesDataModule(data_dir=cs_dataset_path,\n",
    "                                          batch_size=batch_size,\n",
    "                                          target_type='semantic',\n",
    "                                          img_size=(483, 640),\n",
    "                                          num_workers=10,\n",
    "                                          drop_last=True,\n",
    "                                          default_transforms=True, # Here this should be True!\n",
    "                                          default_img_mask_transforms=False) # And here this should be False!        "
   ]
  },
  {
   "cell_type": "markdown",
   "metadata": {},
   "source": [
    "__Cityscapes-Anomalies img_size (256, 512)__"
   ]
  },
  {
   "cell_type": "code",
   "execution_count": 23,
   "metadata": {},
   "outputs": [],
   "source": [
    "cs_dm_anomal_dlv3p = CityscapesDataModule(data_dir=cs_dataset_path,\n",
    "                                          batch_size=batch_size,\n",
    "                                          target_type='semantic',\n",
    "                                          img_size=(256, 512),\n",
    "                                          num_workers=10,\n",
    "                                          drop_last=True,\n",
    "                                          default_transforms=False, # Here this should be False!\n",
    "                                          default_img_mask_transforms=True) # And here this should be True! (Enable Anomalies)"
   ]
  },
  {
   "cell_type": "markdown",
   "metadata": {},
   "source": [
    "### Cityscapes Dataloaders"
   ]
  },
  {
   "cell_type": "code",
   "execution_count": 24,
   "metadata": {},
   "outputs": [],
   "source": [
    "cs_dlv3p_train_loader = cs_dm_normal_dlv3p.train_dataloader()\n",
    "cs_dlv3p_valid_loader = cs_dm_normal_dlv3p.val_dataloader()\n",
    "cs_dlv3p_test_loader = cs_dm_normal_dlv3p.test_dataloader()"
   ]
  },
  {
   "cell_type": "code",
   "execution_count": 25,
   "metadata": {},
   "outputs": [],
   "source": [
    "cs_dlv3p_anomaly_valid_loader = cs_dm_anomal_dlv3p.anomaly_val_dataloader()\n",
    "cs_dlv3p_anomaly_test_loader = cs_dm_anomal_dlv3p.anomaly_test_dataloader()"
   ]
  },
  {
   "cell_type": "code",
   "execution_count": null,
   "metadata": {},
   "outputs": [],
   "source": [
    "cs_483640_dlv3p_valid_loader = cs_483640_dm_dlv3p.val_dataloader()\n",
    "cs_483640_dlv3p_test_loader = cs_483640_dm_dlv3p.test_dataloader()"
   ]
  },
  {
   "cell_type": "code",
   "execution_count": 26,
   "metadata": {},
   "outputs": [
    {
     "name": "stderr",
     "output_type": "stream",
     "text": [
      "ic| len(cs_dlv3p_train_loader): 2975\n",
      "ic| len(cs_dlv3p_valid_loader): 500\n",
      "ic| len(cs_dlv3p_test_loader): 1525\n",
      "ic| len(cs_dlv3p_anomaly_valid_loader): 500\n",
      "ic| len(cs_dlv3p_anomaly_test_loader): 1525\n"
     ]
    }
   ],
   "source": [
    "ic(len(cs_dlv3p_train_loader));\n",
    "ic(len(cs_dlv3p_valid_loader));\n",
    "ic(len(cs_dlv3p_test_loader));\n",
    "ic(len(cs_dlv3p_anomaly_valid_loader));\n",
    "ic(len(cs_dlv3p_anomaly_test_loader));\n",
    "# ic(len(cs_483640_dlv3p_valid_loader));\n",
    "# ic(len(cs_483640_dlv3p_test_loader));"
   ]
  },
  {
   "cell_type": "markdown",
   "metadata": {},
   "source": [
    "## Woodscape"
   ]
  },
  {
   "cell_type": "markdown",
   "metadata": {},
   "source": [
    "### Datamodules"
   ]
  },
  {
   "cell_type": "code",
   "execution_count": 27,
   "metadata": {},
   "outputs": [],
   "source": [
    "batch_size = 1\n",
    "\n",
    "cmap = {0: [0, 0, 0],  # \"void\"\n",
    "        1: [128, 64, 128],  # \"road\",\n",
    "        2: [69, 76, 11],  # \"lanemarks\",\n",
    "        3: [0, 255, 0],  # \"curb\",\n",
    "        4: [220, 20, 60],  # \"person\",\n",
    "        5: [255, 0, 0],  # \"rider\",\n",
    "        6: [0, 0, 142],  # \"vehicles\",\n",
    "        7: [119, 11, 32],  # \"bicycle\",\n",
    "        8: [0, 0, 230],  # \"motorcycle\",\n",
    "        9: [220, 220, 0]  # \"traffic_sign\",\n",
    "        }\n",
    "\n",
    "# same values as in VainF Repository! - Probably not the best Values for Woodscapes!\n",
    "ws_dlv3p_norm_mean = [0.485, 0.456, 0.406]\n",
    "ws_dlv3p_norm_std = [0.229, 0.224, 0.225]"
   ]
  },
  {
   "cell_type": "markdown",
   "metadata": {},
   "source": [
    "__Woodscape img_size (483, 640)__"
   ]
  },
  {
   "cell_type": "code",
   "execution_count": null,
   "metadata": {},
   "outputs": [
    {
     "name": "stdout",
     "output_type": "stream",
     "text": [
      "DATASET Shuffle Random SEED:  9290\n"
     ]
    }
   ],
   "source": [
    "ws_dm_normal_dlv3p = WoodScapeDataModule(dataset_dir=ws_data_path,\n",
    "                                         img_size=(483, 640),\n",
    "                                         batch_size=batch_size,\n",
    "                                         default_transforms=True,\n",
    "                                         label_colours=cmap,\n",
    "                                         norm_mean=ws_dlv3p_norm_mean,\n",
    "                                         norm_std=ws_dlv3p_norm_std,\n",
    "                                         seed=9290,\n",
    "                                         drop_last=True)\n",
    "ws_dm_normal_dlv3p.setup()"
   ]
  },
  {
   "cell_type": "markdown",
   "metadata": {},
   "source": [
    "__Woodscape img_size (256, 512)__"
   ]
  },
  {
   "cell_type": "code",
   "execution_count": 28,
   "metadata": {},
   "outputs": [
    {
     "name": "stdout",
     "output_type": "stream",
     "text": [
      "DATASET Shuffle Random SEED:  9290\n"
     ]
    }
   ],
   "source": [
    "ws_dm_normal_dlv3p_256_512 = WoodScapeDataModule(dataset_dir=ws_data_path,\n",
    "                                         img_size=(256, 512),\n",
    "                                         batch_size=batch_size,\n",
    "                                         default_transforms=True,\n",
    "                                         label_colours=cmap,\n",
    "                                         norm_mean=ws_dlv3p_norm_mean,\n",
    "                                         norm_std=ws_dlv3p_norm_std,\n",
    "                                         seed=9290,\n",
    "                                         drop_last=True)\n",
    "ws_dm_normal_dlv3p_256_512.setup()"
   ]
  },
  {
   "cell_type": "markdown",
   "metadata": {},
   "source": [
    "__Woodscape-Anomalies img_size (483, 640)__"
   ]
  },
  {
   "cell_type": "code",
   "execution_count": null,
   "metadata": {},
   "outputs": [
    {
     "name": "stdout",
     "output_type": "stream",
     "text": [
      "DATASET Shuffle Random SEED:  9290\n"
     ]
    }
   ],
   "source": [
    "ws_dm_anomal_dlv3p = WoodScapeDataModule(dataset_dir=ws_data_path,\n",
    "                                         img_size=(483, 640),\n",
    "                                         batch_size=batch_size,\n",
    "                                         default_transforms=True,\n",
    "                                         label_colours=cmap,\n",
    "                                         norm_mean=ws_dlv3p_norm_mean,\n",
    "                                         norm_std=ws_dlv3p_norm_std,\n",
    "                                         seed=9290,\n",
    "                                         drop_last=True)\n",
    "ws_dm_anomal_dlv3p.setup()"
   ]
  },
  {
   "cell_type": "markdown",
   "metadata": {},
   "source": [
    "### Woodscape dataloaders"
   ]
  },
  {
   "cell_type": "code",
   "execution_count": null,
   "metadata": {},
   "outputs": [],
   "source": [
    "ws_dlv3p_train_loader = ws_dm_normal_dlv3p.train_dataloader()\n",
    "ws_dlv3p_valid_loader = ws_dm_normal_dlv3p.val_dataloader()\n",
    "ws_dlv3p_test_loader = ws_dm_normal_dlv3p.test_dataloader()"
   ]
  },
  {
   "cell_type": "code",
   "execution_count": null,
   "metadata": {},
   "outputs": [],
   "source": [
    "ws_dlv3p_anomaly_valid_loader = ws_dm_anomal_dlv3p.anomaly_val_dataloader()\n",
    "ws_dlv3p_anomaly_test_loader = ws_dm_anomal_dlv3p.anomaly_test_dataloader()"
   ]
  },
  {
   "cell_type": "code",
   "execution_count": 30,
   "metadata": {},
   "outputs": [],
   "source": [
    "ws_256512_dlv3p_valid_loader = ws_dm_normal_dlv3p_256_512.val_dataloader()\n",
    "ws_256512_dlv3p_test_loader = ws_dm_normal_dlv3p_256_512.test_dataloader()"
   ]
  },
  {
   "cell_type": "code",
   "execution_count": 31,
   "metadata": {},
   "outputs": [
    {
     "name": "stderr",
     "output_type": "stream",
     "text": [
      "ic| len(ws_256512_dlv3p_valid_loader): 1482\n",
      "ic| len(ws_256512_dlv3p_test_loader): 823\n"
     ]
    }
   ],
   "source": [
    "ic(len(ws_256512_dlv3p_valid_loader));\n",
    "ic(len(ws_256512_dlv3p_test_loader));"
   ]
  },
  {
   "cell_type": "markdown",
   "metadata": {},
   "source": [
    "## Woodscape-Soiling"
   ]
  },
  {
   "cell_type": "markdown",
   "metadata": {},
   "source": [
    "### Datamodules"
   ]
  },
  {
   "cell_type": "markdown",
   "metadata": {},
   "source": [
    "__Woodscape Soling OoD DeeplabV3+ (483, 640)__"
   ]
  },
  {
   "cell_type": "code",
   "execution_count": 34,
   "metadata": {},
   "outputs": [
    {
     "name": "stderr",
     "output_type": "stream",
     "text": [
      "ic| len(self.rgb_soil_images_list): 4000\n",
      "ic| len(self.soil_annotations_gt_list): 4000\n",
      "ic| len(self.soil_annotations_rgb_list): 4000\n",
      "ic| dataset_train_len: 4000\n",
      "ic| len(self.rgb_soil_images_list): 1000\n",
      "ic| len(self.soil_annotations_gt_list): 1000\n",
      "ic| len(self.soil_annotations_rgb_list): 1000\n",
      "ic| dataset_test_len: 1000\n"
     ]
    },
    {
     "name": "stdout",
     "output_type": "stream",
     "text": [
      "DATASET Shuffle Random SEED:  9290\n"
     ]
    }
   ],
   "source": [
    "woodscape_soil_483640_dm = WoodScapeSoilingDataModule(dataset_dir=ws_soil_data_path,\n",
    "                                                      img_size=(483, 640),\n",
    "                                                      batch_size=1,\n",
    "                                                      default_transforms=True,\n",
    "                                                      seed=9290)\n",
    "woodscape_soil_483640_dm.setup()"
   ]
  },
  {
   "cell_type": "markdown",
   "metadata": {},
   "source": [
    "__Woodscape Soling OoD DeeplabV3+ (256, 512)__"
   ]
  },
  {
   "cell_type": "code",
   "execution_count": 32,
   "metadata": {},
   "outputs": [
    {
     "name": "stderr",
     "output_type": "stream",
     "text": [
      "ic| len(self.rgb_soil_images_list): 4000\n",
      "ic| len(self.soil_annotations_gt_list): 4000\n",
      "ic| len(self.soil_annotations_rgb_list): 4000\n",
      "ic| dataset_train_len: 4000\n",
      "ic| len(self.rgb_soil_images_list): 1000\n",
      "ic| len(self.soil_annotations_gt_list): 1000\n",
      "ic| len(self.soil_annotations_rgb_list): 1000\n",
      "ic| dataset_test_len: 1000\n"
     ]
    },
    {
     "name": "stdout",
     "output_type": "stream",
     "text": [
      "DATASET Shuffle Random SEED:  9290\n"
     ]
    }
   ],
   "source": [
    "woodscape_soil_256512_dm = WoodScapeSoilingDataModule(dataset_dir=ws_soil_data_path,\n",
    "                                                      img_size=(256, 512),\n",
    "                                                      batch_size=1,\n",
    "                                                      default_transforms=True,\n",
    "                                                      seed=9290)\n",
    "woodscape_soil_256512_dm.setup()"
   ]
  },
  {
   "cell_type": "markdown",
   "metadata": {},
   "source": [
    "### Dataloaders"
   ]
  },
  {
   "cell_type": "code",
   "execution_count": null,
   "metadata": {},
   "outputs": [],
   "source": [
    "ws_soiling_483640_valid_loader = woodscape_soil_483640_dm.val_dataloader()\n",
    "ws_soiling_483640_test_loader = woodscape_soil_483640_dm.test_dataloader()"
   ]
  },
  {
   "cell_type": "code",
   "execution_count": 33,
   "metadata": {},
   "outputs": [],
   "source": [
    "ws_soiling_256512_valid_loader = woodscape_soil_256512_dm.val_dataloader()\n",
    "ws_soiling_256512_test_loader = woodscape_soil_256512_dm.test_dataloader()"
   ]
  },
  {
   "cell_type": "code",
   "execution_count": 34,
   "metadata": {},
   "outputs": [
    {
     "name": "stderr",
     "output_type": "stream",
     "text": [
      "ic| len(ws_soiling_256512_valid_loader): 800\n",
      "ic| len(ws_soiling_256512_test_loader): 1000\n"
     ]
    }
   ],
   "source": [
    "# ic(len(ws_soiling_483640_valid_loader));\n",
    "# ic(len(ws_soiling_483640_test_loader));\n",
    "ic(len(ws_soiling_256512_valid_loader));\n",
    "ic(len(ws_soiling_256512_test_loader));"
   ]
  },
  {
   "attachments": {},
   "cell_type": "markdown",
   "metadata": {},
   "source": [
    "# Deeplabv3+ Cityscapes Trained Model"
   ]
  },
  {
   "cell_type": "code",
   "execution_count": 188,
   "metadata": {},
   "outputs": [],
   "source": [
    "cs_dlv3p_model = DeepLabV3PlusModule.load_from_checkpoint(checkpoint_path=cs_dlv3p_path)"
   ]
  },
  {
   "cell_type": "code",
   "execution_count": 189,
   "metadata": {},
   "outputs": [],
   "source": [
    "cs_dlv3p_model;"
   ]
  },
  {
   "cell_type": "code",
   "execution_count": 190,
   "metadata": {},
   "outputs": [
    {
     "name": "stderr",
     "output_type": "stream",
     "text": [
      "ic| cs_dlv3p_model.pred_loss_type: 'focal_loss'\n",
      "ic| cs_dlv3p_model.n_class: 20\n"
     ]
    }
   ],
   "source": [
    "ic(cs_dlv3p_model.pred_loss_type);\n",
    "ic(cs_dlv3p_model.n_class);"
   ]
  },
  {
   "cell_type": "code",
   "execution_count": 191,
   "metadata": {},
   "outputs": [],
   "source": [
    "cs_dlv3p_model.eval();"
   ]
  },
  {
   "cell_type": "markdown",
   "metadata": {},
   "source": [
    "# Dataset Distribution Shift Detection Baselines"
   ]
  },
  {
   "cell_type": "code",
   "execution_count": 41,
   "metadata": {},
   "outputs": [
    {
     "name": "stderr",
     "output_type": "stream",
     "text": [
      "ic| len(cs_dlv3p_train_loader): 2975\n",
      "ic| len(cs_dlv3p_valid_loader): 500\n"
     ]
    },
    {
     "name": "stderr",
     "output_type": "stream",
     "text": [
      "ic| len(cs_dlv3p_test_loader): 1525\n",
      "ic| '========================================'\n",
      "ic| len(cs_dlv3p_anomaly_valid_loader): 500\n",
      "ic| len(cs_dlv3p_anomaly_test_loader): 1525\n",
      "ic| '========================================'\n",
      "ic| len(ws_256512_dlv3p_valid_loader): 1482\n",
      "ic| len(ws_256512_dlv3p_test_loader): 823\n",
      "ic| '========================================'\n",
      "ic| len(ws_soiling_256512_valid_loader): 800\n",
      "ic| len(ws_soiling_256512_test_loader): 1000\n"
     ]
    }
   ],
   "source": [
    "ic(len(cs_dlv3p_train_loader));\n",
    "ic(len(cs_dlv3p_valid_loader));\n",
    "ic(len(cs_dlv3p_test_loader));\n",
    "ic(\"========================================\");\n",
    "ic(len(cs_dlv3p_anomaly_valid_loader));\n",
    "ic(len(cs_dlv3p_anomaly_test_loader));\n",
    "ic(\"========================================\");\n",
    "ic(len(ws_256512_dlv3p_valid_loader));\n",
    "ic(len(ws_256512_dlv3p_test_loader));\n",
    "ic(\"========================================\");\n",
    "ic(len(ws_soiling_256512_valid_loader));\n",
    "ic(len(ws_soiling_256512_test_loader));"
   ]
  },
  {
   "cell_type": "markdown",
   "metadata": {},
   "source": [
    "## Mahalanobis Distance Score"
   ]
  },
  {
   "cell_type": "code",
   "execution_count": 42,
   "metadata": {},
   "outputs": [],
   "source": [
    "class Hook:\n",
    "    \"\"\"\n",
    "    Hook class that returns the input and output of a layer during forward/backward pass\n",
    "    \"\"\"\n",
    "    def __init__(self, module: torch.nn.Module, backward: bool = False):\n",
    "        \"\"\"\n",
    "        Hook Class constructor\n",
    "        :param module: Layer block from Neural Network Module\n",
    "        :type module: torch.nn.Module\n",
    "        :param backward: backward-poss hook\n",
    "        :type backward: bool\n",
    "        \"\"\"\n",
    "        self.input = None\n",
    "        self.output = None\n",
    "        if not backward:\n",
    "            self.hook = module.register_forward_hook(self.hook_fn)\n",
    "        else:\n",
    "            self.hook = module.register_backward_hook(self.hook_fn)\n",
    "\n",
    "    def hook_fn(self, module, input, output):\n",
    "        self.input = input\n",
    "        self.output = output\n",
    "\n",
    "    def close(self):\n",
    "        self.hook.remove()"
   ]
  },
  {
   "cell_type": "code",
   "execution_count": 43,
   "metadata": {},
   "outputs": [],
   "source": [
    "from sklearn.covariance import EmpiricalCovariance\n",
    "\n",
    "class MDSPostprocessor:\n",
    "    def __init__(self,\n",
    "                 num_classes: int = 43,\n",
    "                 setup_flag: bool = False,\n",
    "                 get_2d_rep_mean: bool = False):\n",
    "        # self.config = config\n",
    "        # self.num_classes = num_classes_dict[self.config.dataset.name]\n",
    "        self.num_classes = num_classes\n",
    "        self.setup_flag = setup_flag\n",
    "        self.get_2d_rep_mean = get_2d_rep_mean\n",
    "        self.feats_mean = None\n",
    "        self.precision = None\n",
    "\n",
    "    def setup(self,\n",
    "              dnn_model: nn.Module,\n",
    "              ind_dataloader,\n",
    "              layer_hook):\n",
    "        \n",
    "        if not self.setup_flag:\n",
    "            # estimate mean and variance from training set\n",
    "            print('\\n Estimating mean and variance from training set...')\n",
    "            all_feats = []\n",
    "            all_labels = []\n",
    "            all_preds = []\n",
    "            centered_data = []\n",
    "            # get features/representations:\n",
    "            device = torch.device('cuda' if torch.cuda.is_available() else 'cpu')\n",
    "            dnn_model.to(device)\n",
    "            # get features:\n",
    "            with torch.no_grad():\n",
    "                for i, (image, label) in enumerate(ind_dataloader):\n",
    "                    image = image.to(device)\n",
    "                    # label = label.to(device)\n",
    "                    pred_logits = dnn_model(image)\n",
    "                    # latent_rep = torch.flatten(layer_hook.output, 1)  # latent representation sample\n",
    "                    latent_rep = layer_hook.output  # latent representation sample\n",
    "                \n",
    "                    if self.get_2d_rep_mean:\n",
    "                        # Get image HxW mean:\n",
    "                        latent_rep = torch.mean(latent_rep, dim=2, keepdim=True)\n",
    "                        latent_rep = torch.mean(latent_rep, dim=3, keepdim=True)\n",
    "                        # Remove useless dimensions:\n",
    "                        latent_rep = torch.squeeze(latent_rep, dim=2)\n",
    "                        latent_rep = torch.squeeze(latent_rep, dim=2)\n",
    "\n",
    "                    all_feats.append(latent_rep.cpu())\n",
    "                    all_labels.append(deepcopy(label))\n",
    "                    all_preds.append(pred_logits.argmax(1).cpu())\n",
    "                    \n",
    "            all_feats = torch.cat(all_feats)\n",
    "            all_labels = torch.cat(all_labels)\n",
    "            all_preds = torch.cat(all_preds)\n",
    "            \n",
    "            self.feats_mean = all_feats.mean(0)\n",
    "            centered_data.append(all_feats - self.feats_mean.view(1, -1))\n",
    "            self.centered_data = torch.cat(centered_data)\n",
    "              \n",
    "            group_lasso = EmpiricalCovariance(assume_centered=False)\n",
    "            group_lasso.fit(self.centered_data.cpu().numpy().astype(np.float32))\n",
    "            \n",
    "            self.precision = torch.from_numpy(group_lasso.precision_).float()\n",
    "            self.setup_flag = True\n",
    "            \n",
    "            # we need to use:\n",
    "            # self.feats_mean & self.precision\n",
    "        else:\n",
    "            pass\n",
    "\n",
    "    @torch.no_grad()\n",
    "    def postprocess(self,\n",
    "                    dnn_model: nn.Module,\n",
    "                    dataloader: DataLoader,\n",
    "                    layer_hook):\n",
    "        \n",
    "        # all_preds = []\n",
    "        all_conf_score = []\n",
    "        device = torch.device('cuda' if torch.cuda.is_available() else 'cpu')\n",
    "        dnn_model.to(device)\n",
    "        \n",
    "        for i, (image, label) in enumerate(dataloader):\n",
    "            image = image.to(device)\n",
    "            pred_logits = dnn_model(image)\n",
    "            # latent_rep = layer_hook.output\n",
    "            latent_rep = layer_hook.output  # latent representation sample\n",
    "        \n",
    "            if self.get_2d_rep_mean:\n",
    "                # Get image HxW mean:\n",
    "                latent_rep = torch.mean(latent_rep, dim=2, keepdim=True)\n",
    "                latent_rep = torch.mean(latent_rep, dim=3, keepdim=True)\n",
    "                # Remove useless dimensions:\n",
    "                latent_rep = torch.squeeze(latent_rep, dim=2)\n",
    "                latent_rep = torch.squeeze(latent_rep, dim=2)\n",
    "\n",
    "            diff_t = latent_rep.cpu() - self.feats_mean.view(1, -1)\n",
    "            # diff_t = latent_rep.cpu() - self.feats_mean\n",
    "            conf_score = -torch.matmul(torch.matmul(diff_t, self.precision),\n",
    "                                  diff_t.t()).diag()\n",
    "            \n",
    "            all_conf_score.append(conf_score)\n",
    "            \n",
    "        all_conf_score_t = torch.cat(all_conf_score)\n",
    "        \n",
    "        return all_conf_score_t"
   ]
  },
  {
   "cell_type": "code",
   "execution_count": 90,
   "metadata": {},
   "outputs": [
    {
     "name": "stderr",
     "output_type": "stream",
     "text": [
      "ic| len(cs_dlv3p_train_loader): 2975\n",
      "ic| len(cs_dlv3p_valid_loader): 500\n"
     ]
    },
    {
     "name": "stderr",
     "output_type": "stream",
     "text": [
      "ic| len(cs_dlv3p_test_loader): 1525\n",
      "ic| '========================================'\n",
      "ic| len(cs_dlv3p_anomaly_valid_loader): 500\n",
      "ic| len(cs_dlv3p_anomaly_test_loader): 1525\n",
      "ic| '========================================'\n",
      "ic| len(ws_256512_dlv3p_valid_loader): 1482\n",
      "ic| len(ws_256512_dlv3p_test_loader): 823\n",
      "ic| '========================================'\n",
      "ic| len(ws_soiling_256512_valid_loader): 800\n",
      "ic| len(ws_soiling_256512_test_loader): 1000\n"
     ]
    }
   ],
   "source": [
    "ic(len(cs_dlv3p_train_loader));\n",
    "ic(len(cs_dlv3p_valid_loader));\n",
    "ic(len(cs_dlv3p_test_loader));\n",
    "ic(\"========================================\");\n",
    "ic(len(cs_dlv3p_anomaly_valid_loader));\n",
    "ic(len(cs_dlv3p_anomaly_test_loader));\n",
    "ic(\"========================================\");\n",
    "ic(len(ws_256512_dlv3p_valid_loader));\n",
    "ic(len(ws_256512_dlv3p_test_loader));\n",
    "ic(\"========================================\");\n",
    "ic(len(ws_soiling_256512_valid_loader));\n",
    "ic(len(ws_soiling_256512_test_loader));"
   ]
  },
  {
   "cell_type": "code",
   "execution_count": 45,
   "metadata": {},
   "outputs": [],
   "source": [
    "cs_dlv3p_model;"
   ]
  },
  {
   "cell_type": "markdown",
   "metadata": {},
   "source": [
    "### Add Model Hook"
   ]
  },
  {
   "cell_type": "code",
   "execution_count": 92,
   "metadata": {},
   "outputs": [],
   "source": [
    "cs_dlv3p_hook_dropblock2d_layer = Hook(cs_dlv3p_model.deeplab_v3plus_model.drop_block1)"
   ]
  },
  {
   "cell_type": "markdown",
   "metadata": {},
   "source": [
    "### Mahalanobis Distance Setup"
   ]
  },
  {
   "cell_type": "code",
   "execution_count": 93,
   "metadata": {},
   "outputs": [],
   "source": [
    "m_dist_cs_dlv3p = MDSPostprocessor(num_classes=1, setup_flag=False, get_2d_rep_mean=True)"
   ]
  },
  {
   "cell_type": "code",
   "execution_count": 95,
   "metadata": {},
   "outputs": [
    {
     "name": "stdout",
     "output_type": "stream",
     "text": [
      "\n",
      " Estimating mean and variance from training set...\n"
     ]
    }
   ],
   "source": [
    "m_dist_cs_dlv3p.setup(cs_dlv3p_model.deeplab_v3plus_model,\n",
    "                      cs_dlv3p_train_loader,\n",
    "                      layer_hook=cs_dlv3p_hook_dropblock2d_layer)"
   ]
  },
  {
   "cell_type": "code",
   "execution_count": 97,
   "metadata": {},
   "outputs": [
    {
     "name": "stderr",
     "output_type": "stream",
     "text": [
      "ic| m_dist_cs_dlv3p.feats_mean.shape: torch.Size([2048])\n",
      "ic| m_dist_cs_dlv3p.precision.shape: torch.Size([2048, 2048])"
     ]
    },
    {
     "name": "stderr",
     "output_type": "stream",
     "text": [
      "\n"
     ]
    }
   ],
   "source": [
    "ic(m_dist_cs_dlv3p.feats_mean.shape);\n",
    "ic(m_dist_cs_dlv3p.precision.shape);"
   ]
  },
  {
   "cell_type": "markdown",
   "metadata": {},
   "source": [
    "### Mahalanobis Distance Scores"
   ]
  },
  {
   "cell_type": "code",
   "execution_count": 99,
   "metadata": {},
   "outputs": [
    {
     "name": "stderr",
     "output_type": "stream",
     "text": [
      "ic| ind_cs_valid_m_dist_score.shape: torch.Size([500])\n",
      "ic| ind_cs_test_m_dist_score.shape: torch.Size([1525])\n"
     ]
    },
    {
     "data": {
      "text/plain": [
       "torch.Size([1525])"
      ]
     },
     "execution_count": 99,
     "metadata": {},
     "output_type": "execute_result"
    }
   ],
   "source": [
    "ind_cs_valid_m_dist_score = m_dist_cs_dlv3p.postprocess(cs_dlv3p_model.deeplab_v3plus_model,\n",
    "                                                        cs_dlv3p_valid_loader,\n",
    "                                                        cs_dlv3p_hook_dropblock2d_layer)\n",
    "\n",
    "\n",
    "ind_cs_test_m_dist_score = m_dist_cs_dlv3p.postprocess(cs_dlv3p_model.deeplab_v3plus_model,\n",
    "                                                       cs_dlv3p_test_loader,\n",
    "                                                       cs_dlv3p_hook_dropblock2d_layer)\n",
    "\n",
    "ic(ind_cs_valid_m_dist_score.shape)\n",
    "ic(ind_cs_test_m_dist_score.shape)"
   ]
  },
  {
   "cell_type": "code",
   "execution_count": 100,
   "metadata": {},
   "outputs": [
    {
     "name": "stderr",
     "output_type": "stream",
     "text": [
      "ic| ood_cs_anomal_valid_m_dist_score.shape: torch.Size([500])\n",
      "ic| ood_cs_anomal_test_m_dist_score.shape: torch.Size([1525])\n"
     ]
    },
    {
     "data": {
      "text/plain": [
       "torch.Size([1525])"
      ]
     },
     "execution_count": 100,
     "metadata": {},
     "output_type": "execute_result"
    }
   ],
   "source": [
    "ood_cs_anomal_valid_m_dist_score = m_dist_cs_dlv3p.postprocess(cs_dlv3p_model.deeplab_v3plus_model,\n",
    "                                                               cs_dlv3p_anomaly_valid_loader,\n",
    "                                                               cs_dlv3p_hook_dropblock2d_layer)\n",
    "\n",
    "\n",
    "ood_cs_anomal_test_m_dist_score = m_dist_cs_dlv3p.postprocess(cs_dlv3p_model.deeplab_v3plus_model,\n",
    "                                                              cs_dlv3p_anomaly_test_loader,\n",
    "                                                              cs_dlv3p_hook_dropblock2d_layer)\n",
    "\n",
    "ic(ood_cs_anomal_valid_m_dist_score.shape)\n",
    "ic(ood_cs_anomal_test_m_dist_score.shape)"
   ]
  },
  {
   "cell_type": "code",
   "execution_count": 101,
   "metadata": {},
   "outputs": [
    {
     "name": "stderr",
     "output_type": "stream",
     "text": [
      "ic| ood_ws_valid_m_dist_score.shape: torch.Size([1482])\n",
      "ic| ood_ws_test_m_dist_score.shape: torch.Size([823])\n"
     ]
    },
    {
     "data": {
      "text/plain": [
       "torch.Size([823])"
      ]
     },
     "execution_count": 101,
     "metadata": {},
     "output_type": "execute_result"
    }
   ],
   "source": [
    "ood_ws_valid_m_dist_score = m_dist_cs_dlv3p.postprocess(cs_dlv3p_model.deeplab_v3plus_model,\n",
    "                                                        ws_256512_dlv3p_valid_loader,\n",
    "                                                        cs_dlv3p_hook_dropblock2d_layer)\n",
    "\n",
    "\n",
    "ood_ws_test_m_dist_score = m_dist_cs_dlv3p.postprocess(cs_dlv3p_model.deeplab_v3plus_model,\n",
    "                                                       ws_256512_dlv3p_test_loader,\n",
    "                                                       cs_dlv3p_hook_dropblock2d_layer)\n",
    "\n",
    "ic(ood_ws_valid_m_dist_score.shape)\n",
    "ic(ood_ws_test_m_dist_score.shape)"
   ]
  },
  {
   "cell_type": "code",
   "execution_count": 102,
   "metadata": {},
   "outputs": [
    {
     "name": "stderr",
     "output_type": "stream",
     "text": [
      "ic| ood_ws_soil_valid_m_dist_score.shape: torch.Size([800])\n",
      "ic| ood_ws_soil_test_m_dist_score.shape: torch.Size([1000])\n"
     ]
    },
    {
     "data": {
      "text/plain": [
       "torch.Size([1000])"
      ]
     },
     "execution_count": 102,
     "metadata": {},
     "output_type": "execute_result"
    }
   ],
   "source": [
    "ood_ws_soil_valid_m_dist_score = m_dist_cs_dlv3p.postprocess(cs_dlv3p_model.deeplab_v3plus_model,\n",
    "                                                             ws_soiling_256512_valid_loader,\n",
    "                                                             cs_dlv3p_hook_dropblock2d_layer)\n",
    "\n",
    "\n",
    "ood_ws_soil_test_m_dist_score = m_dist_cs_dlv3p.postprocess(cs_dlv3p_model.deeplab_v3plus_model,\n",
    "                                                            ws_soiling_256512_test_loader,\n",
    "                                                            cs_dlv3p_hook_dropblock2d_layer)\n",
    "\n",
    "ic(ood_ws_soil_valid_m_dist_score.shape)\n",
    "ic(ood_ws_soil_test_m_dist_score.shape)"
   ]
  },
  {
   "cell_type": "code",
   "execution_count": 103,
   "metadata": {},
   "outputs": [],
   "source": [
    "ind_cs_m_dist_score = np.concatenate((ind_cs_valid_m_dist_score, ind_cs_test_m_dist_score))\n",
    "ood_cs_anomal_m_dist_score = np.concatenate((ood_cs_anomal_valid_m_dist_score, ood_cs_anomal_test_m_dist_score))\n",
    "ood_ws_m_dist_score = np.concatenate((ood_ws_valid_m_dist_score, ood_ws_test_m_dist_score))\n",
    "ood_ws_soil_m_dist_score = np.concatenate((ood_ws_soil_valid_m_dist_score, ood_ws_soil_test_m_dist_score))"
   ]
  },
  {
   "cell_type": "code",
   "execution_count": null,
   "metadata": {},
   "outputs": [],
   "source": [
    "m_dist_score_path"
   ]
  },
  {
   "cell_type": "code",
   "execution_count": 105,
   "metadata": {},
   "outputs": [],
   "source": [
    "np.save(m_dist_score_path + 'ind_cs_m_dist_score',\n",
    "        ind_cs_m_dist_score)\n",
    "\n",
    "np.save(m_dist_score_path + 'ood_cs_anomal_m_dist_score',\n",
    "        ood_cs_anomal_m_dist_score)\n",
    "\n",
    "np.save(m_dist_score_path + 'ood_ws_m_dist_score',\n",
    "        ood_ws_m_dist_score)\n",
    "\n",
    "np.save(m_dist_score_path + 'ood_ws_soil_m_dist_score',\n",
    "        ood_ws_soil_m_dist_score)"
   ]
  },
  {
   "cell_type": "code",
   "execution_count": 106,
   "metadata": {},
   "outputs": [
    {
     "name": "stderr",
     "output_type": "stream",
     "text": [
      "ic| ind_cs_m_dist_score.shape: (2025,)\n",
      "ic| ood_cs_anomal_m_dist_score.shape: (2025,)\n"
     ]
    },
    {
     "name": "stderr",
     "output_type": "stream",
     "text": [
      "ic| ood_ws_m_dist_score.shape: (2305,)\n",
      "ic| ood_ws_soil_m_dist_score.shape: (1800,)\n"
     ]
    }
   ],
   "source": [
    "ic(ind_cs_m_dist_score.shape);\n",
    "ic(ood_cs_anomal_m_dist_score.shape);\n",
    "ic(ood_ws_m_dist_score.shape);\n",
    "ic(ood_ws_soil_m_dist_score.shape);"
   ]
  },
  {
   "cell_type": "code",
   "execution_count": 107,
   "metadata": {},
   "outputs": [],
   "source": [
    "df_m_dist_scores_cs = pd.DataFrame(ind_cs_m_dist_score, columns=[\"Mahalanobis Distance score\"])\n",
    "df_m_dist_scores_cs_anomal = pd.DataFrame(ood_cs_anomal_m_dist_score, columns=[\"Mahalanobis Distance score\"])\n",
    "df_m_dist_scores_ws = pd.DataFrame(ood_ws_m_dist_score, columns=[\"Mahalanobis Distance score\"])\n",
    "df_m_dist_scores_ws_soil = pd.DataFrame(ood_ws_soil_m_dist_score, columns=[\"Mahalanobis Distance score\"])\n",
    "\n",
    "df_m_dist_scores_cs.insert(0, \"Dataset\", \"\")\n",
    "df_m_dist_scores_cs.loc[:, \"Dataset\"] = \"cityscapes\"\n",
    "\n",
    "df_m_dist_scores_cs_anomal.insert(0, \"Dataset\", \"\")\n",
    "df_m_dist_scores_cs_anomal.loc[:, \"Dataset\"] = \"cityscapes-anomalies\"\n",
    "\n",
    "df_m_dist_scores_ws.insert(0, \"Dataset\", \"\")\n",
    "df_m_dist_scores_ws.loc[:, \"Dataset\"] = \"woodscape\"\n",
    "\n",
    "df_m_dist_scores_ws_soil.insert(0, \"Dataset\", \"\")\n",
    "df_m_dist_scores_ws_soil.loc[:, \"Dataset\"] = \"woodscape-soiling\""
   ]
  },
  {
   "cell_type": "markdown",
   "metadata": {},
   "source": [
    "### Cityscapes vs Cityscapes-Anomalies"
   ]
  },
  {
   "cell_type": "markdown",
   "metadata": {},
   "source": [
    "We use negative uncertainty scores for to align with the convention that positive (in-distribution) samples have higher scores (see plots above)"
   ]
  },
  {
   "cell_type": "code",
   "execution_count": 110,
   "metadata": {},
   "outputs": [
    {
     "name": "stdout",
     "output_type": "stream",
     "text": [
      "Test InD shape (2025,)\n",
      "Test OoD shape (2025,)\n",
      "AUROC: 0.9976\n",
      "FPR95: 0.0030\n",
      "AUPR: 0.9979\n"
     ]
    }
   ],
   "source": [
    "print(\"Test InD shape\", ind_cs_m_dist_score.shape);\n",
    "print(\"Test OoD shape\", ood_cs_anomal_m_dist_score.shape);\n",
    "\n",
    "results_m_dist_cs_anomaly = get_hz_detector_results(detect_exp_name=\"Mahalanobis Distance score: cityscapes vs. cityscapes_anomaly\",\n",
    "                                                    ind_samples_scores=ind_cs_m_dist_score,\n",
    "                                                    ood_samples_scores=ood_cs_anomal_m_dist_score)"
   ]
  },
  {
   "cell_type": "markdown",
   "metadata": {},
   "source": [
    "### Cityscapes vs Woodscapes"
   ]
  },
  {
   "cell_type": "markdown",
   "metadata": {},
   "source": [
    "We use negative uncertainty scores for to align with the convention that positive (in-distribution) samples have higher scores (see plots above)"
   ]
  },
  {
   "cell_type": "code",
   "execution_count": 112,
   "metadata": {},
   "outputs": [
    {
     "name": "stdout",
     "output_type": "stream",
     "text": [
      "Test InD shape (2025,)\n",
      "Test OoD shape (2305,)\n",
      "AUROC: 0.9998\n",
      "FPR95: 0.0000\n",
      "AUPR: 0.9998\n"
     ]
    }
   ],
   "source": [
    "print(\"Test InD shape\", ind_cs_m_dist_score.shape);\n",
    "print(\"Test OoD shape\", ood_ws_m_dist_score.shape);\n",
    "\n",
    "results_m_dist_ws = get_hz_detector_results(detect_exp_name=\"Mahalanobis Distance score: cityscapes vs. woodscape\",\n",
    "                                            ind_samples_scores=ind_cs_m_dist_score,\n",
    "                                            ood_samples_scores=ood_ws_m_dist_score)"
   ]
  },
  {
   "cell_type": "markdown",
   "metadata": {},
   "source": [
    "### Cityscapes vs Woodscapes-Soiling"
   ]
  },
  {
   "cell_type": "markdown",
   "metadata": {},
   "source": [
    "We use negative uncertainty scores for to align with the convention that positive (in-distribution) samples have higher scores (see plots above)"
   ]
  },
  {
   "cell_type": "code",
   "execution_count": 113,
   "metadata": {},
   "outputs": [
    {
     "name": "stdout",
     "output_type": "stream",
     "text": [
      "Test InD shape (2025,)\n",
      "Test OoD shape (2305,)\n",
      "AUROC: 1.0000\n",
      "FPR95: 0.0000\n",
      "AUPR: 1.0000\n"
     ]
    }
   ],
   "source": [
    "print(\"Test InD shape\", ind_cs_m_dist_score.shape);\n",
    "print(\"Test OoD shape\", ood_ws_m_dist_score.shape);\n",
    "\n",
    "results_m_dist_ws_soil = get_hz_detector_results(detect_exp_name=\"Mahalanobis Distance score: cityscapes vs. woodscape-soiling\",\n",
    "                                                    ind_samples_scores=ind_cs_m_dist_score,\n",
    "                                                    ood_samples_scores=ood_ws_soil_m_dist_score)"
   ]
  },
  {
   "cell_type": "markdown",
   "metadata": {},
   "source": [
    "## Mahalanobis Distance score penultimate layer"
   ]
  },
  {
   "cell_type": "code",
   "execution_count": 71,
   "metadata": {},
   "outputs": [],
   "source": [
    "class Hook:\n",
    "    \"\"\"\n",
    "    Hook class that returns the input and output of a layer during forward/backward pass\n",
    "    \"\"\"\n",
    "    def __init__(self, module: torch.nn.Module, backward: bool = False):\n",
    "        \"\"\"\n",
    "        Hook Class constructor\n",
    "        :param module: Layer block from Neural Network Module\n",
    "        :type module: torch.nn.Module\n",
    "        :param backward: backward-poss hook\n",
    "        :type backward: bool\n",
    "        \"\"\"\n",
    "        self.input = None\n",
    "        self.output = None\n",
    "        if not backward:\n",
    "            self.hook = module.register_forward_hook(self.hook_fn)\n",
    "        else:\n",
    "            self.hook = module.register_backward_hook(self.hook_fn)\n",
    "\n",
    "    def hook_fn(self, module, input, output):\n",
    "        self.input = input\n",
    "        self.output = output\n",
    "\n",
    "    def close(self):\n",
    "        self.hook.remove()"
   ]
  },
  {
   "cell_type": "code",
   "execution_count": 72,
   "metadata": {},
   "outputs": [],
   "source": [
    "from sklearn.covariance import EmpiricalCovariance\n",
    "\n",
    "class MDSPostprocessor:\n",
    "    def __init__(self,\n",
    "                 num_classes: int = 43,\n",
    "                 setup_flag: bool = False,\n",
    "                 get_2d_rep_mean: bool = False):\n",
    "        # self.config = config\n",
    "        # self.num_classes = num_classes_dict[self.config.dataset.name]\n",
    "        self.num_classes = num_classes\n",
    "        self.setup_flag = setup_flag\n",
    "        self.get_2d_rep_mean = get_2d_rep_mean\n",
    "        self.feats_mean = None\n",
    "        self.precision = None\n",
    "\n",
    "    def setup(self,\n",
    "              dnn_model: nn.Module,\n",
    "              ind_dataloader,\n",
    "              layer_hook):\n",
    "        \n",
    "        if not self.setup_flag:\n",
    "            # estimate mean and variance from training set\n",
    "            print('\\n Estimating mean and variance from training set...')\n",
    "            all_feats = []\n",
    "            all_labels = []\n",
    "            all_preds = []\n",
    "            centered_data = []\n",
    "            # get features/representations:\n",
    "            device = torch.device('cuda' if torch.cuda.is_available() else 'cpu')\n",
    "            dnn_model.to(device)\n",
    "            # get features:\n",
    "            with torch.no_grad():\n",
    "                for i, (image, label) in enumerate(ind_dataloader):\n",
    "                    image = image.to(device)\n",
    "                    # label = label.to(device)\n",
    "                    pred_logits = dnn_model(image)\n",
    "                    # latent_rep = torch.flatten(layer_hook.output, 1)  # latent representation sample\n",
    "                    latent_rep = layer_hook.output  # latent representation sample\n",
    "                \n",
    "                    if self.get_2d_rep_mean:\n",
    "                        # Get image HxW mean:\n",
    "                        latent_rep = torch.mean(latent_rep, dim=2, keepdim=True)\n",
    "                        latent_rep = torch.mean(latent_rep, dim=3, keepdim=True)\n",
    "                        # Remove useless dimensions:\n",
    "                        latent_rep = torch.squeeze(latent_rep, dim=2)\n",
    "                        latent_rep = torch.squeeze(latent_rep, dim=2)\n",
    "\n",
    "                    all_feats.append(latent_rep.cpu())\n",
    "                    all_labels.append(deepcopy(label))\n",
    "                    all_preds.append(pred_logits.argmax(1).cpu())\n",
    "                    \n",
    "            all_feats = torch.cat(all_feats)\n",
    "            all_labels = torch.cat(all_labels)\n",
    "            all_preds = torch.cat(all_preds)\n",
    "            \n",
    "            self.feats_mean = all_feats.mean(0)\n",
    "            centered_data.append(all_feats - self.feats_mean.view(1, -1))\n",
    "            self.centered_data = torch.cat(centered_data)\n",
    "              \n",
    "            group_lasso = EmpiricalCovariance(assume_centered=False)\n",
    "            group_lasso.fit(self.centered_data.cpu().numpy().astype(np.float32))\n",
    "            \n",
    "            self.precision = torch.from_numpy(group_lasso.precision_).float()\n",
    "            self.setup_flag = True\n",
    "            \n",
    "            # we need to use:\n",
    "            # self.feats_mean & self.precision\n",
    "        else:\n",
    "            pass\n",
    "\n",
    "    @torch.no_grad()\n",
    "    def postprocess(self,\n",
    "                    dnn_model: nn.Module,\n",
    "                    dataloader: DataLoader,\n",
    "                    layer_hook):\n",
    "        \n",
    "        # all_preds = []\n",
    "        all_conf_score = []\n",
    "        device = torch.device('cuda' if torch.cuda.is_available() else 'cpu')\n",
    "        dnn_model.to(device)\n",
    "        \n",
    "        for i, (image, label) in enumerate(dataloader):\n",
    "            image = image.to(device)\n",
    "            pred_logits = dnn_model(image)\n",
    "            # latent_rep = layer_hook.output\n",
    "            latent_rep = layer_hook.output  # latent representation sample\n",
    "        \n",
    "            if self.get_2d_rep_mean:\n",
    "                # Get image HxW mean:\n",
    "                latent_rep = torch.mean(latent_rep, dim=2, keepdim=True)\n",
    "                latent_rep = torch.mean(latent_rep, dim=3, keepdim=True)\n",
    "                # Remove useless dimensions:\n",
    "                latent_rep = torch.squeeze(latent_rep, dim=2)\n",
    "                latent_rep = torch.squeeze(latent_rep, dim=2)\n",
    "\n",
    "            diff_t = latent_rep.cpu() - self.feats_mean.view(1, -1)\n",
    "            # diff_t = latent_rep.cpu() - self.feats_mean\n",
    "            conf_score = -torch.matmul(torch.matmul(diff_t, self.precision),\n",
    "                                  diff_t.t()).diag()\n",
    "            \n",
    "            all_conf_score.append(conf_score)\n",
    "            \n",
    "        all_conf_score_t = torch.cat(all_conf_score)\n",
    "        \n",
    "        return all_conf_score_t"
   ]
  },
  {
   "cell_type": "code",
   "execution_count": 73,
   "metadata": {},
   "outputs": [
    {
     "name": "stderr",
     "output_type": "stream",
     "text": [
      "ic| len(cs_dlv3p_train_loader): 2975\n",
      "ic| len(cs_dlv3p_valid_loader): 500\n",
      "ic| len(cs_dlv3p_test_loader): 1525\n",
      "ic| '========================================'\n",
      "ic| len(cs_dlv3p_anomaly_valid_loader): 500"
     ]
    },
    {
     "name": "stderr",
     "output_type": "stream",
     "text": [
      "\n",
      "ic| len(cs_dlv3p_anomaly_test_loader): 1525\n",
      "ic| '========================================'\n",
      "ic| len(ws_256512_dlv3p_valid_loader): 1482\n",
      "ic| len(ws_256512_dlv3p_test_loader): 823\n",
      "ic| '========================================'\n",
      "ic| len(ws_soiling_256512_valid_loader): 800\n",
      "ic| len(ws_soiling_256512_test_loader): 1000\n"
     ]
    }
   ],
   "source": [
    "ic(len(cs_dlv3p_train_loader));\n",
    "ic(len(cs_dlv3p_valid_loader));\n",
    "ic(len(cs_dlv3p_test_loader));\n",
    "ic(\"========================================\");\n",
    "ic(len(cs_dlv3p_anomaly_valid_loader));\n",
    "ic(len(cs_dlv3p_anomaly_test_loader));\n",
    "ic(\"========================================\");\n",
    "ic(len(ws_256512_dlv3p_valid_loader));\n",
    "ic(len(ws_256512_dlv3p_test_loader));\n",
    "ic(\"========================================\");\n",
    "ic(len(ws_soiling_256512_valid_loader));\n",
    "ic(len(ws_soiling_256512_test_loader));"
   ]
  },
  {
   "cell_type": "markdown",
   "metadata": {},
   "source": [
    "### Ad Model Hook"
   ]
  },
  {
   "cell_type": "code",
   "execution_count": 74,
   "metadata": {},
   "outputs": [],
   "source": [
    "cs_dlv3p_model;"
   ]
  },
  {
   "cell_type": "code",
   "execution_count": 75,
   "metadata": {},
   "outputs": [
    {
     "data": {
      "text/plain": [
       "Sequential(\n",
       "  (0): Conv2d(304, 256, kernel_size=(3, 3), stride=(1, 1), padding=(1, 1), bias=False)\n",
       "  (1): BatchNorm2d(256, eps=1e-05, momentum=0.1, affine=True, track_running_stats=True)\n",
       "  (2): ReLU(inplace=True)\n",
       "  (3): Conv2d(256, 20, kernel_size=(1, 1), stride=(1, 1))\n",
       ")"
      ]
     },
     "execution_count": 75,
     "metadata": {},
     "output_type": "execute_result"
    }
   ],
   "source": [
    "cs_dlv3p_model.deeplab_v3plus_model.classifier.classifier"
   ]
  },
  {
   "cell_type": "code",
   "execution_count": 76,
   "metadata": {},
   "outputs": [],
   "source": [
    "cs_dlv3p_hook_penultimate_layer = Hook(cs_dlv3p_model.deeplab_v3plus_model.classifier.classifier[2])"
   ]
  },
  {
   "cell_type": "markdown",
   "metadata": {},
   "source": [
    "### Mahalanobis Distance Setup"
   ]
  },
  {
   "cell_type": "code",
   "execution_count": 77,
   "metadata": {},
   "outputs": [],
   "source": [
    "m_dist_cs_dlv3p = MDSPostprocessor(num_classes=1, setup_flag=False, get_2d_rep_mean=True)"
   ]
  },
  {
   "cell_type": "code",
   "execution_count": 78,
   "metadata": {},
   "outputs": [
    {
     "name": "stdout",
     "output_type": "stream",
     "text": [
      "\n",
      " Estimating mean and variance from training set...\n"
     ]
    }
   ],
   "source": [
    "m_dist_cs_dlv3p.setup(cs_dlv3p_model.deeplab_v3plus_model,\n",
    "                      cs_dlv3p_train_loader,\n",
    "                      layer_hook=cs_dlv3p_hook_penultimate_layer)"
   ]
  },
  {
   "cell_type": "code",
   "execution_count": 79,
   "metadata": {},
   "outputs": [
    {
     "name": "stderr",
     "output_type": "stream",
     "text": [
      "ic| m_dist_cs_dlv3p.feats_mean.shape: torch.Size([256])\n",
      "ic| m_dist_cs_dlv3p.precision.shape: torch.Size([256, 256])\n"
     ]
    }
   ],
   "source": [
    "ic(m_dist_cs_dlv3p.feats_mean.shape);\n",
    "ic(m_dist_cs_dlv3p.precision.shape);"
   ]
  },
  {
   "cell_type": "markdown",
   "metadata": {},
   "source": [
    "### Mahalanobis Distance Scores"
   ]
  },
  {
   "cell_type": "code",
   "execution_count": 81,
   "metadata": {},
   "outputs": [
    {
     "name": "stderr",
     "output_type": "stream",
     "text": [
      "ic| ind_cs_valid_m_dist_score.shape: torch.Size([500])\n",
      "ic| ind_cs_test_m_dist_score.shape: torch.Size([1525])\n"
     ]
    },
    {
     "data": {
      "text/plain": [
       "torch.Size([1525])"
      ]
     },
     "execution_count": 81,
     "metadata": {},
     "output_type": "execute_result"
    }
   ],
   "source": [
    "ind_cs_valid_m_dist_score = m_dist_cs_dlv3p.postprocess(cs_dlv3p_model.deeplab_v3plus_model,\n",
    "                                                        cs_dlv3p_valid_loader,\n",
    "                                                        cs_dlv3p_hook_penultimate_layer)\n",
    "\n",
    "\n",
    "ind_cs_test_m_dist_score = m_dist_cs_dlv3p.postprocess(cs_dlv3p_model.deeplab_v3plus_model,\n",
    "                                                       cs_dlv3p_test_loader,\n",
    "                                                       cs_dlv3p_hook_penultimate_layer)\n",
    "\n",
    "ic(ind_cs_valid_m_dist_score.shape)\n",
    "ic(ind_cs_test_m_dist_score.shape)"
   ]
  },
  {
   "cell_type": "code",
   "execution_count": 82,
   "metadata": {},
   "outputs": [
    {
     "name": "stderr",
     "output_type": "stream",
     "text": [
      "ic| ood_cs_anomal_valid_m_dist_score.shape: torch.Size([500])\n",
      "ic| ood_cs_anomal_test_m_dist_score.shape: torch.Size([1525])\n"
     ]
    },
    {
     "data": {
      "text/plain": [
       "torch.Size([1525])"
      ]
     },
     "execution_count": 82,
     "metadata": {},
     "output_type": "execute_result"
    }
   ],
   "source": [
    "ood_cs_anomal_valid_m_dist_score = m_dist_cs_dlv3p.postprocess(cs_dlv3p_model.deeplab_v3plus_model,\n",
    "                                                               cs_dlv3p_anomaly_valid_loader,\n",
    "                                                               cs_dlv3p_hook_penultimate_layer)\n",
    "\n",
    "\n",
    "ood_cs_anomal_test_m_dist_score = m_dist_cs_dlv3p.postprocess(cs_dlv3p_model.deeplab_v3plus_model,\n",
    "                                                              cs_dlv3p_anomaly_test_loader,\n",
    "                                                              cs_dlv3p_hook_penultimate_layer)\n",
    "\n",
    "ic(ood_cs_anomal_valid_m_dist_score.shape)\n",
    "ic(ood_cs_anomal_test_m_dist_score.shape)"
   ]
  },
  {
   "cell_type": "code",
   "execution_count": 83,
   "metadata": {},
   "outputs": [
    {
     "name": "stderr",
     "output_type": "stream",
     "text": [
      "ic| ood_ws_valid_m_dist_score.shape: torch.Size([1482])\n",
      "ic| ood_ws_test_m_dist_score.shape: torch.Size([823])\n"
     ]
    },
    {
     "data": {
      "text/plain": [
       "torch.Size([823])"
      ]
     },
     "execution_count": 83,
     "metadata": {},
     "output_type": "execute_result"
    }
   ],
   "source": [
    "ood_ws_valid_m_dist_score = m_dist_cs_dlv3p.postprocess(cs_dlv3p_model.deeplab_v3plus_model,\n",
    "                                                        ws_256512_dlv3p_valid_loader,\n",
    "                                                        cs_dlv3p_hook_penultimate_layer)\n",
    "\n",
    "\n",
    "ood_ws_test_m_dist_score = m_dist_cs_dlv3p.postprocess(cs_dlv3p_model.deeplab_v3plus_model,\n",
    "                                                       ws_256512_dlv3p_test_loader,\n",
    "                                                       cs_dlv3p_hook_penultimate_layer)\n",
    "\n",
    "ic(ood_ws_valid_m_dist_score.shape)\n",
    "ic(ood_ws_test_m_dist_score.shape)"
   ]
  },
  {
   "cell_type": "code",
   "execution_count": 84,
   "metadata": {},
   "outputs": [
    {
     "name": "stderr",
     "output_type": "stream",
     "text": [
      "ic| ood_ws_soil_valid_m_dist_score.shape: torch.Size([800])\n",
      "ic| ood_ws_soil_test_m_dist_score.shape: torch.Size([1000])\n"
     ]
    },
    {
     "data": {
      "text/plain": [
       "torch.Size([1000])"
      ]
     },
     "execution_count": 84,
     "metadata": {},
     "output_type": "execute_result"
    }
   ],
   "source": [
    "ood_ws_soil_valid_m_dist_score = m_dist_cs_dlv3p.postprocess(cs_dlv3p_model.deeplab_v3plus_model,\n",
    "                                                             ws_soiling_256512_valid_loader,\n",
    "                                                             cs_dlv3p_hook_penultimate_layer)\n",
    "\n",
    "\n",
    "ood_ws_soil_test_m_dist_score = m_dist_cs_dlv3p.postprocess(cs_dlv3p_model.deeplab_v3plus_model,\n",
    "                                                            ws_soiling_256512_test_loader,\n",
    "                                                            cs_dlv3p_hook_penultimate_layer)\n",
    "\n",
    "ic(ood_ws_soil_valid_m_dist_score.shape)\n",
    "ic(ood_ws_soil_test_m_dist_score.shape)"
   ]
  },
  {
   "cell_type": "code",
   "execution_count": 85,
   "metadata": {},
   "outputs": [],
   "source": [
    "ind_cs_m_dist_score = np.concatenate((ind_cs_valid_m_dist_score, ind_cs_test_m_dist_score))\n",
    "ood_cs_anomal_m_dist_score = np.concatenate((ood_cs_anomal_valid_m_dist_score, ood_cs_anomal_test_m_dist_score))\n",
    "ood_ws_m_dist_score = np.concatenate((ood_ws_valid_m_dist_score, ood_ws_test_m_dist_score))\n",
    "ood_ws_soil_m_dist_score = np.concatenate((ood_ws_soil_valid_m_dist_score, ood_ws_soil_test_m_dist_score))"
   ]
  },
  {
   "cell_type": "code",
   "execution_count": null,
   "metadata": {},
   "outputs": [],
   "source": [
    "m_dist_penultimate_layer_score_path"
   ]
  },
  {
   "cell_type": "code",
   "execution_count": 89,
   "metadata": {},
   "outputs": [],
   "source": [
    "np.save(m_dist_score_path + 'ind_cs_m_dist_score',\n",
    "        ind_cs_m_dist_score)\n",
    "\n",
    "np.save(m_dist_score_path + 'ood_cs_anomal_m_dist_score',\n",
    "        ood_cs_anomal_m_dist_score)\n",
    "\n",
    "np.save(m_dist_score_path + 'ood_ws_m_dist_score',\n",
    "        ood_ws_m_dist_score)\n",
    "\n",
    "np.save(m_dist_score_path + 'ood_ws_soil_m_dist_score',\n",
    "        ood_ws_soil_m_dist_score)"
   ]
  },
  {
   "cell_type": "code",
   "execution_count": 92,
   "metadata": {},
   "outputs": [
    {
     "name": "stderr",
     "output_type": "stream",
     "text": [
      "ic| ind_cs_m_dist_score.shape: (2025,)\n",
      "ic| ood_cs_anomal_m_dist_score.shape: (2025,)\n"
     ]
    },
    {
     "name": "stderr",
     "output_type": "stream",
     "text": [
      "ic| ood_ws_m_dist_score.shape: (2305,)\n",
      "ic| ood_ws_soil_m_dist_score.shape: (1800,)\n"
     ]
    }
   ],
   "source": [
    "ic(ind_cs_m_dist_score.shape);\n",
    "ic(ood_cs_anomal_m_dist_score.shape);\n",
    "ic(ood_ws_m_dist_score.shape);\n",
    "ic(ood_ws_soil_m_dist_score.shape);"
   ]
  },
  {
   "cell_type": "code",
   "execution_count": 93,
   "metadata": {},
   "outputs": [],
   "source": [
    "df_m_dist_scores_cs = pd.DataFrame(ind_cs_m_dist_score, columns=[\"Mahalanobis Distance score\"])\n",
    "df_m_dist_scores_cs_anomal = pd.DataFrame(ood_cs_anomal_m_dist_score, columns=[\"Mahalanobis Distance score\"])\n",
    "df_m_dist_scores_ws = pd.DataFrame(ood_ws_m_dist_score, columns=[\"Mahalanobis Distance score\"])\n",
    "df_m_dist_scores_ws_soil = pd.DataFrame(ood_ws_soil_m_dist_score, columns=[\"Mahalanobis Distance score\"])\n",
    "\n",
    "df_m_dist_scores_cs.insert(0, \"Dataset\", \"\")\n",
    "df_m_dist_scores_cs.loc[:, \"Dataset\"] = \"cityscapes\"\n",
    "\n",
    "df_m_dist_scores_cs_anomal.insert(0, \"Dataset\", \"\")\n",
    "df_m_dist_scores_cs_anomal.loc[:, \"Dataset\"] = \"cityscapes-anomalies\"\n",
    "\n",
    "df_m_dist_scores_ws.insert(0, \"Dataset\", \"\")\n",
    "df_m_dist_scores_ws.loc[:, \"Dataset\"] = \"woodscape\"\n",
    "\n",
    "df_m_dist_scores_ws_soil.insert(0, \"Dataset\", \"\")\n",
    "df_m_dist_scores_ws_soil.loc[:, \"Dataset\"] = \"woodscape-soiling\""
   ]
  },
  {
   "cell_type": "markdown",
   "metadata": {},
   "source": [
    "### Cityscapes vs Cityscapes-Anomalies"
   ]
  },
  {
   "cell_type": "markdown",
   "metadata": {},
   "source": [
    "We use negative uncertainty scores for to align with the convention that positive (in-distribution) samples have higher scores (see plots above)"
   ]
  },
  {
   "cell_type": "code",
   "execution_count": 95,
   "metadata": {},
   "outputs": [
    {
     "name": "stdout",
     "output_type": "stream",
     "text": [
      "Test InD shape (2025,)\n",
      "Test OoD shape (2025,)\n",
      "AUROC: 0.9917\n",
      "FPR95: 0.0321\n",
      "AUPR: 0.9931\n"
     ]
    }
   ],
   "source": [
    "print(\"Test InD shape\", ind_cs_m_dist_score.shape);\n",
    "print(\"Test OoD shape\", ood_cs_anomal_m_dist_score.shape);\n",
    "\n",
    "results_m_dist_cs_anomaly = get_hz_detector_results(detect_exp_name=\"Mahalanobis Distance score: cityscapes vs. cityscapes_anomaly\",\n",
    "                                                    ind_samples_scores=ind_cs_m_dist_score,\n",
    "                                                    ood_samples_scores=ood_cs_anomal_m_dist_score)"
   ]
  },
  {
   "cell_type": "markdown",
   "metadata": {},
   "source": [
    "### Cityscapes vs Woodscapes"
   ]
  },
  {
   "cell_type": "markdown",
   "metadata": {},
   "source": [
    "We use negative uncertainty scores for to align with the convention that positive (in-distribution) samples have higher scores (see plots above)"
   ]
  },
  {
   "cell_type": "code",
   "execution_count": 96,
   "metadata": {},
   "outputs": [
    {
     "name": "stdout",
     "output_type": "stream",
     "text": [
      "Test InD shape (2025,)\n",
      "Test OoD shape (2305,)\n",
      "AUROC: 0.9994\n",
      "FPR95: 0.0000\n",
      "AUPR: 0.9995\n"
     ]
    }
   ],
   "source": [
    "print(\"Test InD shape\", ind_cs_m_dist_score.shape);\n",
    "print(\"Test OoD shape\", ood_ws_m_dist_score.shape);\n",
    "\n",
    "results_m_dist_ws = get_hz_detector_results(detect_exp_name=\"Mahalanobis Distance score: cityscapes vs. woodscape\",\n",
    "                                            ind_samples_scores=ind_cs_m_dist_score,\n",
    "                                            ood_samples_scores=ood_ws_m_dist_score)"
   ]
  },
  {
   "cell_type": "markdown",
   "metadata": {},
   "source": [
    "### Cityscapes vs Woodscapes-Soiling"
   ]
  },
  {
   "cell_type": "markdown",
   "metadata": {},
   "source": [
    "We use negative uncertainty scores for to align with the convention that positive (in-distribution) samples have higher scores (see plots above)"
   ]
  },
  {
   "cell_type": "code",
   "execution_count": 97,
   "metadata": {},
   "outputs": [
    {
     "name": "stdout",
     "output_type": "stream",
     "text": [
      "Test InD shape (2025,)\n",
      "Test OoD shape (2305,)\n",
      "AUROC: 0.9998\n",
      "FPR95: 0.0000\n",
      "AUPR: 0.9999\n"
     ]
    }
   ],
   "source": [
    "print(\"Test InD shape\", ind_cs_m_dist_score.shape);\n",
    "print(\"Test OoD shape\", ood_ws_m_dist_score.shape);\n",
    "\n",
    "results_m_dist_ws_soil = get_hz_detector_results(detect_exp_name=\"Mahalanobis Distance score: cityscapes vs. woodscape-soiling\",\n",
    "                                                    ind_samples_scores=ind_cs_m_dist_score,\n",
    "                                                    ood_samples_scores=ood_ws_soil_m_dist_score)"
   ]
  },
  {
   "cell_type": "markdown",
   "metadata": {},
   "source": [
    "## KNN Distance Score"
   ]
  },
  {
   "cell_type": "code",
   "execution_count": 165,
   "metadata": {},
   "outputs": [],
   "source": [
    "import faiss"
   ]
  },
  {
   "cell_type": "code",
   "execution_count": 166,
   "metadata": {},
   "outputs": [],
   "source": [
    "class Hook:\n",
    "    \"\"\"\n",
    "    Hook class that returns the input and output of a layer during forward/backward pass\n",
    "    \"\"\"\n",
    "    def __init__(self, module: torch.nn.Module, backward: bool = False):\n",
    "        \"\"\"\n",
    "        Hook Class constructor\n",
    "        :param module: Layer block from Neural Network Module\n",
    "        :type module: torch.nn.Module\n",
    "        :param backward: backward-poss hook\n",
    "        :type backward: bool\n",
    "        \"\"\"\n",
    "        self.input = None\n",
    "        self.output = None\n",
    "        if not backward:\n",
    "            self.hook = module.register_forward_hook(self.hook_fn)\n",
    "        else:\n",
    "            self.hook = module.register_backward_hook(self.hook_fn)\n",
    "\n",
    "    def hook_fn(self, module, input, output):\n",
    "        self.input = input\n",
    "        self.output = output\n",
    "\n",
    "    def close(self):\n",
    "        self.hook.remove()"
   ]
  },
  {
   "cell_type": "code",
   "execution_count": 167,
   "metadata": {},
   "outputs": [],
   "source": [
    "normalizer = lambda x: x / (np.linalg.norm(x, ord=2, axis=-1, keepdims=True) + 1e-10)\n"
   ]
  },
  {
   "cell_type": "code",
   "execution_count": 168,
   "metadata": {},
   "outputs": [],
   "source": [
    "class KNNPostprocessor:\n",
    "    def __init__(self,\n",
    "                 K: int = 50,\n",
    "                 setup_flag: bool = False,\n",
    "                 get_2d_rep_mean: bool = False):\n",
    "        self.K = K\n",
    "        self.activation_log = None\n",
    "        self.setup_flag = setup_flag\n",
    "        self.get_2d_rep_mean = get_2d_rep_mean\n",
    "        self.index = None\n",
    "\n",
    "    def setup(self,\n",
    "              dnn_model: nn.Module,\n",
    "              ind_dataloader,\n",
    "              layer_hook):\n",
    "\n",
    "        if not self.setup_flag:\n",
    "            print('\\n Get latent embeddings z from training set...')\n",
    "            activation_log = []\n",
    "            device = torch.device('cuda' if torch.cuda.is_available() else 'cpu')\n",
    "            dnn_model.to(device)\n",
    "            \n",
    "            with torch.no_grad():\n",
    "                for i, (image, label) in enumerate(ind_dataloader):\n",
    "                    image = image.to(device)\n",
    "                    pred_logits = dnn_model(image)\n",
    "                    \n",
    "                    latent_rep = layer_hook.output  # latent representation sample\n",
    "                    \n",
    "                    if self.get_2d_rep_mean:\n",
    "                        # Get image HxW mean:\n",
    "                        latent_rep = torch.mean(latent_rep, dim=2, keepdim=True)\n",
    "                        latent_rep = torch.mean(latent_rep, dim=3, keepdim=True)\n",
    "                        # Remove useless dimensions:\n",
    "                        latent_rep = torch.squeeze(latent_rep, dim=2)\n",
    "                        latent_rep = torch.squeeze(latent_rep, dim=2)\n",
    "                    \n",
    "                    # latent_rep = torch.flatten(layer_hook.output, 1)  # latent representation sample\n",
    "                    # ic(layer_hook.output)\n",
    "                    activation_log.append(\n",
    "                        normalizer(latent_rep.data.cpu().numpy()))\n",
    "\n",
    "            self.activation_log = np.concatenate(activation_log, axis=0)\n",
    "            self.index = faiss.IndexFlatL2(latent_rep.shape[1])\n",
    "            self.index.add(self.activation_log)\n",
    "            self.setup_flag = True\n",
    "        else:\n",
    "            pass\n",
    "\n",
    "    @torch.no_grad()\n",
    "    def postprocess(self,\n",
    "                    dnn_model: nn.Module,\n",
    "                    dataloader: DataLoader,\n",
    "                    layer_hook):\n",
    "        \n",
    "        all_preds = []\n",
    "        all_kth_dist_score = []\n",
    "        device = torch.device('cuda' if torch.cuda.is_available() else 'cpu')\n",
    "        dnn_model.to(device)\n",
    "        \n",
    "        for i, (image, label) in enumerate(dataloader):\n",
    "            image = image.to(device)\n",
    "            pred_logits = dnn_model(image)\n",
    "            # ic(layer_hook.output)\n",
    "            # latent_rep = torch.flatten(layer_hook.output, 1)  # latent representation sample\n",
    "            latent_rep = layer_hook.output  # latent representation sample\n",
    "            \n",
    "            if self.get_2d_rep_mean:\n",
    "                # Get image HxW mean:\n",
    "                latent_rep = torch.mean(latent_rep, dim=2, keepdim=True)\n",
    "                latent_rep = torch.mean(latent_rep, dim=3, keepdim=True)\n",
    "                # Remove useless dimensions:\n",
    "                latent_rep = torch.squeeze(latent_rep, dim=2)\n",
    "                latent_rep = torch.squeeze(latent_rep, dim=2)\n",
    "            \n",
    "            pred = torch.max(torch.softmax(pred_logits, dim=1), dim=1)\n",
    "            latent_rep_normed = normalizer(latent_rep.data.cpu().numpy())\n",
    "            \n",
    "            D, _ = self.index.search(\n",
    "                latent_rep_normed,\n",
    "                self.K)\n",
    "            kth_dist = -D[:, -1]\n",
    "            \n",
    "            all_preds.append(pred[0])\n",
    "            all_kth_dist_score.append(kth_dist)\n",
    "            \n",
    "        all_preds_t = torch.cat(all_preds)\n",
    "        # all_kth_dist_score_t = torch.cat(all_kth_dist_score)\n",
    "        all_kth_dist_score_np = np.concatenate(all_kth_dist_score, axis=0)\n",
    "        \n",
    "        return all_preds_t, all_kth_dist_score_np\n",
    "\n",
    "    def set_K_hyperparam(self, hyperparam: int = 50):\n",
    "        self.K = hyperparam\n",
    "\n",
    "    def get_K_hyperparam(self):\n",
    "        return self.K"
   ]
  },
  {
   "cell_type": "code",
   "execution_count": 169,
   "metadata": {},
   "outputs": [
    {
     "name": "stderr",
     "output_type": "stream",
     "text": [
      "ic| len(cs_dlv3p_train_loader): 2975\n",
      "ic| len(cs_dlv3p_valid_loader): 500\n",
      "ic| len(cs_dlv3p_test_loader): 1525\n",
      "ic| '========================================'\n",
      "ic| len(cs_dlv3p_anomaly_valid_loader): 500\n",
      "ic| len(cs_dlv3p_anomaly_test_loader): 1525\n",
      "ic| '========================================'\n",
      "ic| len(ws_256512_dlv3p_valid_loader): 1482\n",
      "ic| len(ws_256512_dlv3p_test_loader): 823\n",
      "ic| '========================================'\n",
      "ic| len(ws_soiling_256512_valid_loader): 800\n",
      "ic| len(ws_soiling_256512_test_loader): 1000\n"
     ]
    }
   ],
   "source": [
    "ic(len(cs_dlv3p_train_loader));\n",
    "ic(len(cs_dlv3p_valid_loader));\n",
    "ic(len(cs_dlv3p_test_loader));\n",
    "ic(\"========================================\");\n",
    "ic(len(cs_dlv3p_anomaly_valid_loader));\n",
    "ic(len(cs_dlv3p_anomaly_test_loader));\n",
    "ic(\"========================================\");\n",
    "ic(len(ws_256512_dlv3p_valid_loader));\n",
    "ic(len(ws_256512_dlv3p_test_loader));\n",
    "ic(\"========================================\");\n",
    "ic(len(ws_soiling_256512_valid_loader));\n",
    "ic(len(ws_soiling_256512_test_loader));"
   ]
  },
  {
   "cell_type": "markdown",
   "metadata": {},
   "source": [
    "### Add Model Hook"
   ]
  },
  {
   "cell_type": "code",
   "execution_count": 170,
   "metadata": {},
   "outputs": [
    {
     "data": {
      "text/plain": [
       "<__main__.Hook at 0x7f257c66b990>"
      ]
     },
     "execution_count": 170,
     "metadata": {},
     "output_type": "execute_result"
    }
   ],
   "source": [
    "cs_dlv3p_hook_dropblock2d_layer = Hook(cs_dlv3p_model.deeplab_v3plus_model.drop_block1)\n",
    "cs_dlv3p_hook_dropblock2d_layer"
   ]
  },
  {
   "cell_type": "markdown",
   "metadata": {},
   "source": [
    "### KNN Dist Setup"
   ]
  },
  {
   "cell_type": "code",
   "execution_count": 171,
   "metadata": {},
   "outputs": [],
   "source": [
    "knn_dist_cs_dlv3p = KNNPostprocessor(K=50, setup_flag=False, get_2d_rep_mean=True)"
   ]
  },
  {
   "cell_type": "code",
   "execution_count": 172,
   "metadata": {},
   "outputs": [
    {
     "name": "stdout",
     "output_type": "stream",
     "text": [
      "\n",
      " Get latent embeddings z from training set...\n"
     ]
    }
   ],
   "source": [
    "knn_dist_cs_dlv3p.setup(cs_dlv3p_model.deeplab_v3plus_model,\n",
    "                        cs_dlv3p_train_loader,\n",
    "                        layer_hook=cs_dlv3p_hook_dropblock2d_layer)"
   ]
  },
  {
   "cell_type": "markdown",
   "metadata": {},
   "source": [
    "### KNN Kth-Dist Scores"
   ]
  },
  {
   "cell_type": "code",
   "execution_count": 173,
   "metadata": {},
   "outputs": [],
   "source": [
    "_, ind_cs_valid_kth_dist_score = knn_dist_cs_dlv3p.postprocess(cs_dlv3p_model.deeplab_v3plus_model,\n",
    "                                                               cs_dlv3p_valid_loader,\n",
    "                                                               cs_dlv3p_hook_dropblock2d_layer)\n",
    "\n",
    "\n",
    "_, ind_cs_test_kth_dist_score = knn_dist_cs_dlv3p.postprocess(cs_dlv3p_model.deeplab_v3plus_model,\n",
    "                                                              cs_dlv3p_test_loader,\n",
    "                                                              cs_dlv3p_hook_dropblock2d_layer)\n",
    "\n",
    "\n",
    "_, ood_cs_anomal_valid_kth_dist_score = knn_dist_cs_dlv3p.postprocess(cs_dlv3p_model.deeplab_v3plus_model,\n",
    "                                                                      cs_dlv3p_anomaly_valid_loader,\n",
    "                                                                      cs_dlv3p_hook_dropblock2d_layer)\n",
    "\n",
    "_, ood_cs_anomal_test_kth_dist_score = knn_dist_cs_dlv3p.postprocess(cs_dlv3p_model.deeplab_v3plus_model,\n",
    "                                                                     cs_dlv3p_anomaly_test_loader,\n",
    "                                                                     cs_dlv3p_hook_dropblock2d_layer)\n",
    "\n",
    "\n",
    "_, ood_ws_valid_kth_dist_score = knn_dist_cs_dlv3p.postprocess(cs_dlv3p_model.deeplab_v3plus_model,\n",
    "                                                               ws_256512_dlv3p_valid_loader,\n",
    "                                                               cs_dlv3p_hook_dropblock2d_layer)\n",
    "\n",
    "_, ood_ws_test_kth_dist_score = knn_dist_cs_dlv3p.postprocess(cs_dlv3p_model.deeplab_v3plus_model,\n",
    "                                                              ws_256512_dlv3p_test_loader,\n",
    "                                                              cs_dlv3p_hook_dropblock2d_layer)\n",
    "\n",
    "\n",
    "_, ood_ws_soil_valid_kth_dist_score = knn_dist_cs_dlv3p.postprocess(cs_dlv3p_model.deeplab_v3plus_model,\n",
    "                                                                    ws_soiling_256512_valid_loader,\n",
    "                                                                    cs_dlv3p_hook_dropblock2d_layer)\n",
    "\n",
    "_, ood_ws_soil_test_kth_dist_score = knn_dist_cs_dlv3p.postprocess(cs_dlv3p_model.deeplab_v3plus_model,\n",
    "                                                                   ws_soiling_256512_test_loader,\n",
    "                                                                   cs_dlv3p_hook_dropblock2d_layer)"
   ]
  },
  {
   "cell_type": "code",
   "execution_count": 174,
   "metadata": {},
   "outputs": [],
   "source": [
    "ind_cs_kth_dist_score = np.concatenate((ind_cs_valid_kth_dist_score, ind_cs_test_kth_dist_score))\n",
    "ood_cs_anomal_kth_dist_score = np.concatenate((ood_cs_anomal_valid_kth_dist_score, ood_cs_anomal_test_kth_dist_score))\n",
    "ood_ws_kth_dist_score = np.concatenate((ood_ws_valid_kth_dist_score, ood_ws_test_kth_dist_score))\n",
    "ood_ws_soil_kth_dist_score = np.concatenate((ood_ws_soil_valid_kth_dist_score, ood_ws_soil_test_kth_dist_score))"
   ]
  },
  {
   "cell_type": "code",
   "execution_count": null,
   "metadata": {},
   "outputs": [],
   "source": [
    "knn_dist_score_path"
   ]
  },
  {
   "cell_type": "code",
   "execution_count": 176,
   "metadata": {},
   "outputs": [],
   "source": [
    "np.save(knn_dist_score_path + 'ind_cs_kth_dist_score',\n",
    "        ind_cs_kth_dist_score)\n",
    "\n",
    "np.save(knn_dist_score_path + 'ood_cs_anomal_kth_dist_score',\n",
    "        ood_cs_anomal_kth_dist_score)\n",
    "\n",
    "np.save(knn_dist_score_path + 'ood_ws_kth_dist_score',\n",
    "        ood_ws_kth_dist_score)\n",
    "\n",
    "np.save(knn_dist_score_path + 'ood_ws_soil_kth_dist_score',\n",
    "        ood_ws_soil_kth_dist_score)"
   ]
  },
  {
   "cell_type": "code",
   "execution_count": 177,
   "metadata": {},
   "outputs": [
    {
     "name": "stderr",
     "output_type": "stream",
     "text": [
      "ic| ind_cs_kth_dist_score.shape: (2025,)\n",
      "ic| ood_cs_anomal_kth_dist_score.shape: (2025,)\n",
      "ic| ood_ws_kth_dist_score.shape: (2305,)"
     ]
    },
    {
     "name": "stderr",
     "output_type": "stream",
     "text": [
      "\n",
      "ic| ood_ws_soil_kth_dist_score.shape: (1800,)\n"
     ]
    }
   ],
   "source": [
    "ic(ind_cs_kth_dist_score.shape);\n",
    "ic(ood_cs_anomal_kth_dist_score.shape);\n",
    "ic(ood_ws_kth_dist_score.shape);\n",
    "ic(ood_ws_soil_kth_dist_score.shape);"
   ]
  },
  {
   "cell_type": "code",
   "execution_count": 178,
   "metadata": {},
   "outputs": [],
   "source": [
    "df_kth_dist_scores_cs = pd.DataFrame(ind_cs_kth_dist_score, columns=[\"KNN Distance score\"])\n",
    "df_kth_dist_scores_cs_anomal = pd.DataFrame(ood_cs_anomal_kth_dist_score, columns=[\"KNN Distance score\"])\n",
    "df_kth_dist_scores_ws = pd.DataFrame(ood_ws_kth_dist_score, columns=[\"KNN Distance score\"])\n",
    "df_kth_dist_scores_ws_soil = pd.DataFrame(ood_ws_soil_kth_dist_score, columns=[\"KNN Distance score\"])\n",
    "\n",
    "df_kth_dist_scores_cs.insert(0, \"Dataset\", \"\")\n",
    "df_kth_dist_scores_cs.loc[:, \"Dataset\"] = \"cityscapes\"\n",
    "\n",
    "df_kth_dist_scores_cs_anomal.insert(0, \"Dataset\", \"\")\n",
    "df_kth_dist_scores_cs_anomal.loc[:, \"Dataset\"] = \"cityscapes-anomal\"\n",
    "\n",
    "df_kth_dist_scores_ws.insert(0, \"Dataset\", \"\")\n",
    "df_kth_dist_scores_ws.loc[:, \"Dataset\"] = \"woodscape\"\n",
    "\n",
    "df_kth_dist_scores_ws_soil.insert(0, \"Dataset\", \"\")\n",
    "df_kth_dist_scores_ws_soil.loc[:, \"Dataset\"] = \"woodscape-soiling\""
   ]
  },
  {
   "cell_type": "code",
   "execution_count": 180,
   "metadata": {},
   "outputs": [
    {
     "data": {
      "image/png": "[encoded data removed]",
      "text/plain": [
       "<Figure size 679.875x500 with 1 Axes>"
      ]
     },
     "metadata": {},
     "output_type": "display_data"
    }
   ],
   "source": [
    "df_pred_kth_dist_scores = pd.concat([df_kth_dist_scores_cs,\n",
    "                                     df_kth_dist_scores_cs_anomal]).reset_index(drop=True)\n",
    "\n",
    "sns.displot(df_pred_kth_dist_scores, x=\"KNN Distance score\", hue=\"Dataset\", kind=\"hist\", fill=True)\n",
    "plt.show()"
   ]
  },
  {
   "cell_type": "code",
   "execution_count": 182,
   "metadata": {},
   "outputs": [
    {
     "name": "stderr",
     "output_type": "stream",
     "text": [
      "ic| ind_cs_kth_dist_score.shape: (2025,)\n",
      "ic| ood_cs_anomal_kth_dist_score.shape: (2025,)\n",
      "ic| ood_ws_kth_dist_score.shape: (2305,)\n",
      "ic| ood_ws_soil_kth_dist_score.shape: (1800"
     ]
    },
    {
     "name": "stderr",
     "output_type": "stream",
     "text": [
      ",)\n"
     ]
    }
   ],
   "source": [
    "ic(ind_cs_kth_dist_score.shape);\n",
    "ic(ood_cs_anomal_kth_dist_score.shape);\n",
    "ic(ood_ws_kth_dist_score.shape);\n",
    "ic(ood_ws_soil_kth_dist_score.shape);"
   ]
  },
  {
   "cell_type": "markdown",
   "metadata": {},
   "source": [
    "### Cityscapes vs. Cityscapes-anomaly"
   ]
  },
  {
   "cell_type": "markdown",
   "metadata": {},
   "source": [
    "We align with the convention where positive (in-distribution) samples have higher scores (see plots above)"
   ]
  },
  {
   "cell_type": "code",
   "execution_count": 183,
   "metadata": {},
   "outputs": [
    {
     "name": "stdout",
     "output_type": "stream",
     "text": [
      "Test InD shape (2025,)\n",
      "Test OoD shape (2025,)\n",
      "AUROC: 0.9868\n",
      "FPR95: 0.0830\n",
      "AUPR: 0.9876\n"
     ]
    }
   ],
   "source": [
    "print(\"Test InD shape\", ind_cs_kth_dist_score.shape);\n",
    "print(\"Test OoD shape\", ood_cs_anomal_kth_dist_score.shape);\n",
    "\n",
    "results_kth_dist_gtsrb_anomaly = get_hz_detector_results(detect_exp_name=\"KNN Distance score: cityscapes vs. cityscapes-anomaly\",\n",
    "                                                         ind_samples_scores=ind_cs_kth_dist_score,\n",
    "                                                         ood_samples_scores=ood_cs_anomal_kth_dist_score)"
   ]
  },
  {
   "cell_type": "markdown",
   "metadata": {},
   "source": [
    "### Cityscapes vs. Woodscape"
   ]
  },
  {
   "cell_type": "markdown",
   "metadata": {},
   "source": [
    "We align with the convention where positive (in-distribution) samples have higher scores (see plots above)"
   ]
  },
  {
   "cell_type": "code",
   "execution_count": 184,
   "metadata": {},
   "outputs": [
    {
     "name": "stdout",
     "output_type": "stream",
     "text": [
      "Test InD shape (2025,)\n",
      "Test OoD shape (2305,)\n",
      "AUROC: 0.9997\n",
      "FPR95: 0.0000\n",
      "AUPR: 0.9997\n"
     ]
    }
   ],
   "source": [
    "print(\"Test InD shape\", ind_cs_kth_dist_score.shape);\n",
    "print(\"Test OoD shape\", ood_ws_kth_dist_score.shape);\n",
    "\n",
    "results_kth_dist_cifar10 = get_hz_detector_results(detect_exp_name=\"KNN Distance score: cityscapes vs. woodscape\",\n",
    "                                                 ind_samples_scores=ind_cs_kth_dist_score,\n",
    "                                                 ood_samples_scores=ood_ws_kth_dist_score)"
   ]
  },
  {
   "cell_type": "markdown",
   "metadata": {},
   "source": [
    "### Cityscapes vs. Woodscape-soiling"
   ]
  },
  {
   "cell_type": "markdown",
   "metadata": {},
   "source": [
    "We align with the convention where positive (in-distribution) samples have higher scores (see plots above)"
   ]
  },
  {
   "cell_type": "code",
   "execution_count": 185,
   "metadata": {},
   "outputs": [
    {
     "name": "stdout",
     "output_type": "stream",
     "text": [
      "Test InD shape (2025,)\n",
      "Test OoD shape (1800,)\n",
      "AUROC: 1.0000\n",
      "FPR95: 0.0000\n",
      "AUPR: 1.0000\n"
     ]
    }
   ],
   "source": [
    "print(\"Test InD shape\", ind_cs_kth_dist_score.shape);\n",
    "print(\"Test OoD shape\", ood_ws_soil_kth_dist_score.shape);\n",
    "\n",
    "results_kth_dist_stl10 = get_hz_detector_results(detect_exp_name=\"KNN Distance score: cityscapes vs. woodscape-soiling\",\n",
    "                                                 ind_samples_scores=ind_cs_kth_dist_score,\n",
    "                                                 ood_samples_scores=ood_ws_soil_kth_dist_score)"
   ]
  },
  {
   "cell_type": "code",
   "execution_count": null,
   "metadata": {},
   "outputs": [],
   "source": []
  },
  {
   "cell_type": "markdown",
   "metadata": {},
   "source": [
    "## KNN Distance Score penultimate layer"
   ]
  },
  {
   "cell_type": "code",
   "execution_count": 192,
   "metadata": {},
   "outputs": [],
   "source": [
    "import faiss"
   ]
  },
  {
   "cell_type": "code",
   "execution_count": 193,
   "metadata": {},
   "outputs": [],
   "source": [
    "class Hook:\n",
    "    \"\"\"\n",
    "    Hook class that returns the input and output of a layer during forward/backward pass\n",
    "    \"\"\"\n",
    "    def __init__(self, module: torch.nn.Module, backward: bool = False):\n",
    "        \"\"\"\n",
    "        Hook Class constructor\n",
    "        :param module: Layer block from Neural Network Module\n",
    "        :type module: torch.nn.Module\n",
    "        :param backward: backward-poss hook\n",
    "        :type backward: bool\n",
    "        \"\"\"\n",
    "        self.input = None\n",
    "        self.output = None\n",
    "        if not backward:\n",
    "            self.hook = module.register_forward_hook(self.hook_fn)\n",
    "        else:\n",
    "            self.hook = module.register_backward_hook(self.hook_fn)\n",
    "\n",
    "    def hook_fn(self, module, input, output):\n",
    "        self.input = input\n",
    "        self.output = output\n",
    "\n",
    "    def close(self):\n",
    "        self.hook.remove()"
   ]
  },
  {
   "cell_type": "code",
   "execution_count": 194,
   "metadata": {},
   "outputs": [],
   "source": [
    "normalizer = lambda x: x / (np.linalg.norm(x, ord=2, axis=-1, keepdims=True) + 1e-10)\n"
   ]
  },
  {
   "cell_type": "code",
   "execution_count": 195,
   "metadata": {},
   "outputs": [],
   "source": [
    "class KNNPostprocessor:\n",
    "    def __init__(self,\n",
    "                 K: int = 50,\n",
    "                 setup_flag: bool = False,\n",
    "                 get_2d_rep_mean: bool = False):\n",
    "        self.K = K\n",
    "        self.activation_log = None\n",
    "        self.setup_flag = setup_flag\n",
    "        self.get_2d_rep_mean = get_2d_rep_mean\n",
    "        self.index = None\n",
    "\n",
    "    def setup(self,\n",
    "              dnn_model: nn.Module,\n",
    "              ind_dataloader,\n",
    "              layer_hook):\n",
    "\n",
    "        if not self.setup_flag:\n",
    "            print('\\n Get latent embeddings z from training set...')\n",
    "            activation_log = []\n",
    "            device = torch.device('cuda' if torch.cuda.is_available() else 'cpu')\n",
    "            dnn_model.to(device)\n",
    "            \n",
    "            with torch.no_grad():\n",
    "                for i, (image, label) in enumerate(ind_dataloader):\n",
    "                    image = image.to(device)\n",
    "                    pred_logits = dnn_model(image)\n",
    "                    \n",
    "                    latent_rep = layer_hook.output  # latent representation sample\n",
    "                    \n",
    "                    if self.get_2d_rep_mean:\n",
    "                        # Get image HxW mean:\n",
    "                        latent_rep = torch.mean(latent_rep, dim=2, keepdim=True)\n",
    "                        latent_rep = torch.mean(latent_rep, dim=3, keepdim=True)\n",
    "                        # Remove useless dimensions:\n",
    "                        latent_rep = torch.squeeze(latent_rep, dim=2)\n",
    "                        latent_rep = torch.squeeze(latent_rep, dim=2)\n",
    "                    \n",
    "                    # latent_rep = torch.flatten(layer_hook.output, 1)  # latent representation sample\n",
    "                    # ic(layer_hook.output)\n",
    "                    activation_log.append(\n",
    "                        normalizer(latent_rep.data.cpu().numpy()))\n",
    "\n",
    "            self.activation_log = np.concatenate(activation_log, axis=0)\n",
    "            self.index = faiss.IndexFlatL2(latent_rep.shape[1])\n",
    "            self.index.add(self.activation_log)\n",
    "            self.setup_flag = True\n",
    "        else:\n",
    "            pass\n",
    "\n",
    "    @torch.no_grad()\n",
    "    def postprocess(self,\n",
    "                    dnn_model: nn.Module,\n",
    "                    dataloader: DataLoader,\n",
    "                    layer_hook):\n",
    "        \n",
    "        all_preds = []\n",
    "        all_kth_dist_score = []\n",
    "        device = torch.device('cuda' if torch.cuda.is_available() else 'cpu')\n",
    "        dnn_model.to(device)\n",
    "        \n",
    "        for i, (image, label) in enumerate(dataloader):\n",
    "            image = image.to(device)\n",
    "            pred_logits = dnn_model(image)\n",
    "            # ic(layer_hook.output)\n",
    "            # latent_rep = torch.flatten(layer_hook.output, 1)  # latent representation sample\n",
    "            latent_rep = layer_hook.output  # latent representation sample\n",
    "            \n",
    "            if self.get_2d_rep_mean:\n",
    "                # Get image HxW mean:\n",
    "                latent_rep = torch.mean(latent_rep, dim=2, keepdim=True)\n",
    "                latent_rep = torch.mean(latent_rep, dim=3, keepdim=True)\n",
    "                # Remove useless dimensions:\n",
    "                latent_rep = torch.squeeze(latent_rep, dim=2)\n",
    "                latent_rep = torch.squeeze(latent_rep, dim=2)\n",
    "            \n",
    "            pred = torch.max(torch.softmax(pred_logits, dim=1), dim=1)\n",
    "            latent_rep_normed = normalizer(latent_rep.data.cpu().numpy())\n",
    "            \n",
    "            D, _ = self.index.search(\n",
    "                latent_rep_normed,\n",
    "                self.K)\n",
    "            kth_dist = -D[:, -1]\n",
    "            \n",
    "            all_preds.append(pred[0])\n",
    "            all_kth_dist_score.append(kth_dist)\n",
    "            \n",
    "        all_preds_t = torch.cat(all_preds)\n",
    "        # all_kth_dist_score_t = torch.cat(all_kth_dist_score)\n",
    "        all_kth_dist_score_np = np.concatenate(all_kth_dist_score, axis=0)\n",
    "        \n",
    "        return all_preds_t, all_kth_dist_score_np\n",
    "\n",
    "    def set_K_hyperparam(self, hyperparam: int = 50):\n",
    "        self.K = hyperparam\n",
    "\n",
    "    def get_K_hyperparam(self):\n",
    "        return self.K"
   ]
  },
  {
   "cell_type": "code",
   "execution_count": 196,
   "metadata": {},
   "outputs": [
    {
     "name": "stderr",
     "output_type": "stream",
     "text": [
      "ic| len(cs_dlv3p_train_loader): 2975\n",
      "ic| len(cs_dlv3p_valid_loader): 500\n",
      "ic| len(cs_dlv3p_test_loader): 1525\n"
     ]
    },
    {
     "name": "stderr",
     "output_type": "stream",
     "text": [
      "ic| '========================================'\n",
      "ic| len(cs_dlv3p_anomaly_valid_loader): 500\n",
      "ic| len(cs_dlv3p_anomaly_test_loader): 1525\n",
      "ic| '========================================'\n",
      "ic| len(ws_256512_dlv3p_valid_loader): 1482\n",
      "ic| len(ws_256512_dlv3p_test_loader): 823\n",
      "ic| '========================================'\n",
      "ic| len(ws_soiling_256512_valid_loader): 800\n",
      "ic| len(ws_soiling_256512_test_loader): 1000\n"
     ]
    }
   ],
   "source": [
    "ic(len(cs_dlv3p_train_loader));\n",
    "ic(len(cs_dlv3p_valid_loader));\n",
    "ic(len(cs_dlv3p_test_loader));\n",
    "ic(\"========================================\");\n",
    "ic(len(cs_dlv3p_anomaly_valid_loader));\n",
    "ic(len(cs_dlv3p_anomaly_test_loader));\n",
    "ic(\"========================================\");\n",
    "ic(len(ws_256512_dlv3p_valid_loader));\n",
    "ic(len(ws_256512_dlv3p_test_loader));\n",
    "ic(\"========================================\");\n",
    "ic(len(ws_soiling_256512_valid_loader));\n",
    "ic(len(ws_soiling_256512_test_loader));"
   ]
  },
  {
   "cell_type": "markdown",
   "metadata": {},
   "source": [
    "### Add Model Hook"
   ]
  },
  {
   "cell_type": "code",
   "execution_count": 197,
   "metadata": {},
   "outputs": [
    {
     "data": {
      "text/plain": [
       "<__main__.Hook at 0x7f263c3f9410>"
      ]
     },
     "execution_count": 197,
     "metadata": {},
     "output_type": "execute_result"
    }
   ],
   "source": [
    "cs_dlv3p_hook_penultimate_layer = Hook(cs_dlv3p_model.deeplab_v3plus_model.classifier.classifier[2])\n",
    "cs_dlv3p_hook_penultimate_layer"
   ]
  },
  {
   "cell_type": "markdown",
   "metadata": {},
   "source": [
    "### KNN Dist Setup"
   ]
  },
  {
   "cell_type": "code",
   "execution_count": 198,
   "metadata": {},
   "outputs": [],
   "source": [
    "knn_dist_cs_dlv3p = KNNPostprocessor(K=50, setup_flag=False, get_2d_rep_mean=True)"
   ]
  },
  {
   "cell_type": "code",
   "execution_count": 199,
   "metadata": {},
   "outputs": [
    {
     "name": "stdout",
     "output_type": "stream",
     "text": [
      "\n",
      " Get latent embeddings z from training set...\n"
     ]
    }
   ],
   "source": [
    "knn_dist_cs_dlv3p.setup(cs_dlv3p_model.deeplab_v3plus_model,\n",
    "                        cs_dlv3p_train_loader,\n",
    "                        layer_hook=cs_dlv3p_hook_penultimate_layer)"
   ]
  },
  {
   "cell_type": "markdown",
   "metadata": {},
   "source": [
    "### KNN Kth-Dist Scores"
   ]
  },
  {
   "cell_type": "code",
   "execution_count": 200,
   "metadata": {},
   "outputs": [],
   "source": [
    "_, ind_cs_valid_kth_dist_score = knn_dist_cs_dlv3p.postprocess(cs_dlv3p_model.deeplab_v3plus_model,\n",
    "                                                               cs_dlv3p_valid_loader,\n",
    "                                                               cs_dlv3p_hook_penultimate_layer)\n",
    "\n",
    "\n",
    "_, ind_cs_test_kth_dist_score = knn_dist_cs_dlv3p.postprocess(cs_dlv3p_model.deeplab_v3plus_model,\n",
    "                                                              cs_dlv3p_test_loader,\n",
    "                                                              cs_dlv3p_hook_penultimate_layer)\n",
    "\n",
    "\n",
    "_, ood_cs_anomal_valid_kth_dist_score = knn_dist_cs_dlv3p.postprocess(cs_dlv3p_model.deeplab_v3plus_model,\n",
    "                                                                      cs_dlv3p_anomaly_valid_loader,\n",
    "                                                                      cs_dlv3p_hook_penultimate_layer)\n",
    "\n",
    "_, ood_cs_anomal_test_kth_dist_score = knn_dist_cs_dlv3p.postprocess(cs_dlv3p_model.deeplab_v3plus_model,\n",
    "                                                                     cs_dlv3p_anomaly_test_loader,\n",
    "                                                                     cs_dlv3p_hook_penultimate_layer)\n",
    "\n",
    "\n",
    "_, ood_ws_valid_kth_dist_score = knn_dist_cs_dlv3p.postprocess(cs_dlv3p_model.deeplab_v3plus_model,\n",
    "                                                               ws_256512_dlv3p_valid_loader,\n",
    "                                                               cs_dlv3p_hook_penultimate_layer)\n",
    "\n",
    "_, ood_ws_test_kth_dist_score = knn_dist_cs_dlv3p.postprocess(cs_dlv3p_model.deeplab_v3plus_model,\n",
    "                                                              ws_256512_dlv3p_test_loader,\n",
    "                                                              cs_dlv3p_hook_penultimate_layer)\n",
    "\n",
    "\n",
    "_, ood_ws_soil_valid_kth_dist_score = knn_dist_cs_dlv3p.postprocess(cs_dlv3p_model.deeplab_v3plus_model,\n",
    "                                                                    ws_soiling_256512_valid_loader,\n",
    "                                                                    cs_dlv3p_hook_penultimate_layer)\n",
    "\n",
    "_, ood_ws_soil_test_kth_dist_score = knn_dist_cs_dlv3p.postprocess(cs_dlv3p_model.deeplab_v3plus_model,\n",
    "                                                                   ws_soiling_256512_test_loader,\n",
    "                                                                   cs_dlv3p_hook_penultimate_layer)"
   ]
  },
  {
   "cell_type": "code",
   "execution_count": 201,
   "metadata": {},
   "outputs": [],
   "source": [
    "ind_cs_kth_dist_score = np.concatenate((ind_cs_valid_kth_dist_score, ind_cs_test_kth_dist_score))\n",
    "ood_cs_anomal_kth_dist_score = np.concatenate((ood_cs_anomal_valid_kth_dist_score, ood_cs_anomal_test_kth_dist_score))\n",
    "ood_ws_kth_dist_score = np.concatenate((ood_ws_valid_kth_dist_score, ood_ws_test_kth_dist_score))\n",
    "ood_ws_soil_kth_dist_score = np.concatenate((ood_ws_soil_valid_kth_dist_score, ood_ws_soil_test_kth_dist_score))"
   ]
  },
  {
   "cell_type": "code",
   "execution_count": null,
   "metadata": {},
   "outputs": [],
   "source": [
    "knn_dist_penultimate_layer_score_path"
   ]
  },
  {
   "cell_type": "code",
   "execution_count": 152,
   "metadata": {},
   "outputs": [],
   "source": [
    "np.save(knn_dist_penultimate_layer_score_path + 'ind_cs_kth_dist_score',\n",
    "        ind_cs_kth_dist_score)\n",
    "\n",
    "np.save(knn_dist_penultimate_layer_score_path + 'ood_cs_anomal_kth_dist_score',\n",
    "        ood_cs_anomal_kth_dist_score)\n",
    "\n",
    "np.save(knn_dist_penultimate_layer_score_path + 'ood_ws_kth_dist_score',\n",
    "        ood_ws_kth_dist_score)\n",
    "\n",
    "np.save(knn_dist_penultimate_layer_score_path + 'ood_ws_soil_kth_dist_score',\n",
    "        ood_ws_soil_kth_dist_score)"
   ]
  },
  {
   "cell_type": "code",
   "execution_count": 203,
   "metadata": {},
   "outputs": [
    {
     "name": "stderr",
     "output_type": "stream",
     "text": [
      "ic| ind_cs_kth_dist_score.shape: (2025,)\n",
      "ic| ood_cs_anomal_kth_dist_score.shape: (2025,)\n",
      "ic| ood_ws_kth_dist_score.shape: (2305,)\n",
      "ic| ood_ws_soil_kth_dist_score.shape: (1800,)\n"
     ]
    }
   ],
   "source": [
    "ic(ind_cs_kth_dist_score.shape);\n",
    "ic(ood_cs_anomal_kth_dist_score.shape);\n",
    "ic(ood_ws_kth_dist_score.shape);\n",
    "ic(ood_ws_soil_kth_dist_score.shape);"
   ]
  },
  {
   "cell_type": "code",
   "execution_count": 204,
   "metadata": {},
   "outputs": [],
   "source": [
    "df_kth_dist_scores_cs = pd.DataFrame(ind_cs_kth_dist_score, columns=[\"KNN Distance score\"])\n",
    "df_kth_dist_scores_cs_anomal = pd.DataFrame(ood_cs_anomal_kth_dist_score, columns=[\"KNN Distance score\"])\n",
    "df_kth_dist_scores_ws = pd.DataFrame(ood_ws_kth_dist_score, columns=[\"KNN Distance score\"])\n",
    "df_kth_dist_scores_ws_soil = pd.DataFrame(ood_ws_soil_kth_dist_score, columns=[\"KNN Distance score\"])\n",
    "\n",
    "df_kth_dist_scores_cs.insert(0, \"Dataset\", \"\")\n",
    "df_kth_dist_scores_cs.loc[:, \"Dataset\"] = \"cityscapes\"\n",
    "\n",
    "df_kth_dist_scores_cs_anomal.insert(0, \"Dataset\", \"\")\n",
    "df_kth_dist_scores_cs_anomal.loc[:, \"Dataset\"] = \"cityscapes-anomal\"\n",
    "\n",
    "df_kth_dist_scores_ws.insert(0, \"Dataset\", \"\")\n",
    "df_kth_dist_scores_ws.loc[:, \"Dataset\"] = \"woodscape\"\n",
    "\n",
    "df_kth_dist_scores_ws_soil.insert(0, \"Dataset\", \"\")\n",
    "df_kth_dist_scores_ws_soil.loc[:, \"Dataset\"] = \"woodscape-soiling\""
   ]
  },
  {
   "cell_type": "code",
   "execution_count": 206,
   "metadata": {},
   "outputs": [
    {
     "data": {
      "image/png": "[encoded data removed]",
      "text/plain": [
       "<Figure size 679.875x500 with 1 Axes>"
      ]
     },
     "metadata": {},
     "output_type": "display_data"
    }
   ],
   "source": [
    "df_pred_kth_dist_scores = pd.concat([df_kth_dist_scores_cs,\n",
    "                                     df_kth_dist_scores_cs_anomal]).reset_index(drop=True)\n",
    "\n",
    "sns.displot(df_pred_kth_dist_scores, x=\"KNN Distance score\", hue=\"Dataset\", kind=\"hist\", fill=True)\n",
    "plt.show()"
   ]
  },
  {
   "cell_type": "code",
   "execution_count": 207,
   "metadata": {},
   "outputs": [
    {
     "name": "stderr",
     "output_type": "stream",
     "text": [
      "ic| ind_cs_kth_dist_score.shape: (2025,)\n",
      "ic| ood_cs_anomal_kth_dist_score.shape: (2025,)\n",
      "ic| ood_ws_kth_dist_score.shape: (2305,)\n",
      "ic| ood_ws_soil_kth_dist_score.shape: (1800,)\n"
     ]
    }
   ],
   "source": [
    "ic(ind_cs_kth_dist_score.shape);\n",
    "ic(ood_cs_anomal_kth_dist_score.shape);\n",
    "ic(ood_ws_kth_dist_score.shape);\n",
    "ic(ood_ws_soil_kth_dist_score.shape);"
   ]
  },
  {
   "cell_type": "markdown",
   "metadata": {},
   "source": [
    "### Cityscapes vs. Cityscapes-anomaly"
   ]
  },
  {
   "cell_type": "markdown",
   "metadata": {},
   "source": [
    "We align with the convention where positive (in-distribution) samples have higher scores (see plots above)"
   ]
  },
  {
   "cell_type": "code",
   "execution_count": 208,
   "metadata": {},
   "outputs": [
    {
     "name": "stdout",
     "output_type": "stream",
     "text": [
      "Test InD shape (2025,)\n",
      "Test OoD shape (2025,)\n",
      "AUROC: 0.9562\n",
      "FPR95: 0.2435\n",
      "AUPR: 0.9600\n"
     ]
    }
   ],
   "source": [
    "print(\"Test InD shape\", ind_cs_kth_dist_score.shape);\n",
    "print(\"Test OoD shape\", ood_cs_anomal_kth_dist_score.shape);\n",
    "\n",
    "results_kth_dist_gtsrb_anomaly = get_hz_detector_results(detect_exp_name=\"KNN Distance score: cityscapes vs. cityscapes-anomaly\",\n",
    "                                                         ind_samples_scores=ind_cs_kth_dist_score,\n",
    "                                                         ood_samples_scores=ood_cs_anomal_kth_dist_score)"
   ]
  },
  {
   "cell_type": "markdown",
   "metadata": {},
   "source": [
    "### Cityscapes vs. Woodscape"
   ]
  },
  {
   "cell_type": "markdown",
   "metadata": {},
   "source": [
    "We align with the convention where positive (in-distribution) samples have higher scores (see plots above)"
   ]
  },
  {
   "cell_type": "code",
   "execution_count": 209,
   "metadata": {},
   "outputs": [
    {
     "name": "stdout",
     "output_type": "stream",
     "text": [
      "Test InD shape (2025,)\n",
      "Test OoD shape (2305,)\n",
      "AUROC: 0.9962\n",
      "FPR95: 0.0048\n",
      "AUPR: 0.9967\n"
     ]
    }
   ],
   "source": [
    "print(\"Test InD shape\", ind_cs_kth_dist_score.shape);\n",
    "print(\"Test OoD shape\", ood_ws_kth_dist_score.shape);\n",
    "\n",
    "results_kth_dist_cifar10 = get_hz_detector_results(detect_exp_name=\"KNN Distance score: cityscapes vs. woodscape\",\n",
    "                                                 ind_samples_scores=ind_cs_kth_dist_score,\n",
    "                                                 ood_samples_scores=ood_ws_kth_dist_score)"
   ]
  },
  {
   "cell_type": "markdown",
   "metadata": {},
   "source": [
    "### Cityscapes vs. Woodscape-soiling"
   ]
  },
  {
   "cell_type": "markdown",
   "metadata": {},
   "source": [
    "We align with the convention where positive (in-distribution) samples have higher scores (see plots above)"
   ]
  },
  {
   "cell_type": "code",
   "execution_count": 210,
   "metadata": {},
   "outputs": [
    {
     "name": "stdout",
     "output_type": "stream",
     "text": [
      "Test InD shape (2025,)\n",
      "Test OoD shape (1800,)\n",
      "AUROC: 0.9987\n",
      "FPR95: 0.0000\n",
      "AUPR: 0.9992\n"
     ]
    }
   ],
   "source": [
    "print(\"Test InD shape\", ind_cs_kth_dist_score.shape);\n",
    "print(\"Test OoD shape\", ood_ws_soil_kth_dist_score.shape);\n",
    "\n",
    "results_kth_dist_stl10 = get_hz_detector_results(detect_exp_name=\"KNN Distance score: cityscapes vs. woodscape-soiling\",\n",
    "                                                 ind_samples_scores=ind_cs_kth_dist_score,\n",
    "                                                 ood_samples_scores=ood_ws_soil_kth_dist_score)"
   ]
  },
  {
   "cell_type": "code",
   "execution_count": null,
   "metadata": {},
   "outputs": [],
   "source": []
  },
  {
   "cell_type": "code",
   "execution_count": null,
   "metadata": {},
   "outputs": [],
   "source": []
  },
  {
   "cell_type": "code",
   "execution_count": null,
   "metadata": {},
   "outputs": [],
   "source": []
  },
  {
   "cell_type": "code",
   "execution_count": null,
   "metadata": {},
   "outputs": [],
   "source": []
  }
 ],
 "metadata": {
  "kernelspec": {
   "display_name": "Semantic_Segmentation",
   "language": "python",
   "name": "python3"
  },
  "language_info": {
   "codemirror_mode": {
    "name": "ipython",
    "version": 3
   },
   "file_extension": ".py",
   "mimetype": "text/x-python",
   "name": "python",
   "nbconvert_exporter": "python",
   "pygments_lexer": "ipython3",
   "version": "3.7.5"
  },
  "orig_nbformat": 4
 },
 "nbformat": 4,
 "nbformat_minor": 2
}

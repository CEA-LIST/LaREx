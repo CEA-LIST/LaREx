{
 "cells": [
  {
   "attachments": {},
   "cell_type": "markdown",
   "metadata": {},
   "source": [
    "# General Imports"
   ]
  },
  {
   "cell_type": "code",
   "execution_count": 1,
   "metadata": {},
   "source": [
    "%load_ext autoreload\n",
    "%autoreload 2\n",
    "%reload_ext autoreload"
   ],
   "outputs": []
  },
  {
   "cell_type": "code",
   "execution_count": 2,
   "metadata": {},
   "source": [
    "from collections import namedtuple\n",
    "import numpy as np\n",
    "import matplotlib.pyplot as plt\n",
    "import random\n",
    "import pandas as pd\n",
    "import seaborn as sns"
   ],
   "outputs": []
  },
  {
   "cell_type": "code",
   "execution_count": 3,
   "metadata": {},
   "source": [
    "from utils.display_images import denormalize_img\n",
    "from utils import show_dataset_image, show_dataset_mask\n",
    "from utils import show_prediction_images, show_prediction_uncertainty_images"
   ],
   "outputs": []
  },
  {
   "cell_type": "code",
   "execution_count": 4,
   "metadata": {},
   "source": [
    "import pacmap\n",
    "from sklearn.decomposition import PCA"
   ],
   "outputs": []
  },
  {
   "cell_type": "code",
   "execution_count": 5,
   "metadata": {},
   "source": [
    "from ls_ood_detect.uncertainty_estimation import Hook\n",
    "from ls_ood_detect.uncertainty_estimation import deeplabv3p_get_ls_mcd_samples\n",
    "from ls_ood_detect.uncertainty_estimation import get_latent_represent_mcd_samples\n",
    "from ls_ood_detect.uncertainty_estimation import get_dl_h_z\n",
    "from ls_ood_detect.ood_detection_dataset import build_ood_detection_ds\n",
    "from ls_ood_detect.dimensionality_reduction import plot_samples_pacmap\n",
    "from ls_ood_detect.detectors import KDEClassifier, DetectorKDE\n",
    "from ls_ood_detect.score import get_hz_scores\n",
    "from ls_ood_detect.metrics import get_hz_detector_results\n",
    "from ls_ood_detect.metrics import get_ood_detector_results\n",
    "from ls_ood_detect.metrics import plot_roc_ood_detector\n",
    "from ls_ood_detect.metrics import plot_auprc_ood_detector\n",
    "from ls_ood_detect.dimensionality_reduction import plot_samples_pacmap\n",
    "from ls_ood_detect.dimensionality_reduction import apply_pca_ds_split\n",
    "from ls_ood_detect.dimensionality_reduction import apply_pca_transform"
   ],
   "outputs": []
  },
  {
   "cell_type": "code",
   "execution_count": 6,
   "metadata": {},
   "source": [
    "from icecream import ic"
   ],
   "outputs": []
  },
  {
   "attachments": {},
   "cell_type": "markdown",
   "metadata": {},
   "source": [
    "# Load Entropy"
   ]
  },
  {
   "cell_type": "code",
   "execution_count": 7,
   "metadata": {},
   "source": [
    "ws_unet_h_z_ws_normal_train_samples_np = np.load('./Data/EXPERIMENTS/CVPR-2024/semantic_segmentation/unet/embeddings/woodscape/entropy/ws_unet_h_z_ws_normal_train_samples_np.npy')\n",
    "ws_unet_h_z_ws_normal_valid_samples_np = np.load('./Data/EXPERIMENTS/CVPR-2024/semantic_segmentation/unet/embeddings/woodscape/entropy/ws_unet_h_z_ws_normal_valid_samples_np.npy')\n",
    "ws_unet_h_z_ws_normal_test_samples_np = np.load('./Data/EXPERIMENTS/CVPR-2024/semantic_segmentation/unet/embeddings/woodscape/entropy/ws_unet_h_z_ws_normal_test_samples_np.npy')\n",
    "\n",
    "ws_unet_h_z_ws_anomal_valid_samples_np = np.load('./Data/EXPERIMENTS/CVPR-2024/semantic_segmentation/unet/embeddings/woodscape/entropy/ws_unet_h_z_ws_anomal_valid_samples_np.npy')\n",
    "ws_unet_h_z_ws_anomal_test_samples_np = np.load('./Data/EXPERIMENTS/CVPR-2024/semantic_segmentation/unet/embeddings/woodscape/entropy/ws_unet_h_z_ws_anomal_test_samples_np.npy')\n",
    "\n",
    "ws_unet_h_z_cs_valid_samples_np = np.load('./Data/EXPERIMENTS/CVPR-2024/semantic_segmentation/unet/embeddings/woodscape/entropy/ws_unet_h_z_cs_valid_samples_np.npy')\n",
    "ws_unet_h_z_cs_test_samples_np = np.load('./Data/EXPERIMENTS/CVPR-2024/semantic_segmentation/unet/embeddings/woodscape/entropy/ws_unet_h_z_cs_test_samples_np.npy')\n",
    "\n",
    "ws_unet_h_z_ws_soil_valid_samples_np = np.load('./Data/EXPERIMENTS/CVPR-2024/semantic_segmentation/unet/embeddings/woodscape/entropy/ws_unet_h_z_ws_soil_valid_samples_np.npy')\n",
    "ws_unet_h_z_ws_soil_test_samples_np = np.load('./Data/EXPERIMENTS/CVPR-2024/semantic_segmentation/unet/embeddings/woodscape/entropy/ws_unet_h_z_ws_soil_test_samples_np.npy')"
   ],
   "outputs": []
  },
  {
   "cell_type": "markdown",
   "metadata": {},
   "source": [
    "# Plot 2D Projections"
   ]
  },
  {
   "cell_type": "code",
   "execution_count": 8,
   "metadata": {},
   "source": [
    "\n",
    "ws_unet_h_z_ind = np.concatenate((ws_unet_h_z_ws_normal_valid_samples_np,\n",
    "                                  ws_unet_h_z_ws_normal_test_samples_np))\n",
    "\n",
    "ws_unet_h_z_ood = np.concatenate((ws_unet_h_z_ws_anomal_valid_samples_np,\n",
    "                                  ws_unet_h_z_ws_anomal_test_samples_np))\n",
    "\n",
    "ic(ws_unet_h_z_ind.shape)\n",
    "ic(ws_unet_h_z_ood.shape)\n",
    "\n",
    "plot_samples_pacmap(ws_unet_h_z_ind,\n",
    "                    ws_unet_h_z_ood,\n",
    "                    neighbors=12,\n",
    "                    title=\"U-Net $\\hat{H}(z_i \\mid x)$: Woodscape (InD) vs Woodscape-Anomalies (shift)\")"
   ],
   "outputs": []
  },
  {
   "cell_type": "code",
   "execution_count": 9,
   "metadata": {},
   "source": [
    "ws_unet_h_z_ind = np.concatenate((ws_unet_h_z_ws_normal_valid_samples_np,\n",
    "                                  ws_unet_h_z_ws_normal_test_samples_np))\n",
    "\n",
    "ws_unet_h_z_ood = np.concatenate((ws_unet_h_z_cs_valid_samples_np,\n",
    "                                  ws_unet_h_z_cs_test_samples_np))\n",
    "\n",
    "ic(ws_unet_h_z_ind.shape)\n",
    "ic(ws_unet_h_z_ood.shape)\n",
    "\n",
    "plot_samples_pacmap(ws_unet_h_z_ind,\n",
    "                    ws_unet_h_z_ood,\n",
    "                    neighbors=12,\n",
    "                    title=\"U-Net $\\hat{H}(z_i \\mid x)$: Woodscape (InD) vs Cityscapes (shift)\")"
   ],
   "outputs": []
  },
  {
   "cell_type": "code",
   "execution_count": 10,
   "metadata": {},
   "source": [
    "\n",
    "ws_unet_h_z_ind = np.concatenate((ws_unet_h_z_ws_normal_valid_samples_np,\n",
    "                                  ws_unet_h_z_ws_normal_test_samples_np))\n",
    "\n",
    "ws_unet_h_z_ood = np.concatenate((ws_unet_h_z_ws_soil_valid_samples_np,\n",
    "                                  ws_unet_h_z_ws_soil_test_samples_np))\n",
    "\n",
    "ic(ws_unet_h_z_ind.shape)\n",
    "ic(ws_unet_h_z_ood.shape)\n",
    "\n",
    "plot_samples_pacmap(ws_unet_h_z_ind,\n",
    "                    ws_unet_h_z_ood,\n",
    "                    neighbors=12,\n",
    "                    title=\"U-Net $\\hat{H}(z_i \\mid x)$: Woodscape (InD) vs Woodscape-Soiling (shift)\")"
   ],
   "outputs": []
  },
  {
   "cell_type": "markdown",
   "metadata": {},
   "source": [
    "# Load Entropy"
   ]
  },
  {
   "cell_type": "code",
   "execution_count": 17,
   "metadata": {},
   "source": [
    "ws_unet_h_z_ws_normal_train_samples_np = np.load('./Data/EXPERIMENTS/CVPR-2024/semantic_segmentation/unet/embeddings/woodscape/entropy/ws_unet_h_z_ws_normal_train_samples_np.npy')\n",
    "ws_unet_h_z_ws_normal_valid_samples_np = np.load('./Data/EXPERIMENTS/CVPR-2024/semantic_segmentation/unet/embeddings/woodscape/entropy/ws_unet_h_z_ws_normal_valid_samples_np.npy')\n",
    "ws_unet_h_z_ws_normal_test_samples_np = np.load('./Data/EXPERIMENTS/CVPR-2024/semantic_segmentation/unet/embeddings/woodscape/entropy/ws_unet_h_z_ws_normal_test_samples_np.npy')\n",
    "\n",
    "ws_unet_h_z_ws_anomal_valid_samples_np = np.load('./Data/EXPERIMENTS/CVPR-2024/semantic_segmentation/unet/embeddings/woodscape/entropy/ws_unet_h_z_ws_anomal_valid_samples_np.npy')\n",
    "ws_unet_h_z_ws_anomal_test_samples_np = np.load('./Data/EXPERIMENTS/CVPR-2024/semantic_segmentation/unet/embeddings/woodscape/entropy/ws_unet_h_z_ws_anomal_test_samples_np.npy')\n",
    "\n",
    "ws_unet_h_z_cs_valid_samples_np = np.load('./Data/EXPERIMENTS/CVPR-2024/semantic_segmentation/unet/embeddings/woodscape/entropy/ws_unet_h_z_cs_valid_samples_np.npy')\n",
    "ws_unet_h_z_cs_test_samples_np = np.load('./Data/EXPERIMENTS/CVPR-2024/semantic_segmentation/unet/embeddings/woodscape/entropy/ws_unet_h_z_cs_test_samples_np.npy')\n",
    "\n",
    "ws_unet_h_z_ws_soil_valid_samples_np = np.load('./Data/EXPERIMENTS/CVPR-2024/semantic_segmentation/unet/embeddings/woodscape/entropy/ws_unet_h_z_ws_soil_valid_samples_np.npy')\n",
    "ws_unet_h_z_ws_soil_test_samples_np = np.load('./Data/EXPERIMENTS/CVPR-2024/semantic_segmentation/unet/embeddings/woodscape/entropy/ws_unet_h_z_ws_soil_test_samples_np.npy')"
   ],
   "outputs": []
  },
  {
   "attachments": {},
   "cell_type": "markdown",
   "metadata": {},
   "source": [
    "# Dimensionality Reduction PCA"
   ]
  },
  {
   "cell_type": "code",
   "execution_count": 18,
   "metadata": {},
   "source": [
    "pca_ws_unet_h_z_ws_normal_train_samples_np, pca_tr = apply_pca_ds_split(samples=ws_unet_h_z_ws_normal_train_samples_np,\n",
    "                                                                        nro_components=50)"
   ],
   "outputs": []
  },
  {
   "cell_type": "code",
   "execution_count": 19,
   "metadata": {},
   "source": [
    "pca_ws_unet_h_z_ws_normal_valid_samples_np = apply_pca_transform(ws_unet_h_z_ws_normal_valid_samples_np, pca_tr) # InD\n",
    "pca_ws_unet_h_z_ws_normal_test_samples_np = apply_pca_transform(ws_unet_h_z_ws_normal_test_samples_np, pca_tr) # InD\n",
    "\n",
    "pca_ws_unet_h_z_ws_anomal_valid_samples_np = apply_pca_transform(ws_unet_h_z_ws_anomal_valid_samples_np, pca_tr) # OoD | shifted\n",
    "pca_ws_unet_h_z_ws_anomal_test_samples_np = apply_pca_transform(ws_unet_h_z_ws_anomal_test_samples_np, pca_tr) # OoD | shifted\n",
    "\n",
    "pca_ws_unet_h_z_cs_valid_samples_np = apply_pca_transform(ws_unet_h_z_cs_valid_samples_np, pca_tr) # OoD | shifted\n",
    "pca_ws_unet_h_z_cs_test_samples_np = apply_pca_transform(ws_unet_h_z_cs_test_samples_np, pca_tr) # OoD | shifted\n",
    "\n",
    "pca_ws_unet_h_z_ws_soil_valid_samples_np = apply_pca_transform(ws_unet_h_z_ws_soil_valid_samples_np, pca_tr) # OoD | shifted\n",
    "pca_ws_unet_h_z_ws_soil_test_samples_np = apply_pca_transform(ws_unet_h_z_ws_soil_test_samples_np, pca_tr) # OoD | shifted"
   ],
   "outputs": []
  },
  {
   "attachments": {},
   "cell_type": "markdown",
   "metadata": {},
   "source": [
    "# Experiment 2: PCA Dataset - Train Data Reference"
   ]
  },
  {
   "cell_type": "code",
   "execution_count": 21,
   "metadata": {},
   "source": [
    "ic(pca_ws_unet_h_z_ws_normal_train_samples_np.shape);\n",
    "ic(pca_ws_unet_h_z_ws_normal_valid_samples_np.shape);\n",
    "ic(pca_ws_unet_h_z_ws_normal_test_samples_np.shape);\n",
    "ic(pca_ws_unet_h_z_ws_anomal_valid_samples_np.shape);\n",
    "ic(pca_ws_unet_h_z_ws_anomal_test_samples_np.shape);\n",
    "ic(pca_ws_unet_h_z_cs_valid_samples_np.shape);\n",
    "ic(pca_ws_unet_h_z_cs_test_samples_np.shape);\n",
    "ic(pca_ws_unet_h_z_ws_soil_valid_samples_np.shape);\n",
    "ic(pca_ws_unet_h_z_ws_soil_test_samples_np.shape);"
   ],
   "outputs": []
  },
  {
   "cell_type": "code",
   "execution_count": 22,
   "metadata": {},
   "source": [
    "pca_ws_unet_ind_ws_normal_h_z = np.concatenate((pca_ws_unet_h_z_ws_normal_valid_samples_np,\n",
    "                                                pca_ws_unet_h_z_ws_normal_test_samples_np))\n",
    "\n",
    "pca_ws_unet_ood_ws_anomal_h_z = np.concatenate((pca_ws_unet_h_z_ws_anomal_valid_samples_np,\n",
    "                                                pca_ws_unet_h_z_ws_anomal_test_samples_np))\n",
    "\n",
    "pca_ws_unet_ood_cs_h_z = np.concatenate((pca_ws_unet_h_z_cs_valid_samples_np,\n",
    "                                         pca_ws_unet_h_z_cs_test_samples_np))\n",
    "\n",
    "pca_ws_unet_ood_ws_soil_h_z = np.concatenate((pca_ws_unet_h_z_ws_soil_valid_samples_np,\n",
    "                                              pca_ws_unet_h_z_ws_soil_test_samples_np))\n",
    "\n",
    "ic(pca_ws_unet_ind_ws_normal_h_z.shape);\n",
    "ic(pca_ws_unet_ood_ws_anomal_h_z.shape);\n",
    "ic(pca_ws_unet_ood_cs_h_z.shape);\n",
    "ic(pca_ws_unet_ood_ws_soil_h_z.shape);"
   ],
   "outputs": []
  },
  {
   "attachments": {},
   "cell_type": "markdown",
   "metadata": {},
   "source": [
    "## Build Detector"
   ]
  },
  {
   "cell_type": "code",
   "execution_count": 24,
   "metadata": {},
   "source": [
    "ws_unet_ds_shift_detector_pca = DetectorKDE(train_embeddings=pca_ws_unet_h_z_ws_normal_train_samples_np)"
   ],
   "outputs": []
  },
  {
   "attachments": {},
   "cell_type": "markdown",
   "metadata": {},
   "source": [
    "## Get Scores"
   ]
  },
  {
   "cell_type": "code",
   "execution_count": 25,
   "metadata": {},
   "source": [
    "scores_pca_ws_unet_ind_ws_normal_h_z = get_hz_scores(ws_unet_ds_shift_detector_pca,\n",
    "                                                     pca_ws_unet_ind_ws_normal_h_z)\n",
    "\n",
    "scores_pca_ws_unet_ood_ws_anomal_h_z = get_hz_scores(ws_unet_ds_shift_detector_pca,\n",
    "                                                     pca_ws_unet_ood_ws_anomal_h_z)\n",
    "\n",
    "scores_pca_ws_unet_ood_cs_h_z = get_hz_scores(ws_unet_ds_shift_detector_pca,\n",
    "                                              pca_ws_unet_ood_cs_h_z)\n",
    "\n",
    "scores_pca_ws_unet_ood_ws_soil_h_z = get_hz_scores(ws_unet_ds_shift_detector_pca,\n",
    "                                                   pca_ws_unet_ood_ws_soil_h_z)\n"
   ],
   "outputs": []
  },
  {
   "attachments": {},
   "cell_type": "markdown",
   "metadata": {},
   "source": [
    "## Get Results"
   ]
  },
  {
   "cell_type": "code",
   "execution_count": 26,
   "metadata": {},
   "source": [
    "print(\"\\nwoodscape-normal vs. woodscape-anomal:\")\n",
    "print(\"Test InD shape\", scores_pca_ws_unet_ind_ws_normal_h_z.shape);\n",
    "print(\"Test OoD shape\", scores_pca_ws_unet_ood_ws_anomal_h_z.shape);\n",
    "\n",
    "results_ws_anomal = get_hz_detector_results(detect_exp_name=\"woodscape-normal vs. wooscape-anomal\",\n",
    "                                            ind_samples_scores=scores_pca_ws_unet_ind_ws_normal_h_z,\n",
    "                                            ood_samples_scores=scores_pca_ws_unet_ood_ws_anomal_h_z)\n",
    "\n",
    "print(\"\\nwoodscape-normal vs. cityscapes:\")\n",
    "print(\"Test InD shape\", scores_pca_ws_unet_ind_ws_normal_h_z.shape);\n",
    "print(\"Test OoD shape\", scores_pca_ws_unet_ood_cs_h_z.shape);\n",
    "\n",
    "results_cs = get_hz_detector_results(detect_exp_name=\"woodscape-normal vs. cityscapes\",\n",
    "                                     ind_samples_scores=scores_pca_ws_unet_ind_ws_normal_h_z,\n",
    "                                     ood_samples_scores=scores_pca_ws_unet_ood_cs_h_z)\n",
    "\n",
    "print(\"\\nwoodscape-normal vs. woodscape-soiling:\")\n",
    "print(\"Test InD shape\", scores_pca_ws_unet_ind_ws_normal_h_z.shape);\n",
    "print(\"Test OoD shape\", scores_pca_ws_unet_ood_ws_soil_h_z.shape);\n",
    "\n",
    "results_ws_soil = get_hz_detector_results(detect_exp_name=\"woodscape-normal vs. woodscape-soiling\",\n",
    "                                          ind_samples_scores=scores_pca_ws_unet_ind_ws_normal_h_z,\n",
    "                                          ood_samples_scores=scores_pca_ws_unet_ood_ws_soil_h_z)"
   ],
   "outputs": []
  },
  {
   "cell_type": "markdown",
   "metadata": {},
   "source": [
    "So far the best results with PCA are with: 32, 40, and 48 PCA components"
   ]
  },
  {
   "cell_type": "markdown",
   "metadata": {},
   "source": [
    "## Plot Score Values Training Set Reference KDE"
   ]
  },
  {
   "cell_type": "code",
   "execution_count": 27,
   "metadata": {},
   "source": [
    "df_score_ind_ws_normal = pd.DataFrame(scores_pca_ws_unet_ind_ws_normal_h_z, columns=[\"LaRED score\"])\n",
    "df_score_ood_ws_anomal = pd.DataFrame(scores_pca_ws_unet_ood_ws_anomal_h_z, columns=[\"LaRED score\"])\n",
    "df_score_ood_cs = pd.DataFrame(scores_pca_ws_unet_ood_cs_h_z, columns=[\"LaRED score\"])\n",
    "df_score_ood_ws_soil = pd.DataFrame(scores_pca_ws_unet_ood_ws_soil_h_z, columns=[\"LaRED score\"])\n",
    "\n",
    "df_score_ind_ws_normal.insert(0, \"Dataset\", \"\")\n",
    "df_score_ind_ws_normal.loc[:, \"Dataset\"] = \"InD-wooscape-normal\"\n",
    "\n",
    "df_score_ood_ws_anomal.insert(0, \"Dataset\", \"\")\n",
    "df_score_ood_ws_anomal.loc[:, \"Dataset\"] = \"woodscape-anomalies\"\n",
    "\n",
    "df_score_ood_cs.insert(0, \"Dataset\", \"\")\n",
    "df_score_ood_cs.loc[:, \"Dataset\"] = \"cityscapes\"\n",
    "\n",
    "df_score_ood_ws_soil.insert(0, \"Dataset\", \"\")\n",
    "df_score_ood_ws_soil.loc[:, \"Dataset\"] = \"woodscape-soiling\""
   ],
   "outputs": []
  },
  {
   "cell_type": "code",
   "execution_count": 29,
   "metadata": {},
   "source": [
    "df_h_z_valid_scores = pd.concat([df_score_ind_ws_normal,\n",
    "                                 df_score_ood_ws_anomal]).reset_index(drop=True)\n",
    "\n",
    "sns.displot(df_h_z_valid_scores, x=\"LaRED score\", hue=\"Dataset\", kind=\"hist\", fill=True)\n",
    "plt.show()"
   ],
   "outputs": []
  },
  {
   "cell_type": "code",
   "execution_count": 30,
   "metadata": {},
   "source": [
    "df_h_z_valid_scores = pd.concat([df_score_ind_ws_normal,\n",
    "                                 df_score_ood_cs]).reset_index(drop=True)\n",
    "\n",
    "sns.displot(df_h_z_valid_scores, x=\"LaRED score\", hue=\"Dataset\", kind=\"hist\", fill=True)\n",
    "plt.show()"
   ],
   "outputs": []
  },
  {
   "cell_type": "code",
   "execution_count": 31,
   "metadata": {},
   "source": [
    "df_h_z_valid_scores = pd.concat([df_score_ind_ws_normal,\n",
    "                                 df_score_ood_ws_soil]).reset_index(drop=True)\n",
    "\n",
    "sns.displot(df_h_z_valid_scores, x=\"LaRED score\", hue=\"Dataset\", kind=\"hist\", fill=True)\n",
    "plt.show()"
   ],
   "outputs": []
  },
  {
   "cell_type": "code",
   "execution_count": null,
   "metadata": {},
   "source": [],
   "outputs": []
  }
 ],
 "metadata": {
  "kernelspec": {
   "display_name": "Semantic_Segmentation",
   "language": "python",
   "name": "python3"
  },
  "language_info": {
   "codemirror_mode": {
    "name": "ipython",
    "version": 3
   },
   "file_extension": ".py",
   "mimetype": "text/x-python",
   "name": "python",
   "nbconvert_exporter": "python",
   "pygments_lexer": "ipython3",
   "version": "3.7.5"
  },
  "orig_nbformat": 4
 },
 "nbformat": 4,
 "nbformat_minor": 2
}

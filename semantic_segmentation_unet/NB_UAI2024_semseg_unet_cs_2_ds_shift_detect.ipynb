{
 "cells": [
  {
   "attachments": {},
   "cell_type": "markdown",
   "metadata": {},
   "source": [
    "# General Imports"
   ]
  },
  {
   "cell_type": "code",
   "execution_count": 1,
   "metadata": {},
   "source": [
    "%load_ext autoreload\n",
    "%autoreload 2\n",
    "%reload_ext autoreload"
   ],
   "outputs": []
  },
  {
   "cell_type": "code",
   "execution_count": 2,
   "metadata": {},
   "source": [
    "from collections import namedtuple\n",
    "import numpy as np\n",
    "import matplotlib.pyplot as plt\n",
    "import random\n",
    "import pandas as pd\n",
    "import seaborn as sns"
   ],
   "outputs": []
  },
  {
   "cell_type": "code",
   "execution_count": 3,
   "metadata": {},
   "source": [
    "from utils.display_images import denormalize_img\n",
    "from utils import show_dataset_image, show_dataset_mask\n",
    "from utils import show_prediction_images, show_prediction_uncertainty_images"
   ],
   "outputs": []
  },
  {
   "cell_type": "code",
   "execution_count": 4,
   "metadata": {},
   "source": [
    "import pacmap\n",
    "from sklearn.decomposition import PCA"
   ],
   "outputs": []
  },
  {
   "cell_type": "code",
   "execution_count": 5,
   "metadata": {},
   "source": [
    "from ls_ood_detect.uncertainty_estimation import Hook\n",
    "from ls_ood_detect.uncertainty_estimation import deeplabv3p_get_ls_mcd_samples\n",
    "from ls_ood_detect.uncertainty_estimation import get_latent_represent_mcd_samples\n",
    "from ls_ood_detect.uncertainty_estimation import get_dl_h_z\n",
    "from ls_ood_detect.ood_detection_dataset import build_ood_detection_ds\n",
    "from ls_ood_detect.dimensionality_reduction import plot_samples_pacmap\n",
    "from ls_ood_detect.detectors import KDEClassifier, DetectorKDE\n",
    "from ls_ood_detect.score import get_hz_scores\n",
    "from ls_ood_detect.metrics import get_hz_detector_results\n",
    "from ls_ood_detect.metrics import get_ood_detector_results\n",
    "from ls_ood_detect.metrics import plot_roc_ood_detector\n",
    "from ls_ood_detect.metrics import plot_auprc_ood_detector\n",
    "from ls_ood_detect.dimensionality_reduction import plot_samples_pacmap\n",
    "from ls_ood_detect.dimensionality_reduction import apply_pca_ds_split\n",
    "from ls_ood_detect.dimensionality_reduction import apply_pca_transform"
   ],
   "outputs": []
  },
  {
   "cell_type": "code",
   "execution_count": 6,
   "metadata": {},
   "source": [
    "from icecream import ic"
   ],
   "outputs": []
  },
  {
   "attachments": {},
   "cell_type": "markdown",
   "metadata": {},
   "source": [
    "# Load Entropy"
   ]
  },
  {
   "cell_type": "code",
   "execution_count": 7,
   "metadata": {},
   "source": [
    "cs_unet_h_z_cs_normal_train_samples_np = np.load('./Data/EXPERIMENTS/CVPR-2024/semantic_segmentation/unet/embeddings/cityscapes/entropy/cs_unet_h_z_cs_normal_train_samples_np.npy')\n",
    "cs_unet_h_z_cs_normal_valid_samples_np = np.load('./Data/EXPERIMENTS/CVPR-2024/semantic_segmentation/unet/embeddings/cityscapes/entropy/cs_unet_h_z_cs_normal_valid_samples_np.npy')\n",
    "cs_unet_h_z_cs_normal_test_samples_np = np.load('./Data/EXPERIMENTS/CVPR-2024/semantic_segmentation/unet/embeddings/cityscapes/entropy/cs_unet_h_z_cs_normal_test_samples_np.npy')\n",
    "\n",
    "cs_unet_h_z_cs_anomal_valid_samples_np = np.load('./Data/EXPERIMENTS/CVPR-2024/semantic_segmentation/unet/embeddings/cityscapes/entropy/cs_unet_h_z_cs_anomal_valid_samples_np.npy')\n",
    "cs_unet_h_z_cs_anomal_test_samples_np = np.load('./Data/EXPERIMENTS/CVPR-2024/semantic_segmentation/unet/embeddings/cityscapes/entropy/cs_unet_h_z_cs_anomal_test_samples_np.npy')\n",
    "\n",
    "cs_unet_h_z_ws_valid_samples_np = np.load('./Data/EXPERIMENTS/CVPR-2024/semantic_segmentation/unet/embeddings/cityscapes/entropy/cs_unet_h_z_ws_valid_samples_np.npy')\n",
    "cs_unet_h_z_ws_test_samples_np = np.load('./Data/EXPERIMENTS/CVPR-2024/semantic_segmentation/unet/embeddings/cityscapes/entropy/cs_unet_h_z_ws_test_samples_np.npy')\n",
    "\n",
    "cs_unet_h_z_ws_soil_valid_samples_np = np.load('./Data/EXPERIMENTS/CVPR-2024/semantic_segmentation/unet/embeddings/cityscapes/entropy/cs_unet_h_z_ws_soil_valid_samples_np.npy')\n",
    "cs_unet_h_z_ws_soil_test_samples_np = np.load('./Data/EXPERIMENTS/CVPR-2024/semantic_segmentation/unet/embeddings/cityscapes/entropy/cs_unet_h_z_ws_soil_test_samples_np.npy')"
   ],
   "outputs": []
  },
  {
   "cell_type": "markdown",
   "metadata": {},
   "source": [
    "# Plot 2D Projections"
   ]
  },
  {
   "cell_type": "code",
   "execution_count": 17,
   "metadata": {},
   "source": [
    "cs_unet_h_z_ind = np.concatenate((cs_unet_h_z_cs_normal_valid_samples_np,\n",
    "                                  cs_unet_h_z_cs_normal_test_samples_np))\n",
    "\n",
    "cs_unet_h_z_ood = np.concatenate((cs_unet_h_z_cs_anomal_valid_samples_np,\n",
    "                                  cs_unet_h_z_cs_anomal_test_samples_np))\n",
    "\n",
    "ic(cs_unet_h_z_ind.shape)\n",
    "ic(cs_unet_h_z_ood.shape)\n",
    "\n",
    "plot_samples_pacmap(cs_unet_h_z_ind,\n",
    "                    cs_unet_h_z_ood,\n",
    "                    neighbors=12,\n",
    "                    title=\"U-Net $\\hat{H}(z_i \\mid x)$: Cityscapes (InD) vs Cityscapes-Anomalies (shift)\")"
   ],
   "outputs": []
  },
  {
   "cell_type": "code",
   "execution_count": 18,
   "metadata": {},
   "source": [
    "cs_unet_h_z_ind = np.concatenate((cs_unet_h_z_cs_normal_valid_samples_np,\n",
    "                                  cs_unet_h_z_cs_normal_test_samples_np))\n",
    "\n",
    "cs_unet_h_z_ood = np.concatenate((cs_unet_h_z_ws_valid_samples_np,\n",
    "                                  cs_unet_h_z_ws_test_samples_np))\n",
    "\n",
    "ic(cs_unet_h_z_ind.shape)\n",
    "ic(cs_unet_h_z_ood.shape)\n",
    "\n",
    "plot_samples_pacmap(cs_unet_h_z_ind,\n",
    "                    cs_unet_h_z_ood,\n",
    "                    neighbors=12,\n",
    "                    title=\"U-Net $\\hat{H}(z_i \\mid x)$: Cityscapes (InD) vs Woodscape (shift)\")"
   ],
   "outputs": []
  },
  {
   "cell_type": "code",
   "execution_count": 19,
   "metadata": {},
   "source": [
    "cs_unet_h_z_ind = np.concatenate((cs_unet_h_z_cs_normal_valid_samples_np,\n",
    "                                  cs_unet_h_z_cs_normal_test_samples_np))\n",
    "\n",
    "cs_unet_h_z_ood = np.concatenate((cs_unet_h_z_ws_soil_valid_samples_np,\n",
    "                                  cs_unet_h_z_ws_soil_test_samples_np))\n",
    "\n",
    "ic(cs_unet_h_z_ind.shape)\n",
    "ic(cs_unet_h_z_ood.shape)\n",
    "\n",
    "plot_samples_pacmap(cs_unet_h_z_ind,\n",
    "                    cs_unet_h_z_ood,\n",
    "                    neighbors=12,\n",
    "                    title=\"U-Net $\\hat{H}(z_i \\mid x)$: Cityscapes (InD) vs Woodscape-Soiling (shift)\")"
   ],
   "outputs": []
  },
  {
   "cell_type": "markdown",
   "metadata": {},
   "source": [
    "# Load Entropy"
   ]
  },
  {
   "cell_type": "code",
   "execution_count": 10,
   "metadata": {},
   "source": [
    "cs_unet_h_z_cs_normal_train_samples_np = np.load('./Data/EXPERIMENTS/CVPR-2024/semantic_segmentation/unet/embeddings/cityscapes/entropy/cs_unet_h_z_cs_normal_train_samples_np.npy')\n",
    "cs_unet_h_z_cs_normal_valid_samples_np = np.load('./Data/EXPERIMENTS/CVPR-2024/semantic_segmentation/unet/embeddings/cityscapes/entropy/cs_unet_h_z_cs_normal_valid_samples_np.npy')\n",
    "cs_unet_h_z_cs_normal_test_samples_np = np.load('./Data/EXPERIMENTS/CVPR-2024/semantic_segmentation/unet/embeddings/cityscapes/entropy/cs_unet_h_z_cs_normal_test_samples_np.npy')\n",
    "\n",
    "cs_unet_h_z_cs_anomal_valid_samples_np = np.load('./Data/EXPERIMENTS/CVPR-2024/semantic_segmentation/unet/embeddings/cityscapes/entropy/cs_unet_h_z_cs_anomal_valid_samples_np.npy')\n",
    "cs_unet_h_z_cs_anomal_test_samples_np = np.load('./Data/EXPERIMENTS/CVPR-2024/semantic_segmentation/unet/embeddings/cityscapes/entropy/cs_unet_h_z_cs_anomal_test_samples_np.npy')\n",
    "\n",
    "\n",
    "cs_unet_h_z_ws_valid_samples_np = np.load('./Data/EXPERIMENTS/CVPR-2024/semantic_segmentation/unet/embeddings/cityscapes/entropy/cs_unet_h_z_ws_valid_samples_np.npy')\n",
    "cs_unet_h_z_ws_test_samples_np = np.load('./Data/EXPERIMENTS/CVPR-2024/semantic_segmentation/unet/embeddings/cityscapes/entropy/cs_unet_h_z_ws_test_samples_np.npy')\n",
    "\n",
    "cs_unet_h_z_ws_soil_valid_samples_np = np.load('./Data/EXPERIMENTS/CVPR-2024/semantic_segmentation/unet/embeddings/cityscapes/entropy/cs_unet_h_z_ws_soil_valid_samples_np.npy')\n",
    "cs_unet_h_z_ws_soil_test_samples_np = np.load('./Data/EXPERIMENTS/CVPR-2024/semantic_segmentation/unet/embeddings/cityscapes/entropy/cs_unet_h_z_ws_soil_test_samples_np.npy')"
   ],
   "outputs": []
  },
  {
   "attachments": {},
   "cell_type": "markdown",
   "metadata": {},
   "source": [
    "# Dimensionality Reduction PCA"
   ]
  },
  {
   "cell_type": "code",
   "execution_count": 25,
   "metadata": {},
   "source": [
    "pca_cs_unet_h_z_cs_normal_train_samples_np, pca_tr = apply_pca_ds_split(samples=cs_unet_h_z_cs_normal_train_samples_np,                                                                          \n",
    "                                                                          nro_components=50)"
   ],
   "outputs": []
  },
  {
   "cell_type": "code",
   "execution_count": 26,
   "metadata": {},
   "source": [
    "pca_cs_unet_h_z_cs_normal_valid_samples_np = apply_pca_transform(cs_unet_h_z_cs_normal_valid_samples_np, pca_tr) # InD\n",
    "pca_cs_unet_h_z_cs_normal_test_samples_np = apply_pca_transform(cs_unet_h_z_cs_normal_test_samples_np, pca_tr) # InD\n",
    "\n",
    "pca_cs_unet_h_z_cs_anomal_valid_samples_np = apply_pca_transform(cs_unet_h_z_cs_anomal_valid_samples_np, pca_tr) # OoD | shifted\n",
    "pca_cs_unet_h_z_cs_anomal_test_samples_np = apply_pca_transform(cs_unet_h_z_cs_anomal_test_samples_np, pca_tr) # OoD | shifted\n",
    "\n",
    "pca_cs_unet_h_z_ws_valid_samples_np = apply_pca_transform(cs_unet_h_z_ws_valid_samples_np, pca_tr) # OoD | shifted\n",
    "pca_cs_unet_h_z_ws_test_samples_np = apply_pca_transform(cs_unet_h_z_ws_test_samples_np, pca_tr) # OoD | shifted\n",
    "\n",
    "pca_cs_unet_h_z_ws_soil_valid_samples_np = apply_pca_transform(cs_unet_h_z_ws_soil_valid_samples_np, pca_tr) # OoD | shifted\n",
    "pca_cs_unet_h_z_ws_soil_test_samples_np = apply_pca_transform(cs_unet_h_z_ws_soil_test_samples_np, pca_tr) # OoD | shifted"
   ],
   "outputs": []
  },
  {
   "attachments": {},
   "cell_type": "markdown",
   "metadata": {},
   "source": [
    "# Experiment 2: PCA Dataset - Train Data Reference"
   ]
  },
  {
   "cell_type": "code",
   "execution_count": 27,
   "metadata": {},
   "source": [
    "ic(pca_cs_unet_h_z_cs_normal_train_samples_np.shape);\n",
    "ic(pca_cs_unet_h_z_cs_normal_valid_samples_np.shape);\n",
    "ic(pca_cs_unet_h_z_cs_normal_test_samples_np.shape);\n",
    "\n",
    "ic(pca_cs_unet_h_z_cs_anomal_valid_samples_np.shape);\n",
    "ic(pca_cs_unet_h_z_cs_anomal_test_samples_np.shape);\n",
    "\n",
    "ic(pca_cs_unet_h_z_ws_valid_samples_np.shape);\n",
    "ic(pca_cs_unet_h_z_ws_test_samples_np.shape);\n",
    "\n",
    "ic(pca_cs_unet_h_z_ws_soil_valid_samples_np.shape);\n",
    "ic(pca_cs_unet_h_z_ws_soil_test_samples_np.shape);"
   ],
   "outputs": []
  },
  {
   "cell_type": "code",
   "execution_count": 28,
   "metadata": {},
   "source": [
    "pca_cs_unet_ind_cs_normal_h_z = np.concatenate((pca_cs_unet_h_z_cs_normal_valid_samples_np,\n",
    "                                                pca_cs_unet_h_z_cs_normal_test_samples_np))\n",
    "\n",
    "pca_cs_unet_ood_cs_anomal_h_z = np.concatenate((pca_cs_unet_h_z_cs_anomal_valid_samples_np,\n",
    "                                                pca_cs_unet_h_z_cs_anomal_test_samples_np))\n",
    "\n",
    "pca_cs_unet_ood_ws_h_z = np.concatenate((pca_cs_unet_h_z_ws_valid_samples_np,\n",
    "                                         pca_cs_unet_h_z_ws_test_samples_np))\n",
    "\n",
    "pca_cs_unet_ood_ws_soil_h_z = np.concatenate((pca_cs_unet_h_z_ws_soil_valid_samples_np,\n",
    "                                              pca_cs_unet_h_z_ws_soil_test_samples_np))\n",
    "\n",
    "ic(pca_cs_unet_ind_cs_normal_h_z.shape);\n",
    "ic(pca_cs_unet_ood_cs_anomal_h_z.shape);\n",
    "ic(pca_cs_unet_ood_ws_h_z.shape);\n",
    "ic(pca_cs_unet_ood_ws_soil_h_z.shape);"
   ],
   "outputs": []
  },
  {
   "attachments": {},
   "cell_type": "markdown",
   "metadata": {},
   "source": [
    "## Build Detector"
   ]
  },
  {
   "cell_type": "code",
   "execution_count": 29,
   "metadata": {},
   "source": [
    "cs_unet_ds_shift_detector_pca = DetectorKDE(train_embeddings=pca_cs_unet_h_z_cs_normal_train_samples_np)"
   ],
   "outputs": []
  },
  {
   "attachments": {},
   "cell_type": "markdown",
   "metadata": {},
   "source": [
    "## Get Scores"
   ]
  },
  {
   "cell_type": "code",
   "execution_count": 30,
   "metadata": {},
   "source": [
    "scores_pca_cs_unet_ind_cs_normal_h_z = get_hz_scores(cs_unet_ds_shift_detector_pca,\n",
    "                                                       pca_cs_unet_ind_cs_normal_h_z)\n",
    "\n",
    "scores_pca_cs_unet_ood_cs_anomal_h_z = get_hz_scores(cs_unet_ds_shift_detector_pca,\n",
    "                                                       pca_cs_unet_ood_cs_anomal_h_z)\n",
    "\n",
    "scores_pca_cs_unet_ood_ws_h_z = get_hz_scores(cs_unet_ds_shift_detector_pca,\n",
    "                                                pca_cs_unet_ood_ws_h_z)\n",
    "\n",
    "scores_pca_cs_unet_ood_ws_soil_h_z = get_hz_scores(cs_unet_ds_shift_detector_pca,\n",
    "                                                     pca_cs_unet_ood_ws_soil_h_z)"
   ],
   "outputs": []
  },
  {
   "attachments": {},
   "cell_type": "markdown",
   "metadata": {},
   "source": [
    "## Get Results"
   ]
  },
  {
   "cell_type": "code",
   "execution_count": 31,
   "metadata": {},
   "source": [
    "print(\"\\ncitycapes-normal vs. citycapes-anomal:\")\n",
    "print(\"Test InD shape\", scores_pca_cs_unet_ind_cs_normal_h_z.shape);\n",
    "print(\"Test OoD shape\", scores_pca_cs_unet_ood_cs_anomal_h_z.shape);\n",
    "\n",
    "results_ws_anomal = get_hz_detector_results(detect_exp_name=\"citycapes-normal vs. citycapes-anomal\",\n",
    "                                            ind_samples_scores=scores_pca_cs_unet_ind_cs_normal_h_z,\n",
    "                                            ood_samples_scores=scores_pca_cs_unet_ood_cs_anomal_h_z)\n",
    "\n",
    "print(\"\\ncityscapes-normal vs. woodscape:\")\n",
    "print(\"Test InD shape\", scores_pca_cs_unet_ind_cs_normal_h_z.shape);\n",
    "print(\"Test OoD shape\", scores_pca_cs_unet_ood_ws_h_z.shape);\n",
    "\n",
    "results_cs = get_hz_detector_results(detect_exp_name=\"cityscapes-normal vs. woodscape\",\n",
    "                                     ind_samples_scores=scores_pca_cs_unet_ind_cs_normal_h_z,\n",
    "                                     ood_samples_scores=scores_pca_cs_unet_ood_ws_h_z)\n",
    "\n",
    "print(\"\\ncityscapes-normal vs. woodscape-soiling:\")\n",
    "print(\"Test InD shape\", scores_pca_cs_unet_ind_cs_normal_h_z.shape);\n",
    "print(\"Test OoD shape\", scores_pca_cs_unet_ood_ws_soil_h_z.shape);\n",
    "\n",
    "results_ws_soil = get_hz_detector_results(detect_exp_name=\"cityscapes-normal vs. woodscape-soiling\",\n",
    "                                          ind_samples_scores=scores_pca_cs_unet_ind_cs_normal_h_z,\n",
    "                                          ood_samples_scores=scores_pca_cs_unet_ood_ws_soil_h_z)"
   ],
   "outputs": []
  },
  {
   "cell_type": "markdown",
   "metadata": {},
   "source": [
    "So far the best results with PCA are with: 48, 50 PCA components"
   ]
  },
  {
   "cell_type": "markdown",
   "metadata": {},
   "source": [
    "```txt\n",
    "PCA 50:\n",
    "\n",
    "citycapes-normal vs. citycapes-anomal:\n",
    "Test InD shape (2025,)\n",
    "Test OoD shape (2025,)\n",
    "AUROC: 0.9083\n",
    "FPR95: 0.3274\n",
    "AUPR: 0.8931\n",
    "\n",
    "cityscapes-normal vs. woodscape:\n",
    "Test InD shape (2025,)\n",
    "Test OoD shape (2305,)\n",
    "AUROC: 0.9687\n",
    "FPR95: 0.1484\n",
    "AUPR: 0.9707\n",
    "\n",
    "cityscapes-normal vs. woodscape-soiling:\n",
    "Test InD shape (2025,)\n",
    "Test OoD shape (1800,)\n",
    "AUROC: 0.9789\n",
    "FPR95: 0.0828\n",
    "AUPR: 0.9825\n",
    "```"
   ]
  },
  {
   "cell_type": "markdown",
   "metadata": {},
   "source": [
    "## Plot Score Values Training Set Reference KDE"
   ]
  },
  {
   "cell_type": "code",
   "execution_count": 32,
   "metadata": {},
   "source": [
    "df_score_ind_cs_normal = pd.DataFrame(scores_pca_cs_unet_ind_cs_normal_h_z, columns=[\"LaRED score\"])\n",
    "df_score_ood_cs_anomal = pd.DataFrame(scores_pca_cs_unet_ood_cs_anomal_h_z, columns=[\"LaRED score\"])\n",
    "df_score_ood_ws = pd.DataFrame(scores_pca_cs_unet_ood_ws_h_z, columns=[\"LaRED score\"])\n",
    "df_score_ood_ws_soil = pd.DataFrame(scores_pca_cs_unet_ood_ws_soil_h_z, columns=[\"LaRED score\"])\n",
    "\n",
    "df_score_ind_cs_normal.insert(0, \"Dataset\", \"\")\n",
    "df_score_ind_cs_normal.loc[:, \"Dataset\"] = \"InD-cityscapes-normal\"\n",
    "\n",
    "df_score_ood_cs_anomal.insert(0, \"Dataset\", \"\")\n",
    "df_score_ood_cs_anomal.loc[:, \"Dataset\"] = \"cityscapes-anomalies\"\n",
    "\n",
    "df_score_ood_ws.insert(0, \"Dataset\", \"\")\n",
    "df_score_ood_ws.loc[:, \"Dataset\"] = \"woodscape\"\n",
    "\n",
    "df_score_ood_ws_soil.insert(0, \"Dataset\", \"\")\n",
    "df_score_ood_ws_soil.loc[:, \"Dataset\"] = \"woodscape-soiling\""
   ],
   "outputs": []
  },
  {
   "cell_type": "code",
   "execution_count": 33,
   "metadata": {},
   "source": [
    "df_h_z_valid_scores = pd.concat([df_score_ind_cs_normal,\n",
    "                                 df_score_ood_cs_anomal,\n",
    "                                 df_score_ood_ws,\n",
    "                                 df_score_ood_ws_soil]).reset_index(drop=True)\n",
    "\n",
    "sns.displot(df_h_z_valid_scores, x=\"LaRED score\", hue=\"Dataset\", kind=\"hist\", fill=True)\n",
    "plt.show()"
   ],
   "outputs": []
  },
  {
   "cell_type": "code",
   "execution_count": 34,
   "metadata": {},
   "source": [
    "df_h_z_valid_scores = pd.concat([df_score_ind_cs_normal,\n",
    "                                 df_score_ood_cs_anomal]).reset_index(drop=True)\n",
    "\n",
    "sns.displot(df_h_z_valid_scores, x=\"LaRED score\", hue=\"Dataset\", kind=\"hist\", fill=True)\n",
    "plt.show()"
   ],
   "outputs": []
  },
  {
   "cell_type": "code",
   "execution_count": 35,
   "metadata": {},
   "source": [
    "df_h_z_valid_scores = pd.concat([df_score_ind_cs_normal,\n",
    "                                 df_score_ood_ws]).reset_index(drop=True)\n",
    "\n",
    "sns.displot(df_h_z_valid_scores, x=\"LaRED score\", hue=\"Dataset\", kind=\"hist\", fill=True)\n",
    "plt.show()"
   ],
   "outputs": []
  },
  {
   "cell_type": "code",
   "execution_count": 36,
   "metadata": {},
   "source": [
    "df_h_z_valid_scores = pd.concat([df_score_ind_cs_normal,\n",
    "                                 df_score_ood_ws_soil]).reset_index(drop=True)\n",
    "\n",
    "sns.displot(df_h_z_valid_scores, x=\"LaRED score\", hue=\"Dataset\", kind=\"hist\", fill=True)\n",
    "plt.show()"
   ],
   "outputs": []
  },
  {
   "cell_type": "code",
   "execution_count": null,
   "metadata": {},
   "source": [],
   "outputs": []
  }
 ],
 "metadata": {
  "kernelspec": {
   "display_name": "Semantic_Segmentation",
   "language": "python",
   "name": "python3"
  },
  "language_info": {
   "codemirror_mode": {
    "name": "ipython",
    "version": 3
   },
   "file_extension": ".py",
   "mimetype": "text/x-python",
   "name": "python",
   "nbconvert_exporter": "python",
   "pygments_lexer": "ipython3",
   "version": "3.7.5"
  },
  "orig_nbformat": 4
 },
 "nbformat": 4,
 "nbformat_minor": 2
}

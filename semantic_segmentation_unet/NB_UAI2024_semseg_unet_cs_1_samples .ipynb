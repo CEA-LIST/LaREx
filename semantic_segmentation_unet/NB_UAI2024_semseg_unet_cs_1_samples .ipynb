{
 "cells": [
  {
   "attachments": {},
   "cell_type": "markdown",
   "metadata": {},
   "source": [
    "# General Imports"
   ]
  },
  {
   "cell_type": "code",
   "execution_count": 1,
   "metadata": {},
   "source": [
    "%load_ext autoreload\n",
    "%autoreload 2\n",
    "%reload_ext autoreload"
   ],
   "outputs": []
  },
  {
   "cell_type": "code",
   "execution_count": 2,
   "metadata": {},
   "source": [
    "from collections import namedtuple\n",
    "import numpy as np\n",
    "import matplotlib.pyplot as plt\n",
    "import random\n",
    "import pandas as pd\n",
    "import seaborn as sns"
   ],
   "outputs": []
  },
  {
   "cell_type": "code",
   "execution_count": 3,
   "metadata": {},
   "source": [
    "from icecream import ic"
   ],
   "outputs": []
  },
  {
   "cell_type": "code",
   "execution_count": 4,
   "metadata": {},
   "source": [
    "import torch\n",
    "import pytorch_lightning as pl\n",
    "from pytorch_lightning.callbacks import ModelCheckpoint\n",
    "from torchvision import transforms as transform_lib\n",
    "from pytorch_lightning.callbacks import TQDMProgressBar\n",
    "from torch.utils.data import Dataset\n",
    "from torch.utils.data import DataLoader"
   ],
   "outputs": []
  },
  {
   "cell_type": "code",
   "execution_count": 5,
   "metadata": {},
   "source": [
    "from dataset.cityscapes import Cityscapes\n",
    "from dataset.cityscapes import CityscapesDataModule\n",
    "from dataset.woodscape import WoodScapeDataset\n",
    "from dataset.woodscape import WoodScapeDataModule\n",
    "from dataset import WoodScapeSoilingDataset\n",
    "from dataset import WoodScapeSoilingDataModule"
   ],
   "outputs": []
  },
  {
   "cell_type": "code",
   "execution_count": 6,
   "metadata": {},
   "source": [
    "from models import UnetSemSegModule\n",
    "from dropblock import DropBlock2D"
   ],
   "outputs": []
  },
  {
   "cell_type": "code",
   "execution_count": 7,
   "metadata": {},
   "source": [
    "from utils.display_images import denormalize_img\n",
    "from utils import show_dataset_image, show_dataset_mask\n",
    "from utils import show_prediction_images, show_prediction_uncertainty_images"
   ],
   "outputs": []
  },
  {
   "cell_type": "code",
   "execution_count": 8,
   "metadata": {},
   "source": [
    "from ls_ood_detect.uncertainty_estimation import Hook\n",
    "from ls_ood_detect.uncertainty_estimation import deeplabv3p_get_ls_mcd_samples\n",
    "from ls_ood_detect.uncertainty_estimation import get_latent_represent_mcd_samples\n",
    "from ls_ood_detect.uncertainty_estimation import get_dl_h_z\n",
    "from ls_ood_detect.ood_detection_dataset import build_ood_detection_ds\n",
    "from ls_ood_detect.dimensionality_reduction import plot_samples_pacmap\n",
    "from ls_ood_detect.detectors import KDEClassifier"
   ],
   "outputs": []
  },
  {
   "cell_type": "markdown",
   "metadata": {},
   "source": [
    "# Compute Device"
   ]
  },
  {
   "cell_type": "code",
   "execution_count": 9,
   "metadata": {},
   "source": [
    "device = torch.device('cuda' if torch.cuda.is_available() else 'cpu')\n",
    "print(device)"
   ],
   "outputs": []
  },
  {
   "attachments": {},
   "cell_type": "markdown",
   "metadata": {},
   "source": [
    "## Distribution Shift Detection:"
   ]
  },
  {
   "attachments": {},
   "cell_type": "markdown",
   "metadata": {},
   "source": [
    "Steps for using the package:\n",
    "\n",
    "1. Load you Dataloader Pytorch-Lightning Module\n",
    "2. Load your trained DNN PyTorch-Lightning Module\n",
    "3. Add Hook to DNN Module for MC samples extraction\n",
    "4. Get Monte-Carlo (MC) samples for In-Distribution (InD) samples dataloader, and Out-of-Distribution (OoD) samples dataloader\n",
    "5. Get Entropy from InD and OoD MC samples\n",
    "6. Build OoD Detection dataset (with InD and OoD samples)\n",
    "7. Build OoD data-driven Detector (classifier)\n",
    "8. Show OoD performance results"
   ]
  },
  {
   "attachments": {},
   "cell_type": "markdown",
   "metadata": {},
   "source": [
    "# Datasets"
   ]
  },
  {
   "attachments": {},
   "cell_type": "markdown",
   "metadata": {},
   "source": [
    "## Cityscapes"
   ]
  },
  {
   "cell_type": "code",
   "execution_count": 10,
   "metadata": {},
   "source": [
    "cs_dataset_path = './Data/DATASETS/CityScapes'\n",
    "batch_size = 1\n",
    "img_h = 128\n",
    "img_w = 256"
   ],
   "outputs": []
  },
  {
   "cell_type": "code",
   "execution_count": 11,
   "metadata": {},
   "source": [
    "cs_dm_normal_unet = CityscapesDataModule(data_dir=cs_dataset_path,\n",
    "                                         batch_size=batch_size,\n",
    "                                         img_size=(img_h, img_w),\n",
    "                                         target_type='semantic',\n",
    "                                         num_workers=12,\n",
    "                                         drop_last=True,\n",
    "                                         default_transforms=False,\n",
    "                                         default_img_mask_transforms=True)"
   ],
   "outputs": []
  },
  {
   "cell_type": "code",
   "execution_count": 12,
   "metadata": {},
   "source": [
    "cs_normal_train_loader = cs_dm_normal_unet.train_dataloader()\n",
    "cs_normal_valid_loader = cs_dm_normal_unet.val_dataloader()\n",
    "cs_normal_test_loader = cs_dm_normal_unet.test_dataloader()"
   ],
   "outputs": []
  },
  {
   "cell_type": "code",
   "execution_count": 13,
   "metadata": {},
   "source": [
    "ic(len(cs_normal_train_loader));\n",
    "ic(len(cs_normal_valid_loader));\n",
    "ic(len(cs_normal_test_loader));"
   ],
   "outputs": []
  },
  {
   "cell_type": "code",
   "execution_count": 14,
   "metadata": {},
   "source": [
    "cs_dm_anomal_unet = CityscapesDataModule(data_dir=cs_dataset_path,\n",
    "                                         batch_size=batch_size,\n",
    "                                         img_size=(img_h, img_w),\n",
    "                                         target_type='semantic',\n",
    "                                         num_workers=12,\n",
    "                                         drop_last=True,\n",
    "                                         default_transforms=True,\n",
    "                                         default_img_mask_transforms=False)"
   ],
   "outputs": []
  },
  {
   "cell_type": "code",
   "execution_count": 15,
   "metadata": {},
   "source": [
    "cs_anomal_valid_loader = cs_dm_anomal_unet.anomaly_val_dataloader()\n",
    "cs_anomal_test_loader = cs_dm_anomal_unet.anomaly_test_dataloader()"
   ],
   "outputs": []
  },
  {
   "cell_type": "code",
   "execution_count": 16,
   "metadata": {},
   "source": [
    "ic(len(cs_anomal_valid_loader));\n",
    "ic(len(cs_normal_test_loader));"
   ],
   "outputs": []
  },
  {
   "attachments": {},
   "cell_type": "markdown",
   "metadata": {},
   "source": [
    "## Woodscape"
   ]
  },
  {
   "cell_type": "code",
   "execution_count": 19,
   "metadata": {},
   "source": [
    "ws_dataset_path = './Data/DATASETS/WoodScape/'\n",
    "batch_size = 1\n",
    "img_h = 128\n",
    "img_w = 256"
   ],
   "outputs": []
  },
  {
   "cell_type": "code",
   "execution_count": 20,
   "metadata": {},
   "source": [
    "ws_dm_normal_unet = WoodScapeDataModule(dataset_dir=ws_dataset_path,\n",
    "                                        batch_size=batch_size,\n",
    "                                        img_size=(img_h, img_w),\n",
    "                                        num_workers=12,\n",
    "                                        drop_last=True,\n",
    "                                        default_transforms=True)\n",
    "ws_dm_normal_unet.setup()"
   ],
   "outputs": []
  },
  {
   "cell_type": "code",
   "execution_count": 21,
   "metadata": {},
   "source": [
    "ws_train_loader = ws_dm_normal_unet.train_dataloader()\n",
    "ws_valid_loader = ws_dm_normal_unet.val_dataloader()\n",
    "ws_test_loader = ws_dm_normal_unet.test_dataloader()"
   ],
   "outputs": []
  },
  {
   "cell_type": "code",
   "execution_count": 22,
   "metadata": {},
   "source": [
    "ic(len(ws_train_loader));\n",
    "ic(len(ws_valid_loader));\n",
    "ic(len(ws_test_loader));"
   ],
   "outputs": []
  },
  {
   "attachments": {},
   "cell_type": "markdown",
   "metadata": {},
   "source": [
    "## Woodscape-Soiling"
   ]
  },
  {
   "cell_type": "code",
   "execution_count": 23,
   "metadata": {},
   "source": [
    "ws_soil_dataset_path = \"./Data/DATASETS/WoodScape/soiling_dataset/\"\n",
    "batch_size = 1\n",
    "img_h = 128\n",
    "img_w = 256"
   ],
   "outputs": []
  },
  {
   "cell_type": "code",
   "execution_count": 24,
   "metadata": {},
   "source": [
    "ws_soil_dm = WoodScapeSoilingDataModule(dataset_dir=ws_soil_dataset_path,\n",
    "                                        batch_size=1,\n",
    "                                        img_size=(img_h, img_w),\n",
    "                                        default_transforms=True,\n",
    "                                        seed=9290)\n",
    "ws_soil_dm.setup()"
   ],
   "outputs": []
  },
  {
   "cell_type": "code",
   "execution_count": 25,
   "metadata": {},
   "source": [
    "ws_soil_valid_loader = ws_soil_dm.val_dataloader()\n",
    "ws_soil_test_loader = ws_soil_dm.test_dataloader()"
   ],
   "outputs": []
  },
  {
   "cell_type": "code",
   "execution_count": 26,
   "metadata": {},
   "source": [
    "ic(len(ws_soil_valid_loader));\n",
    "ic(len(ws_soil_test_loader));"
   ],
   "outputs": []
  },
  {
   "attachments": {},
   "cell_type": "markdown",
   "metadata": {},
   "source": [
    "## Dataloaders Samples"
   ]
  },
  {
   "cell_type": "code",
   "execution_count": 27,
   "metadata": {},
   "source": [
    "dataiter_cs_valid = iter(cs_normal_valid_loader)"
   ],
   "outputs": []
  },
  {
   "cell_type": "code",
   "execution_count": 28,
   "metadata": {},
   "source": [
    "batch_ws_data, batch_ws_labels = dataiter_cs_valid.next()\n",
    "plt.figure()\n",
    "show_dataset_image(batch_ws_data[0], cs_dm_normal_unet.norm_mean, cs_dm_normal_unet.norm_std)\n",
    "plt.figure()\n",
    "show_dataset_mask(batch_ws_labels[0].squeeze(), cs_normal_valid_loader.dataset.decode_target)\n",
    "plt.show()"
   ],
   "outputs": []
  },
  {
   "cell_type": "code",
   "execution_count": 29,
   "metadata": {},
   "source": [
    "dataiter_cs_anomal_valid = iter(cs_anomal_valid_loader)"
   ],
   "outputs": []
  },
  {
   "cell_type": "code",
   "execution_count": 30,
   "metadata": {},
   "source": [
    "batch_cs_anomal_data, batch_cs_anomal_labels = dataiter_cs_anomal_valid.next()\n",
    "plt.figure()\n",
    "show_dataset_image(batch_cs_anomal_data[0], cs_dm_normal_unet.norm_mean, cs_dm_normal_unet.norm_std)\n",
    "plt.figure()\n",
    "show_dataset_mask(batch_cs_anomal_labels[0].squeeze(), cs_anomal_valid_loader.dataset.decode_target)\n",
    "plt.show()"
   ],
   "outputs": []
  },
  {
   "cell_type": "code",
   "execution_count": null,
   "metadata": {},
   "source": [
    "dataiter_ws_soiling_valid = iter(ws_soil_valid_loader)"
   ],
   "outputs": []
  },
  {
   "cell_type": "code",
   "execution_count": null,
   "metadata": {},
   "source": [
    "batch_ws_soil_data, batch_ws_soil_labels = dataiter_ws_soiling_valid.next()\n",
    "plt.figure()\n",
    "show_dataset_image(batch_ws_soil_data[0], ws_dm_normal_unet.norm_mean, ws_dm_normal_unet.norm_std)\n",
    "plt.show()"
   ],
   "outputs": []
  },
  {
   "cell_type": "code",
   "execution_count": 38,
   "metadata": {},
   "source": [
    "dataiter_ws_valid = iter(ws_valid_loader)"
   ],
   "outputs": []
  },
  {
   "cell_type": "code",
   "execution_count": 96,
   "metadata": {},
   "source": [
    "batch_ws_data, batch_ws_labels = dataiter_ws_valid.next()\n",
    "plt.figure()\n",
    "show_dataset_image(batch_ws_data[0], ws_dm_normal_unet.norm_mean, ws_dm_normal_unet.norm_std)\n",
    "plt.figure()\n",
    "show_dataset_mask(batch_ws_labels[0], ws_dm_normal_unet.woodscape_ds_train.decode_segmap)\n",
    "plt.show()"
   ],
   "outputs": []
  },
  {
   "attachments": {},
   "cell_type": "markdown",
   "metadata": {},
   "source": [
    "# U-Net Cityscapes Model"
   ]
  },
  {
   "cell_type": "code",
   "execution_count": 54,
   "metadata": {},
   "source": [
    "cs_unet_path = \"./Projects/Semantic_Segmentation_Unet/lightning_logs/version_157729/checkpoints/last.ckpt\"\n",
    "cs_unet_model = UnetSemSegModule.load_from_checkpoint(checkpoint_path=cs_unet_path)"
   ],
   "outputs": []
  },
  {
   "cell_type": "code",
   "execution_count": 55,
   "metadata": {},
   "source": [
    "ic(cs_unet_model.pred_loss_type);\n",
    "ic(cs_unet_model.num_classes);"
   ],
   "outputs": []
  },
  {
   "cell_type": "code",
   "execution_count": 56,
   "metadata": {},
   "source": [
    "cs_unet_model.eval();\n",
    "\n",
    "ic(cs_unet_model.unet_model.drop_block2d_layer);\n",
    "ic(cs_unet_model.unet_model.drop_block2d_layer.block_size);\n",
    "ic(cs_unet_model.unet_model.drop_block2d_layer.drop_prob);\n",
    "ic(cs_unet_model.unet_model.drop_block2d_layer.training);\n",
    "ic(cs_unet_model.unet_model.drop_block2d_layer._forward_hooks);"
   ],
   "outputs": []
  },
  {
   "attachments": {},
   "cell_type": "markdown",
   "metadata": {},
   "source": [
    "# Add Hook U-Net Cityscapes"
   ]
  },
  {
   "cell_type": "code",
   "execution_count": 57,
   "metadata": {},
   "source": [
    "cs_unet_hook_dropblock2d_layer = Hook(cs_unet_model.unet_model.drop_block2d_layer)"
   ],
   "outputs": []
  },
  {
   "cell_type": "code",
   "execution_count": null,
   "metadata": {},
   "source": [
    "ic(cs_unet_model.unet_model.drop_block2d_layer._forward_hooks);"
   ],
   "outputs": []
  },
  {
   "attachments": {},
   "cell_type": "markdown",
   "metadata": {},
   "source": [
    "# Get Monte Carlo Samples"
   ]
  },
  {
   "cell_type": "code",
   "execution_count": 59,
   "metadata": {},
   "source": [
    "# Monte Carlo Dropout - Enable Dropout @ Test Time!\n",
    "def unet_apply_dropout(m):\n",
    "    if type(m) == torch.nn.Dropout or type(m) == DropBlock2D:\n",
    "        m.train()"
   ],
   "outputs": []
  },
  {
   "cell_type": "code",
   "execution_count": 60,
   "metadata": {},
   "source": [
    "mc_samples = 16"
   ],
   "outputs": []
  },
  {
   "cell_type": "code",
   "execution_count": null,
   "metadata": {},
   "source": [
    "cs_unet_model.unet_model.to(device);\n",
    "cs_unet_model.unet_model.eval(); \n",
    "cs_unet_model.unet_model.apply(unet_apply_dropout); # enable dropout\n",
    "\n",
    "ic(cs_unet_model.unet_model.drop_block2d_layer);\n",
    "ic(cs_unet_model.unet_model.drop_block2d_layer.block_size);\n",
    "ic(cs_unet_model.unet_model.drop_block2d_layer.drop_prob);\n",
    "ic(cs_unet_model.unet_model.drop_block2d_layer.training);\n",
    "ic(cs_unet_model.unet_model.drop_block2d_layer._forward_hooks);"
   ],
   "outputs": []
  },
  {
   "cell_type": "code",
   "execution_count": null,
   "metadata": {},
   "source": [
    "test = get_latent_represent_mcd_samples(cs_unet_model.unet_model,\n",
    "                                        cs_normal_train_loader,\n",
    "                                        mc_samples,\n",
    "                                        cs_unet_hook_dropblock2d_layer,\n",
    "                                        get_2d_rep_mean=True)"
   ],
   "outputs": []
  },
  {
   "cell_type": "code",
   "execution_count": 62,
   "metadata": {},
   "source": [
    "cs_unet_cs_normal_train_16mcds = get_latent_represent_mcd_samples(cs_unet_model.unet_model,\n",
    "                                                                  cs_normal_train_loader,\n",
    "                                                                  mc_samples,\n",
    "                                                                  cs_unet_hook_dropblock2d_layer,\n",
    "                                                                  get_2d_rep_mean=True)"
   ],
   "outputs": []
  },
  {
   "cell_type": "code",
   "execution_count": 63,
   "metadata": {},
   "source": [
    "cs_unet_cs_normal_valid_16mcds = get_latent_represent_mcd_samples(cs_unet_model.unet_model,\n",
    "                                                                  cs_normal_valid_loader,\n",
    "                                                                  mc_samples,\n",
    "                                                                  cs_unet_hook_dropblock2d_layer,\n",
    "                                                                  get_2d_rep_mean=True)\n",
    "\n",
    "cs_unet_cs_normal_test_16mcds = get_latent_represent_mcd_samples(cs_unet_model.unet_model,\n",
    "                                                                 cs_normal_test_loader,\n",
    "                                                                 mc_samples,\n",
    "                                                                 cs_unet_hook_dropblock2d_layer,\n",
    "                                                                 get_2d_rep_mean=True)"
   ],
   "outputs": []
  },
  {
   "cell_type": "code",
   "execution_count": 64,
   "metadata": {},
   "source": [
    "cs_unet_cs_anomal_valid_16mcds = get_latent_represent_mcd_samples(cs_unet_model.unet_model,\n",
    "                                                                  cs_anomal_valid_loader,\n",
    "                                                                  mc_samples,\n",
    "                                                                  cs_unet_hook_dropblock2d_layer,\n",
    "                                                                  get_2d_rep_mean=True)\n",
    "\n",
    "cs_unet_cs_anomal_test_16mcds = get_latent_represent_mcd_samples(cs_unet_model.unet_model,\n",
    "                                                                 cs_anomal_test_loader,\n",
    "                                                                 mc_samples,\n",
    "                                                                 cs_unet_hook_dropblock2d_layer,\n",
    "                                                                 get_2d_rep_mean=True)"
   ],
   "outputs": []
  },
  {
   "cell_type": "code",
   "execution_count": 65,
   "metadata": {},
   "source": [
    "cs_unet_ws_valid_16mcds = get_latent_represent_mcd_samples(cs_unet_model.unet_model,\n",
    "                                                            ws_valid_loader,\n",
    "                                                            mc_samples,\n",
    "                                                            cs_unet_hook_dropblock2d_layer,\n",
    "                                                            get_2d_rep_mean=True)\n",
    "\n",
    "cs_unet_ws_test_16mcds = get_latent_represent_mcd_samples(cs_unet_model.unet_model,\n",
    "                                                          ws_test_loader,\n",
    "                                                          mc_samples,\n",
    "                                                          cs_unet_hook_dropblock2d_layer,\n",
    "                                                          get_2d_rep_mean=True)"
   ],
   "outputs": []
  },
  {
   "cell_type": "code",
   "execution_count": 66,
   "metadata": {},
   "source": [
    "cs_unet_ws_soil_valid_16mcds = get_latent_represent_mcd_samples(cs_unet_model.unet_model,\n",
    "                                                                ws_soil_valid_loader,\n",
    "                                                                mc_samples,\n",
    "                                                                cs_unet_hook_dropblock2d_layer,\n",
    "                                                                get_2d_rep_mean=True)\n",
    "\n",
    "cs_unet_ws_soil_test_16mcds = get_latent_represent_mcd_samples(cs_unet_model.unet_model,\n",
    "                                                               ws_soil_test_loader,\n",
    "                                                               mc_samples,\n",
    "                                                               cs_unet_hook_dropblock2d_layer,\n",
    "                                                               get_2d_rep_mean=True)"
   ],
   "outputs": []
  },
  {
   "cell_type": "code",
   "execution_count": 68,
   "metadata": {},
   "source": [
    "ic(cs_unet_cs_normal_train_16mcds.shape);"
   ],
   "outputs": []
  },
  {
   "cell_type": "code",
   "execution_count": 69,
   "metadata": {},
   "source": [
    "torch.save(cs_unet_cs_normal_train_16mcds,\n",
    "           './Data/EXPERIMENTS/CVPR-2024/semantic_segmentation/unet/embeddings/cityscapes/mc_samples/cs_unet_cs_normal_train_16mcds.pt')"
   ],
   "outputs": []
  },
  {
   "cell_type": "code",
   "execution_count": 70,
   "metadata": {},
   "source": [
    "torch.save(cs_unet_cs_normal_valid_16mcds,\n",
    "           './Data/EXPERIMENTS/CVPR-2024/semantic_segmentation/unet/embeddings/cityscapes/mc_samples/cs_unet_cs_normal_valid_16mcds.pt')\n",
    "torch.save(cs_unet_cs_normal_test_16mcds,\n",
    "           './Data/EXPERIMENTS/CVPR-2024/semantic_segmentation/unet/embeddings/cityscapes/mc_samples/cs_unet_cs_normal_test_16mcds.pt')"
   ],
   "outputs": []
  },
  {
   "cell_type": "code",
   "execution_count": 71,
   "metadata": {},
   "source": [
    "torch.save(cs_unet_cs_anomal_valid_16mcds,\n",
    "           './Data/EXPERIMENTS/CVPR-2024/semantic_segmentation/unet/embeddings/cityscapes/mc_samples/cs_unet_cs_anomal_valid_16mcds.pt')\n",
    "torch.save(cs_unet_cs_anomal_test_16mcds,\n",
    "           './Data/EXPERIMENTS/CVPR-2024/semantic_segmentation/unet/embeddings/cityscapes/mc_samples/cs_unet_cs_anomal_test_16mcds.pt')"
   ],
   "outputs": []
  },
  {
   "cell_type": "code",
   "execution_count": 72,
   "metadata": {},
   "source": [
    "torch.save(cs_unet_ws_valid_16mcds,\n",
    "           './Data/EXPERIMENTS/CVPR-2024/semantic_segmentation/unet/embeddings/cityscapes/mc_samples/cs_unet_ws_valid_16mcds.pt')\n",
    "torch.save(cs_unet_ws_test_16mcds,\n",
    "           './Data/EXPERIMENTS/CVPR-2024/semantic_segmentation/unet/embeddings/cityscapes/mc_samples/cs_unet_ws_test_16mcds.pt')"
   ],
   "outputs": []
  },
  {
   "cell_type": "code",
   "execution_count": 73,
   "metadata": {},
   "source": [
    "torch.save(cs_unet_ws_soil_valid_16mcds,\n",
    "           './Data/EXPERIMENTS/CVPR-2024/semantic_segmentation/unet/embeddings/cityscapes/mc_samples/cs_unet_ws_soil_valid_16mcds.pt')\n",
    "torch.save(cs_unet_ws_soil_test_16mcds,\n",
    "           './Data/EXPERIMENTS/CVPR-2024/semantic_segmentation/unet/embeddings/cityscapes/mc_samples/cs_unet_ws_soil_test_16mcds.pt')"
   ],
   "outputs": []
  },
  {
   "attachments": {},
   "cell_type": "markdown",
   "metadata": {},
   "source": [
    "# Get Entropy"
   ]
  },
  {
   "cell_type": "code",
   "execution_count": 74,
   "metadata": {},
   "source": [
    "_, cs_unet_h_z_cs_normal_train_samples_np = get_dl_h_z(cs_unet_cs_normal_train_16mcds, mcd_samples_nro=mc_samples)"
   ],
   "outputs": []
  },
  {
   "cell_type": "code",
   "execution_count": 75,
   "metadata": {},
   "source": [
    "_, cs_unet_h_z_cs_normal_valid_samples_np = get_dl_h_z(cs_unet_cs_normal_valid_16mcds, mcd_samples_nro=mc_samples)"
   ],
   "outputs": []
  },
  {
   "cell_type": "code",
   "execution_count": 76,
   "metadata": {},
   "source": [
    "_, cs_unet_h_z_cs_normal_test_samples_np = get_dl_h_z(cs_unet_cs_normal_test_16mcds, mcd_samples_nro=mc_samples)"
   ],
   "outputs": []
  },
  {
   "cell_type": "code",
   "execution_count": 77,
   "metadata": {},
   "source": [
    "_, cs_unet_h_z_cs_anomal_valid_samples_np = get_dl_h_z(cs_unet_cs_anomal_valid_16mcds, mcd_samples_nro=mc_samples)"
   ],
   "outputs": []
  },
  {
   "cell_type": "code",
   "execution_count": 78,
   "metadata": {},
   "source": [
    "_, cs_unet_h_z_cs_anomal_test_samples_np = get_dl_h_z(cs_unet_cs_anomal_test_16mcds, mcd_samples_nro=mc_samples)"
   ],
   "outputs": []
  },
  {
   "cell_type": "code",
   "execution_count": 79,
   "metadata": {},
   "source": [
    "_, cs_unet_h_z_ws_valid_samples_np = get_dl_h_z(cs_unet_ws_valid_16mcds, mcd_samples_nro=mc_samples)"
   ],
   "outputs": []
  },
  {
   "cell_type": "code",
   "execution_count": 80,
   "metadata": {},
   "source": [
    "_, cs_unet_h_z_ws_test_samples_np = get_dl_h_z(cs_unet_ws_test_16mcds, mcd_samples_nro=mc_samples)"
   ],
   "outputs": []
  },
  {
   "cell_type": "code",
   "execution_count": 81,
   "metadata": {},
   "source": [
    "_, cs_unet_h_z_ws_soil_valid_samples_np = get_dl_h_z(cs_unet_ws_soil_valid_16mcds, mcd_samples_nro=mc_samples)"
   ],
   "outputs": []
  },
  {
   "cell_type": "code",
   "execution_count": 82,
   "metadata": {},
   "source": [
    "_, cs_unet_h_z_ws_soil_test_samples_np = get_dl_h_z(cs_unet_ws_soil_test_16mcds, mcd_samples_nro=mc_samples)"
   ],
   "outputs": []
  },
  {
   "cell_type": "code",
   "execution_count": 110,
   "metadata": {},
   "source": [
    "np.save('./Data/EXPERIMENTS/CVPR-2024/semantic_segmentation/unet/embeddings/cityscapes/entropy/cs_unet_h_z_cs_normal_train_samples_np',\n",
    "        cs_unet_h_z_cs_normal_train_samples_np)\n",
    "np.save('./Data/EXPERIMENTS/CVPR-2024/semantic_segmentation/unet/embeddings/cityscapes/entropy/cs_unet_h_z_cs_normal_valid_samples_np',\n",
    "        cs_unet_h_z_cs_normal_valid_samples_np)\n",
    "np.save('./Data/EXPERIMENTS/CVPR-2024/semantic_segmentation/unet/embeddings/cityscapes/entropy/cs_unet_h_z_cs_normal_test_samples_np',\n",
    "        cs_unet_h_z_cs_normal_test_samples_np)\n",
    "\n",
    "np.save('./Data/EXPERIMENTS/CVPR-2024/semantic_segmentation/unet/embeddings/cityscapes/entropy/cs_unet_h_z_cs_anomal_valid_samples_np',\n",
    "        cs_unet_h_z_cs_anomal_valid_samples_np)\n",
    "np.save('./Data/EXPERIMENTS/CVPR-2024/semantic_segmentation/unet/embeddings/cityscapes/entropy/cs_unet_h_z_cs_anomal_test_samples_np',\n",
    "        cs_unet_h_z_cs_anomal_test_samples_np)\n",
    "\n",
    "np.save('./Data/EXPERIMENTS/CVPR-2024/semantic_segmentation/unet/embeddings/cityscapes/entropy/cs_unet_h_z_ws_valid_samples_np',\n",
    "        cs_unet_h_z_ws_valid_samples_np)\n",
    "np.save('./Data/EXPERIMENTS/CVPR-2024/semantic_segmentation/unet/embeddings/cityscapes/entropy/cs_unet_h_z_ws_test_samples_np',\n",
    "        cs_unet_h_z_ws_test_samples_np)\n",
    "\n",
    "np.save('./Data/EXPERIMENTS/CVPR-2024/semantic_segmentation/unet/embeddings/cityscapes/entropy/cs_unet_h_z_ws_soil_valid_samples_np',\n",
    "        cs_unet_h_z_ws_soil_valid_samples_np)\n",
    "np.save('./Data/EXPERIMENTS/CVPR-2024/semantic_segmentation/unet/embeddings/cityscapes/entropy/cs_unet_h_z_ws_soil_test_samples_np',\n",
    "        cs_unet_h_z_ws_soil_test_samples_np)"
   ],
   "outputs": []
  },
  {
   "attachments": {},
   "cell_type": "markdown",
   "metadata": {},
   "source": [
    "# Load Entropy"
   ]
  },
  {
   "cell_type": "code",
   "execution_count": 46,
   "metadata": {},
   "source": [
    "cs_unet_h_z_cs_normal_train_samples_np = np.load('./Data/EXPERIMENTS/CVPR-2024/semantic_segmentation/unet/embeddings/cityscapes/entropy/cs_unet_h_z_cs_normal_train_samples_np.npy')\n",
    "cs_unet_h_z_cs_normal_valid_samples_np = np.load('./Data/EXPERIMENTS/CVPR-2024/semantic_segmentation/unet/embeddings/cityscapes/entropy/cs_unet_h_z_cs_normal_valid_samples_np.npy')\n",
    "cs_unet_h_z_cs_normal_test_samples_np = np.load('./Data/EXPERIMENTS/CVPR-2024/semantic_segmentation/unet/embeddings/cityscapes/entropy/cs_unet_h_z_cs_normal_test_samples_np.npy')\n",
    "\n",
    "cs_unet_h_z_cs_anomal_valid_samples_np = np.load('./Data/EXPERIMENTS/CVPR-2024/semantic_segmentation/unet/embeddings/cityscapes/entropy/cs_unet_h_z_cs_anomal_valid_samples_np.npy')\n",
    "cs_unet_h_z_cs_anomal_test_samples_np = np.load('./Data/EXPERIMENTS/CVPR-2024/semantic_segmentation/unet/embeddings/cityscapes/entropy/cs_unet_h_z_cs_anomal_test_samples_np.npy')\n",
    "\n",
    "cs_unet_h_z_ws_valid_samples_np = np.load('./Data/EXPERIMENTS/CVPR-2024/semantic_segmentation/unet/embeddings/cityscapes/entropy/cs_unet_h_z_ws_valid_samples_np.npy')\n",
    "cs_unet_h_z_ws_test_samples_np = np.load('./Data/EXPERIMENTS/CVPR-2024/semantic_segmentation/unet/embeddings/cityscapes/entropy/cs_unet_h_z_ws_test_samples_np.npy')\n",
    "\n",
    "cs_unet_h_z_ws_soil_valid_samples_np = np.load('./Data/EXPERIMENTS/CVPR-2024/semantic_segmentation/unet/embeddings/cityscapes/entropy/cs_unet_h_z_ws_soil_valid_samples_np.npy')\n",
    "cs_unet_h_z_ws_soil_test_samples_np = np.load('./Data/EXPERIMENTS/CVPR-2024/semantic_segmentation/unet/embeddings/cityscapes/entropy/cs_unet_h_z_ws_soil_test_samples_np.npy')"
   ],
   "outputs": []
  }
 ],
 "metadata": {
  "kernelspec": {
   "display_name": "Semantic_Segmentation",
   "language": "python",
   "name": "python3"
  },
  "language_info": {
   "codemirror_mode": {
    "name": "ipython",
    "version": 3
   },
   "file_extension": ".py",
   "mimetype": "text/x-python",
   "name": "python",
   "nbconvert_exporter": "python",
   "pygments_lexer": "ipython3",
   "version": "3.7.5"
  },
  "orig_nbformat": 4
 },
 "nbformat": 4,
 "nbformat_minor": 2
}
